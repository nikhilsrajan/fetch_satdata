{
 "cells": [
  {
   "cell_type": "code",
   "execution_count": 1,
   "metadata": {},
   "outputs": [],
   "source": [
    "import os\n",
    "import matplotlib.pyplot as plt\n",
    "import seaborn as sns\n",
    "import pandas as pd\n",
    "import geopandas as gpd\n",
    "import numpy as np"
   ]
  },
  {
   "cell_type": "code",
   "execution_count": 2,
   "metadata": {},
   "outputs": [],
   "source": [
    "import sys\n",
    "sys.path.append('..')"
   ]
  },
  {
   "cell_type": "code",
   "execution_count": 3,
   "metadata": {},
   "outputs": [
    {
     "name": "stderr",
     "output_type": "stream",
     "text": [
      "/Users/nikhilsrajan/NASA-Harvest/project/fetch_satdata/.venv/lib/python3.10/site-packages/tqdm/auto.py:21: TqdmWarning: IProgress not found. Please update jupyter and ipywidgets. See https://ipywidgets.readthedocs.io/en/stable/user_install.html\n",
      "  from .autonotebook import tqdm as notebook_tqdm\n"
     ]
    }
   ],
   "source": [
    "import sshutils\n",
    "import mysecrets\n",
    "import sqlite_db_utils\n",
    "import rsutils.s2_grid_utils"
   ]
  },
  {
   "cell_type": "code",
   "execution_count": 4,
   "metadata": {},
   "outputs": [],
   "source": [
    "LOCAL_DATACUBE_FOLDERPATH = '../data/datacubes'"
   ]
  },
  {
   "cell_type": "code",
   "execution_count": 5,
   "metadata": {},
   "outputs": [
    {
     "name": "stdout",
     "output_type": "stream",
     "text": [
      "wal and shm files downloaded\n"
     ]
    }
   ],
   "source": [
    "LOCAL_DATACUBE_CATALOG_DB_PATH = sshutils.download_file_from_cluster(\n",
    "    sshcreds = mysecrets.SSH_UMD,\n",
    "    remotepath = '/gpfs/data1/cmongp2/sasirajann/fetch_satdata/data/datacubes/catalog.db',\n",
    "    download_folderpath = LOCAL_DATACUBE_FOLDERPATH,\n",
    "    overwrite = True,\n",
    ")\n",
    "\n",
    "try:\n",
    "    sshutils.download_file_from_cluster(\n",
    "        sshcreds = mysecrets.SSH_UMD,\n",
    "        remotepath = '/gpfs/data1/cmongp2/sasirajann/fetch_satdata/data/datacubes/catalog.db-shm',\n",
    "        download_folderpath = LOCAL_DATACUBE_FOLDERPATH,\n",
    "        overwrite = True,\n",
    "    )\n",
    "    sshutils.download_file_from_cluster(\n",
    "        sshcreds = mysecrets.SSH_UMD,\n",
    "        remotepath = '/gpfs/data1/cmongp2/sasirajann/fetch_satdata/data/datacubes/catalog.db-wal',\n",
    "        download_folderpath = LOCAL_DATACUBE_FOLDERPATH,\n",
    "        overwrite = True,\n",
    "    )\n",
    "    print('wal and shm files downloaded')\n",
    "except Exception as e:\n",
    "    raise e"
   ]
  },
  {
   "cell_type": "code",
   "execution_count": 6,
   "metadata": {},
   "outputs": [
    {
     "data": {
      "text/plain": [
       "['sentinel-2-l2a']"
      ]
     },
     "execution_count": 6,
     "metadata": {},
     "output_type": "execute_result"
    }
   ],
   "source": [
    "sqlite_db_utils.get_tables_in_db(\n",
    "    database = LOCAL_DATACUBE_CATALOG_DB_PATH,\n",
    ")"
   ]
  },
  {
   "cell_type": "code",
   "execution_count": 7,
   "metadata": {},
   "outputs": [],
   "source": [
    "s2l2a_datacube_catalog_gdf = sqlite_db_utils.fetch_rows_from_db(\n",
    "    database = LOCAL_DATACUBE_CATALOG_DB_PATH,\n",
    "    table = 'sentinel-2-l2a',\n",
    "    timestamp_cols = ['last_update', 'startdate', 'enddate']\n",
    ")"
   ]
  },
  {
   "cell_type": "code",
   "execution_count": 8,
   "metadata": {},
   "outputs": [
    {
     "data": {
      "text/html": [
       "<div>\n",
       "<style scoped>\n",
       "    .dataframe tbody tr th:only-of-type {\n",
       "        vertical-align: middle;\n",
       "    }\n",
       "\n",
       "    .dataframe tbody tr th {\n",
       "        vertical-align: top;\n",
       "    }\n",
       "\n",
       "    .dataframe thead th {\n",
       "        text-align: right;\n",
       "    }\n",
       "</style>\n",
       "<table border=\"1\" class=\"dataframe\">\n",
       "  <thead>\n",
       "    <tr style=\"text-align: right;\">\n",
       "      <th></th>\n",
       "      <th>id</th>\n",
       "      <th>roi</th>\n",
       "      <th>startdate</th>\n",
       "      <th>enddate</th>\n",
       "      <th>config_id</th>\n",
       "      <th>local_folderpath</th>\n",
       "      <th>files</th>\n",
       "      <th>last_update</th>\n",
       "    </tr>\n",
       "  </thead>\n",
       "  <tbody>\n",
       "    <tr>\n",
       "      <th>12803</th>\n",
       "      <td>s2grid=164b2dc_20190305T075733_20200129T075728_1</td>\n",
       "      <td>s2grid=164b2dc</td>\n",
       "      <td>2019-03-05 07:57:33.460000+00:00</td>\n",
       "      <td>2020-01-29 07:57:28.076000+00:00</td>\n",
       "      <td>1</td>\n",
       "      <td>/gpfs/data1/cmongp2/sasirajann/fetch_satdata/d...</td>\n",
       "      <td>datacube.npy,metadata.pickle.npy,mean_sun_angl...</td>\n",
       "      <td>2025-03-14 13:09:43.505000+00:00</td>\n",
       "    </tr>\n",
       "    <tr>\n",
       "      <th>12804</th>\n",
       "      <td>s2grid=17b4cec_20210304T075734_20220128T075732_1</td>\n",
       "      <td>s2grid=17b4cec</td>\n",
       "      <td>2021-03-04 07:57:34.807000+00:00</td>\n",
       "      <td>2022-01-28 07:57:32.287000+00:00</td>\n",
       "      <td>1</td>\n",
       "      <td>/gpfs/data1/cmongp2/sasirajann/fetch_satdata/d...</td>\n",
       "      <td>datacube.npy,metadata.pickle.npy,mean_sun_angl...</td>\n",
       "      <td>2025-03-14 13:10:05.807000+00:00</td>\n",
       "    </tr>\n",
       "    <tr>\n",
       "      <th>12805</th>\n",
       "      <td>s2grid=165001c_20190303T080648_20200127T080704_1</td>\n",
       "      <td>s2grid=165001c</td>\n",
       "      <td>2019-03-03 08:06:48.785000+00:00</td>\n",
       "      <td>2020-01-27 08:07:04.521000+00:00</td>\n",
       "      <td>1</td>\n",
       "      <td>/gpfs/data1/cmongp2/sasirajann/fetch_satdata/d...</td>\n",
       "      <td>datacube.npy,metadata.pickle.npy,mean_sun_angl...</td>\n",
       "      <td>2025-03-14 13:10:14.380000+00:00</td>\n",
       "    </tr>\n",
       "    <tr>\n",
       "      <th>12806</th>\n",
       "      <td>s2grid=17b4cf4_20210304T075734_20220128T075747_1</td>\n",
       "      <td>s2grid=17b4cf4</td>\n",
       "      <td>2021-03-04 07:57:34.807000+00:00</td>\n",
       "      <td>2022-01-28 07:57:47.121000+00:00</td>\n",
       "      <td>1</td>\n",
       "      <td>/gpfs/data1/cmongp2/sasirajann/fetch_satdata/d...</td>\n",
       "      <td>datacube.npy,metadata.pickle.npy,mean_sun_angl...</td>\n",
       "      <td>2025-03-14 13:12:32.512000+00:00</td>\n",
       "    </tr>\n",
       "    <tr>\n",
       "      <th>12807</th>\n",
       "      <td>s2grid=1650014_20190303T080648_20200127T080704_1</td>\n",
       "      <td>s2grid=1650014</td>\n",
       "      <td>2019-03-03 08:06:48.785000+00:00</td>\n",
       "      <td>2020-01-27 08:07:04.521000+00:00</td>\n",
       "      <td>1</td>\n",
       "      <td>/gpfs/data1/cmongp2/sasirajann/fetch_satdata/d...</td>\n",
       "      <td>datacube.npy,metadata.pickle.npy,mean_sun_angl...</td>\n",
       "      <td>2025-03-14 13:15:05.752000+00:00</td>\n",
       "    </tr>\n",
       "  </tbody>\n",
       "</table>\n",
       "</div>"
      ],
      "text/plain": [
       "                                                     id             roi  \\\n",
       "12803  s2grid=164b2dc_20190305T075733_20200129T075728_1  s2grid=164b2dc   \n",
       "12804  s2grid=17b4cec_20210304T075734_20220128T075732_1  s2grid=17b4cec   \n",
       "12805  s2grid=165001c_20190303T080648_20200127T080704_1  s2grid=165001c   \n",
       "12806  s2grid=17b4cf4_20210304T075734_20220128T075747_1  s2grid=17b4cf4   \n",
       "12807  s2grid=1650014_20190303T080648_20200127T080704_1  s2grid=1650014   \n",
       "\n",
       "                             startdate                          enddate  \\\n",
       "12803 2019-03-05 07:57:33.460000+00:00 2020-01-29 07:57:28.076000+00:00   \n",
       "12804 2021-03-04 07:57:34.807000+00:00 2022-01-28 07:57:32.287000+00:00   \n",
       "12805 2019-03-03 08:06:48.785000+00:00 2020-01-27 08:07:04.521000+00:00   \n",
       "12806 2021-03-04 07:57:34.807000+00:00 2022-01-28 07:57:47.121000+00:00   \n",
       "12807 2019-03-03 08:06:48.785000+00:00 2020-01-27 08:07:04.521000+00:00   \n",
       "\n",
       "       config_id                                   local_folderpath  \\\n",
       "12803          1  /gpfs/data1/cmongp2/sasirajann/fetch_satdata/d...   \n",
       "12804          1  /gpfs/data1/cmongp2/sasirajann/fetch_satdata/d...   \n",
       "12805          1  /gpfs/data1/cmongp2/sasirajann/fetch_satdata/d...   \n",
       "12806          1  /gpfs/data1/cmongp2/sasirajann/fetch_satdata/d...   \n",
       "12807          1  /gpfs/data1/cmongp2/sasirajann/fetch_satdata/d...   \n",
       "\n",
       "                                                   files  \\\n",
       "12803  datacube.npy,metadata.pickle.npy,mean_sun_angl...   \n",
       "12804  datacube.npy,metadata.pickle.npy,mean_sun_angl...   \n",
       "12805  datacube.npy,metadata.pickle.npy,mean_sun_angl...   \n",
       "12806  datacube.npy,metadata.pickle.npy,mean_sun_angl...   \n",
       "12807  datacube.npy,metadata.pickle.npy,mean_sun_angl...   \n",
       "\n",
       "                           last_update  \n",
       "12803 2025-03-14 13:09:43.505000+00:00  \n",
       "12804 2025-03-14 13:10:05.807000+00:00  \n",
       "12805 2025-03-14 13:10:14.380000+00:00  \n",
       "12806 2025-03-14 13:12:32.512000+00:00  \n",
       "12807 2025-03-14 13:15:05.752000+00:00  "
      ]
     },
     "execution_count": 8,
     "metadata": {},
     "output_type": "execute_result"
    }
   ],
   "source": [
    "s2l2a_datacube_catalog_gdf.tail()"
   ]
  },
  {
   "cell_type": "code",
   "execution_count": null,
   "metadata": {},
   "outputs": [],
   "source": [
    "s2l2a_datacube_catalog_gdf[s2l2a_datacube_catalog_gdf['roi'] == 's2grid=17b4eec']"
   ]
  },
  {
   "cell_type": "code",
   "execution_count": null,
   "metadata": {},
   "outputs": [],
   "source": [
    "scale = 5\n",
    "aspect_ratio = 3\n",
    "fig, ax = plt.subplots(figsize=(scale*aspect_ratio, scale))\n",
    "\n",
    "filtered_s2l2a_datacube_catalog_gdf = s2l2a_datacube_catalog_gdf[\n",
    "    (s2l2a_datacube_catalog_gdf['roi'].str.startswith('s2grid=')) &\n",
    "    (s2l2a_datacube_catalog_gdf['last_update'] > pd.Timestamp(2024, 2, 25, tz='UTC'))\n",
    "]\n",
    "\n",
    "g = sns.histplot(\n",
    "    ax = ax,\n",
    "    data = filtered_s2l2a_datacube_catalog_gdf,\n",
    "    x = 'last_update',\n",
    "    bins = 100,\n",
    ")"
   ]
  },
  {
   "cell_type": "code",
   "execution_count": null,
   "metadata": {},
   "outputs": [],
   "source": [
    "d = 50\n",
    "\n",
    "last_updates = filtered_s2l2a_datacube_catalog_gdf['last_update'].sort_values().to_numpy()\n",
    "t_deltas = np.array([\n",
    "    (last_updates[i+d] - last_updates[i]).total_seconds()\n",
    "    for i in range(0, last_updates.shape[0]-d)\n",
    "])\n",
    "\n",
    "print('shape =', t_deltas.shape)\n",
    "print('min =', t_deltas.min())\n",
    "print('max =', t_deltas.max())"
   ]
  },
  {
   "cell_type": "code",
   "execution_count": null,
   "metadata": {},
   "outputs": [],
   "source": [
    "scale = 5\n",
    "aspect_ratio = 3\n",
    "fig, ax = plt.subplots(figsize=(scale*aspect_ratio, scale))\n",
    "\n",
    "g = sns.lineplot(\n",
    "    ax = ax,\n",
    "    data = {\n",
    "        'index': list(range(t_deltas.shape[0])),\n",
    "        't_deltas': t_deltas,\n",
    "        'datacubes per second': d / t_deltas,\n",
    "        'last_update': last_updates[:t_deltas.shape[0]]\n",
    "    },\n",
    "    y = 'datacubes per second',\n",
    "    # x = 'index'\n",
    "    x = 'last_update',\n",
    "\n",
    ")\n",
    "g.grid()\n",
    "g.set_title(f'Datacube creation rate (d={d})')"
   ]
  },
  {
   "cell_type": "code",
   "execution_count": null,
   "metadata": {},
   "outputs": [],
   "source": [
    "s2grids_datacubes_present = s2l2a_datacube_catalog_gdf[\n",
    "    s2l2a_datacube_catalog_gdf['roi'].str.startswith('s2grid=')\n",
    "]['roi'].str.removeprefix('s2grid=').unique()\n",
    "\n",
    "s2grids_datacubes_present"
   ]
  },
  {
   "cell_type": "code",
   "execution_count": null,
   "metadata": {},
   "outputs": [],
   "source": [
    "gpd.GeoDataFrame(\n",
    "    data = {\n",
    "        's2grid': s2grids_datacubes_present,\n",
    "        'geometry': [\n",
    "            rsutils.s2_grid_utils.get_grid_geometry_from_id(grid_id=grid_id)\n",
    "            for grid_id in s2grids_datacubes_present\n",
    "        ],\n",
    "    },\n",
    "    crs = 'epsg:4326'\n",
    ").to_file('../data/ethiopia/s2grids_with_datacubes.geojson')"
   ]
  },
  {
   "cell_type": "code",
   "execution_count": null,
   "metadata": {},
   "outputs": [],
   "source": [
    "s2l2a_datacube_catalog_gdf['local_folderpath'].to_list()[-1]"
   ]
  },
  {
   "cell_type": "markdown",
   "metadata": {},
   "source": [
    "### Get failed rois"
   ]
  },
  {
   "cell_type": "code",
   "execution_count": null,
   "metadata": {},
   "outputs": [],
   "source": [
    "with open('../data/ethiopia/inference_rois_except_wolayita.txt') as f:\n",
    "    inference_rois = [l[:-1] for l in f.readlines()]\n",
    "\n",
    "len(inference_rois)"
   ]
  },
  {
   "cell_type": "code",
   "execution_count": null,
   "metadata": {},
   "outputs": [],
   "source": [
    "s2l2a_datacube_catalog_gdf[s2l2a_datacube_catalog_gdf['roi'].isin(inference_rois)].to_csv('../data/ethiopia/model_deploy_input_exceptwolayita_2019-2021.csv', index=False)"
   ]
  },
  {
   "cell_type": "code",
   "execution_count": null,
   "metadata": {},
   "outputs": [],
   "source": [
    "year_failed_rois_dict = dict()\n",
    "\n",
    "for year in [2019, 2020, 2021]:\n",
    "    year_failed_rois_dict[year] = set(inference_rois) - set(s2l2a_datacube_catalog_gdf[\n",
    "        (s2l2a_datacube_catalog_gdf['startdate'] > pd.Timestamp(year, 3, 1, tz='UTC')) &\n",
    "        (s2l2a_datacube_catalog_gdf['startdate'] < pd.Timestamp(year, 3, 10, tz='UTC'))\n",
    "    ]['roi'])\n",
    "\n",
    "year_failed_rois_dict"
   ]
  },
  {
   "cell_type": "code",
   "execution_count": null,
   "metadata": {},
   "outputs": [],
   "source": []
  },
  {
   "cell_type": "code",
   "execution_count": null,
   "metadata": {},
   "outputs": [],
   "source": [
    "def s2grids_list_to_gdf(\n",
    "    s2gridids:list[str],\n",
    "):\n",
    "    data = {\n",
    "        's2gridid': [],\n",
    "        'geometry': [],\n",
    "    }\n",
    "    for s2gridid in s2gridids:\n",
    "        geometry = rsutils.s2_grid_utils.get_grid_geometry_from_id(s2gridid)\n",
    "        data['s2gridid'].append(s2gridid)\n",
    "        data['geometry'].append(geometry)\n",
    "\n",
    "    return gpd.GeoDataFrame(data=data, crs='epsg:4326')"
   ]
  },
  {
   "cell_type": "code",
   "execution_count": null,
   "metadata": {},
   "outputs": [],
   "source": [
    "with open('../data/ethiopia/inference_rois.txt') as f:\n",
    "    s2gridids = [line[:-1].removeprefix('s2grid=') for line in f.readlines()]\n",
    "\n",
    "s2grids_list_to_gdf(s2gridids = s2gridids).to_file('../data/ethiopia/inference_rois.geojson')"
   ]
  },
  {
   "cell_type": "code",
   "execution_count": null,
   "metadata": {},
   "outputs": [],
   "source": []
  },
  {
   "cell_type": "code",
   "execution_count": null,
   "metadata": {},
   "outputs": [],
   "source": []
  },
  {
   "cell_type": "code",
   "execution_count": null,
   "metadata": {},
   "outputs": [],
   "source": [
    "data = {\n",
    "    'year': [],\n",
    "    's2gridid': [],\n",
    "    'geometry': [],\n",
    "}\n",
    "\n",
    "for year, rois in year_failed_rois_dict.items():\n",
    "    for roi in rois:\n",
    "        s2gridid = roi.removeprefix('s2grid=')\n",
    "        geometry = rsutils.s2_grid_utils.get_grid_geometry_from_id(s2gridid)\n",
    "        data['year'].append(year)\n",
    "        data['s2gridid'].append(s2gridid)\n",
    "        data['geometry'].append(geometry)\n",
    "\n",
    "failed_rois_gdf = gpd.GeoDataFrame(data=data, crs='epsg:4326')\n",
    "failed_rois_gdf.to_file('../data/ethiopia/failed_s2grids.geojson')"
   ]
  },
  {
   "cell_type": "markdown",
   "metadata": {},
   "source": [
    "### Checking failed datacubes"
   ]
  },
  {
   "cell_type": "code",
   "execution_count": null,
   "metadata": {},
   "outputs": [],
   "source": [
    "inputs_df = pd.read_csv('../data/ethiopia/inference2019_wolayita2020-2021_s2l2a_datacube_input.csv')\n",
    "inputs_df['startdate'] = inputs_df['startdate'].apply(sqlite_db_utils.str_to_ts)\n",
    "inputs_df['enddate'] = inputs_df['enddate'].apply(sqlite_db_utils.str_to_ts)"
   ]
  },
  {
   "cell_type": "code",
   "execution_count": null,
   "metadata": {},
   "outputs": [],
   "source": [
    "failed_indexes = list(set(zip(\n",
    "    inputs_df['roi'],\n",
    "    inputs_df['startdate'],\n",
    "    inputs_df['enddate'],\n",
    "    inputs_df['config_id'],\n",
    ")) - set(zip(\n",
    "    s2l2a_datacube_catalog_gdf['roi'],\n",
    "    s2l2a_datacube_catalog_gdf['startdate'],\n",
    "    s2l2a_datacube_catalog_gdf['enddate'],\n",
    "    s2l2a_datacube_catalog_gdf['config_id'],\n",
    ")))\n",
    "failed_indexes"
   ]
  },
  {
   "cell_type": "code",
   "execution_count": null,
   "metadata": {},
   "outputs": [],
   "source": [
    "failed_inputs_df = \\\n",
    "inputs_df.set_index([\n",
    "    'roi',\n",
    "    'startdate',\n",
    "    'enddate',\n",
    "    'config_id',\n",
    "]).loc[failed_indexes].reset_index()"
   ]
  },
  {
   "cell_type": "code",
   "execution_count": null,
   "metadata": {},
   "outputs": [],
   "source": [
    "def get_shapes_gdf(roi:str):\n",
    "    geom_type, geom_id = roi.split('=')\n",
    "    if geom_type not in ['s2grid', 'geom']:\n",
    "        raise ValueError(f'Invalid roi={roi}. roi must start with s2grid= or geom=')\n",
    "    \n",
    "    if geom_type == 's2grid':\n",
    "        geom = rsutils.s2_grid_utils.get_grid_geometry_from_id(grid_id = geom_id)\n",
    "    else:\n",
    "        raise NotImplementedError()\n",
    "\n",
    "    shapes_gdf = gpd.GeoDataFrame(\n",
    "        data = {'geometry': [geom]},\n",
    "        crs = 'epsg:4326',\n",
    "    )\n",
    "\n",
    "    return shapes_gdf"
   ]
  },
  {
   "cell_type": "code",
   "execution_count": null,
   "metadata": {},
   "outputs": [],
   "source": [
    "failed_inputs_df['geometry'] = failed_inputs_df['roi'].apply(lambda x: get_shapes_gdf(x)['geometry'][0])"
   ]
  },
  {
   "cell_type": "code",
   "execution_count": null,
   "metadata": {},
   "outputs": [],
   "source": [
    "failed_inputs_gdf = gpd.GeoDataFrame(failed_inputs_df, crs='epsg:4326')"
   ]
  },
  {
   "cell_type": "code",
   "execution_count": null,
   "metadata": {},
   "outputs": [],
   "source": [
    "failed_inputs_gdf.to_file('../data/ethiopia/failed_inputs.geojson')"
   ]
  },
  {
   "cell_type": "markdown",
   "metadata": {},
   "source": [
    "### Creating training datacube ids list"
   ]
  },
  {
   "cell_type": "code",
   "execution_count": null,
   "metadata": {},
   "outputs": [],
   "source": [
    "with open('../data/ethiopia/training_datacube_ids.txt', 'w') as f:\n",
    "    for _id in s2l2a_datacube_catalog_gdf[s2l2a_datacube_catalog_gdf['id'].str.startswith('geom=')]['id']:\n",
    "        f.write(f'{_id}\\n')"
   ]
  },
  {
   "cell_type": "markdown",
   "metadata": {},
   "source": [
    "### Creating crops.npy"
   ]
  },
  {
   "cell_type": "code",
   "execution_count": null,
   "metadata": {},
   "outputs": [],
   "source": [
    "import numpy as np\n",
    "import geopandas as gpd"
   ]
  },
  {
   "cell_type": "code",
   "execution_count": null,
   "metadata": {},
   "outputs": [],
   "source": [
    "data = np.load('../data/ethiopia/s2l2a_training_data/data.npy')\n",
    "ids = np.load('../data/ethiopia/s2l2a_training_data/ids.npy', allow_pickle=True)[()]"
   ]
  },
  {
   "cell_type": "code",
   "execution_count": null,
   "metadata": {},
   "outputs": [],
   "source": [
    "data.shape"
   ]
  },
  {
   "cell_type": "code",
   "execution_count": null,
   "metadata": {},
   "outputs": [],
   "source": [
    "training_data_gdf = gpd.read_file('../data/ethiopia/normalised/combined.geojson')"
   ]
  },
  {
   "cell_type": "code",
   "execution_count": null,
   "metadata": {},
   "outputs": [],
   "source": [
    "ids[0].split('=')[1].split('_')[:-3]"
   ]
  },
  {
   "cell_type": "code",
   "execution_count": null,
   "metadata": {},
   "outputs": [],
   "source": [
    "training_data_gdf['id']"
   ]
  },
  {
   "cell_type": "code",
   "execution_count": null,
   "metadata": {},
   "outputs": [],
   "source": [
    "id_crop_dict = dict(zip(\n",
    "    training_data_gdf['id'],\n",
    "    training_data_gdf['c_class'],\n",
    "))"
   ]
  },
  {
   "cell_type": "code",
   "execution_count": null,
   "metadata": {},
   "outputs": [],
   "source": [
    "crops = []\n",
    "for _id in ids:\n",
    "    _id = '_'.join(_id.split('=')[1].split('_')[:-3])\n",
    "    crops.append(id_crop_dict[_id])\n",
    "\n",
    "crops = np.array(crops)"
   ]
  },
  {
   "cell_type": "code",
   "execution_count": null,
   "metadata": {},
   "outputs": [],
   "source": [
    "np.save('../data/ethiopia/s2l2a_training_data/crops.npy', crops)"
   ]
  },
  {
   "cell_type": "code",
   "execution_count": null,
   "metadata": {},
   "outputs": [],
   "source": []
  },
  {
   "cell_type": "code",
   "execution_count": null,
   "metadata": {},
   "outputs": [],
   "source": []
  }
 ],
 "metadata": {
  "kernelspec": {
   "display_name": ".venv",
   "language": "python",
   "name": "python3"
  },
  "language_info": {
   "codemirror_mode": {
    "name": "ipython",
    "version": 3
   },
   "file_extension": ".py",
   "mimetype": "text/x-python",
   "name": "python",
   "nbconvert_exporter": "python",
   "pygments_lexer": "ipython3",
   "version": "3.10.14"
  }
 },
 "nbformat": 4,
 "nbformat_minor": 2
}

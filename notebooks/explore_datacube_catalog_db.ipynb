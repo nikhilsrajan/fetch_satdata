{
 "cells": [
  {
   "cell_type": "code",
   "execution_count": null,
   "metadata": {},
   "outputs": [],
   "source": [
    "import os\n",
    "import matplotlib.pyplot as plt\n",
    "import seaborn as sns\n",
    "import pandas as pd\n",
    "import geopandas as gpd"
   ]
  },
  {
   "cell_type": "code",
   "execution_count": null,
   "metadata": {},
   "outputs": [],
   "source": [
    "import sys\n",
    "sys.path.append('..')"
   ]
  },
  {
   "cell_type": "code",
   "execution_count": null,
   "metadata": {},
   "outputs": [],
   "source": [
    "import sshutils\n",
    "import mysecrets\n",
    "import sqlite_db_utils\n",
    "import rsutils.s2_grid_utils"
   ]
  },
  {
   "cell_type": "code",
   "execution_count": null,
   "metadata": {},
   "outputs": [],
   "source": [
    "LOCAL_DATACUBE_CATALOG_DB_PATH = '../data/datacubes/catalog.db'"
   ]
  },
  {
   "cell_type": "code",
   "execution_count": null,
   "metadata": {},
   "outputs": [],
   "source": [
    "sshutils.download_file_from_cluster(\n",
    "    sshcreds = mysecrets.SSH_UMD,\n",
    "    remotepath = '/gpfs/data1/cmongp2/sasirajann/fetch_satdata/data/datacubes/catalog.db',\n",
    "    download_filepath = LOCAL_DATACUBE_CATALOG_DB_PATH,\n",
    "    overwrite = True,\n",
    ")"
   ]
  },
  {
   "cell_type": "code",
   "execution_count": null,
   "metadata": {},
   "outputs": [],
   "source": [
    "sqlite_db_utils.get_tables_in_db(\n",
    "    database = LOCAL_DATACUBE_CATALOG_DB_PATH,\n",
    ")"
   ]
  },
  {
   "cell_type": "code",
   "execution_count": null,
   "metadata": {},
   "outputs": [],
   "source": [
    "s2l2a_datacube_catalog_gdf = sqlite_db_utils.fetch_rows_from_db(\n",
    "    database = LOCAL_DATACUBE_CATALOG_DB_PATH,\n",
    "    table = 'sentinel-2-l2a',\n",
    "    timestamp_cols = ['last_update', 'startdate', 'enddate']\n",
    ")"
   ]
  },
  {
   "cell_type": "code",
   "execution_count": null,
   "metadata": {},
   "outputs": [],
   "source": [
    "scale = 5\n",
    "aspect_ratio = 3\n",
    "fig, ax = plt.subplots(figsize=(scale*aspect_ratio, scale))\n",
    "\n",
    "g = sns.histplot(\n",
    "    ax = ax,\n",
    "    data = s2l2a_datacube_catalog_gdf[\n",
    "        s2l2a_datacube_catalog_gdf['last_update'] > pd.Timestamp(2025, 2, 24, tz='UTC')\n",
    "    ],\n",
    "    x = 'last_update',\n",
    "    bins = 100,\n",
    ")"
   ]
  },
  {
   "cell_type": "markdown",
   "metadata": {},
   "source": [
    "### Checking failed datacubes"
   ]
  },
  {
   "cell_type": "code",
   "execution_count": null,
   "metadata": {},
   "outputs": [],
   "source": [
    "inputs_df = pd.read_csv('../data/ethiopia/inference2019_wolayita2020-2021_s2l2a_datacube_input.csv')\n",
    "inputs_df['startdate'] = inputs_df['startdate'].apply(sqlite_db_utils.str_to_ts)\n",
    "inputs_df['enddate'] = inputs_df['enddate'].apply(sqlite_db_utils.str_to_ts)"
   ]
  },
  {
   "cell_type": "code",
   "execution_count": null,
   "metadata": {},
   "outputs": [],
   "source": [
    "failed_indexes = list(set(zip(\n",
    "    inputs_df['roi'],\n",
    "    inputs_df['startdate'],\n",
    "    inputs_df['enddate'],\n",
    "    inputs_df['config_id'],\n",
    ")) - set(zip(\n",
    "    s2l2a_datacube_catalog_gdf['roi'],\n",
    "    s2l2a_datacube_catalog_gdf['startdate'],\n",
    "    s2l2a_datacube_catalog_gdf['enddate'],\n",
    "    s2l2a_datacube_catalog_gdf['config_id'],\n",
    ")))\n",
    "failed_indexes"
   ]
  },
  {
   "cell_type": "code",
   "execution_count": null,
   "metadata": {},
   "outputs": [],
   "source": [
    "failed_inputs_df = \\\n",
    "inputs_df.set_index([\n",
    "    'roi',\n",
    "    'startdate',\n",
    "    'enddate',\n",
    "    'config_id',\n",
    "]).loc[failed_indexes].reset_index()"
   ]
  },
  {
   "cell_type": "code",
   "execution_count": null,
   "metadata": {},
   "outputs": [],
   "source": [
    "def get_shapes_gdf(roi:str):\n",
    "    geom_type, geom_id = roi.split('=')\n",
    "    if geom_type not in ['s2grid', 'geom']:\n",
    "        raise ValueError(f'Invalid roi={roi}. roi must start with s2grid= or geom=')\n",
    "    \n",
    "    if geom_type == 's2grid':\n",
    "        geom = rsutils.s2_grid_utils.get_grid_geometry_from_id(grid_id = geom_id)\n",
    "    else:\n",
    "        raise NotImplementedError()\n",
    "\n",
    "    shapes_gdf = gpd.GeoDataFrame(\n",
    "        data = {'geometry': [geom]},\n",
    "        crs = 'epsg:4326',\n",
    "    )\n",
    "\n",
    "    return shapes_gdf"
   ]
  },
  {
   "cell_type": "code",
   "execution_count": null,
   "metadata": {},
   "outputs": [],
   "source": [
    "failed_inputs_df['geometry'] = failed_inputs_df['roi'].apply(lambda x: get_shapes_gdf(x)['geometry'][0])"
   ]
  },
  {
   "cell_type": "code",
   "execution_count": null,
   "metadata": {},
   "outputs": [],
   "source": [
    "failed_inputs_gdf = gpd.GeoDataFrame(failed_inputs_df, crs='epsg:4326')"
   ]
  },
  {
   "cell_type": "code",
   "execution_count": null,
   "metadata": {},
   "outputs": [],
   "source": [
    "failed_inputs_gdf.to_file('../data/ethiopia/failed_inputs.geojson')"
   ]
  },
  {
   "cell_type": "markdown",
   "metadata": {},
   "source": [
    "### Creating training datacube ids list"
   ]
  },
  {
   "cell_type": "code",
   "execution_count": null,
   "metadata": {},
   "outputs": [],
   "source": [
    "with open('../data/ethiopia/training_datacube_ids.txt', 'w') as f:\n",
    "    for _id in s2l2a_datacube_catalog_gdf[s2l2a_datacube_catalog_gdf['id'].str.startswith('geom=')]['id']:\n",
    "        f.write(f'{_id}\\n')"
   ]
  },
  {
   "cell_type": "markdown",
   "metadata": {},
   "source": [
    "### Creating crops.npy"
   ]
  },
  {
   "cell_type": "code",
   "execution_count": null,
   "metadata": {},
   "outputs": [],
   "source": [
    "import numpy as np\n",
    "import geopandas as gpd"
   ]
  },
  {
   "cell_type": "code",
   "execution_count": null,
   "metadata": {},
   "outputs": [],
   "source": [
    "data = np.load('../data/ethiopia/s2l2a_training_data/data.npy')\n",
    "ids = np.load('../data/ethiopia/s2l2a_training_data/ids.npy', allow_pickle=True)[()]"
   ]
  },
  {
   "cell_type": "code",
   "execution_count": null,
   "metadata": {},
   "outputs": [],
   "source": [
    "data.shape"
   ]
  },
  {
   "cell_type": "code",
   "execution_count": null,
   "metadata": {},
   "outputs": [],
   "source": [
    "training_data_gdf = gpd.read_file('../data/ethiopia/normalised/combined.geojson')"
   ]
  },
  {
   "cell_type": "code",
   "execution_count": null,
   "metadata": {},
   "outputs": [],
   "source": [
    "ids[0].split('=')[1].split('_')[:-3]"
   ]
  },
  {
   "cell_type": "code",
   "execution_count": null,
   "metadata": {},
   "outputs": [],
   "source": [
    "training_data_gdf['id']"
   ]
  },
  {
   "cell_type": "code",
   "execution_count": null,
   "metadata": {},
   "outputs": [],
   "source": [
    "id_crop_dict = dict(zip(\n",
    "    training_data_gdf['id'],\n",
    "    training_data_gdf['c_class'],\n",
    "))"
   ]
  },
  {
   "cell_type": "code",
   "execution_count": null,
   "metadata": {},
   "outputs": [],
   "source": [
    "crops = []\n",
    "for _id in ids:\n",
    "    _id = '_'.join(_id.split('=')[1].split('_')[:-3])\n",
    "    crops.append(id_crop_dict[_id])\n",
    "\n",
    "crops = np.array(crops)"
   ]
  },
  {
   "cell_type": "code",
   "execution_count": null,
   "metadata": {},
   "outputs": [],
   "source": [
    "np.save('../data/ethiopia/s2l2a_training_data/crops.npy', crops)"
   ]
  },
  {
   "cell_type": "code",
   "execution_count": null,
   "metadata": {},
   "outputs": [],
   "source": []
  },
  {
   "cell_type": "code",
   "execution_count": null,
   "metadata": {},
   "outputs": [],
   "source": []
  }
 ],
 "metadata": {
  "kernelspec": {
   "display_name": ".venv",
   "language": "python",
   "name": "python3"
  },
  "language_info": {
   "codemirror_mode": {
    "name": "ipython",
    "version": 3
   },
   "file_extension": ".py",
   "mimetype": "text/x-python",
   "name": "python",
   "nbconvert_exporter": "python",
   "pygments_lexer": "ipython3",
   "version": "3.10.14"
  }
 },
 "nbformat": 4,
 "nbformat_minor": 2
}

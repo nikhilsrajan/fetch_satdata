{
 "cells": [
  {
   "cell_type": "code",
   "execution_count": null,
   "metadata": {},
   "outputs": [],
   "source": [
    "import os\n",
    "import matplotlib.pyplot as plt\n",
    "import seaborn as sns\n",
    "import pandas as pd\n",
    "import geopandas as gpd\n",
    "import numpy as np"
   ]
  },
  {
   "cell_type": "code",
   "execution_count": null,
   "metadata": {},
   "outputs": [],
   "source": [
    "import sys\n",
    "sys.path.append('..')"
   ]
  },
  {
   "cell_type": "code",
   "execution_count": null,
   "metadata": {},
   "outputs": [],
   "source": [
    "import sshutils\n",
    "import mysecrets\n",
    "import sqlite_db_utils\n",
    "import rsutils.s2_grid_utils"
   ]
  },
  {
   "cell_type": "code",
   "execution_count": null,
   "metadata": {},
   "outputs": [],
   "source": [
    "LOCAL_DATACUBE_FOLDERPATH = '../data/datacubes'"
   ]
  },
  {
   "cell_type": "code",
   "execution_count": null,
   "metadata": {},
   "outputs": [],
   "source": [
    "LOCAL_DATACUBE_CATALOG_DB_PATH = sshutils.download_file_from_cluster(\n",
    "    sshcreds = mysecrets.SSH_UMD,\n",
    "    remotepath = '/gpfs/data1/cmongp2/sasirajann/fetch_satdata/data/datacubes/catalog.db',\n",
    "    download_folderpath = LOCAL_DATACUBE_FOLDERPATH,\n",
    "    overwrite = True,\n",
    ")\n",
    "\n",
    "try:\n",
    "    sshutils.download_file_from_cluster(\n",
    "        sshcreds = mysecrets.SSH_UMD,\n",
    "        remotepath = '/gpfs/data1/cmongp2/sasirajann/fetch_satdata/data/datacubes/catalog.db-shm',\n",
    "        download_folderpath = LOCAL_DATACUBE_FOLDERPATH,\n",
    "        overwrite = True,\n",
    "    )\n",
    "    sshutils.download_file_from_cluster(\n",
    "        sshcreds = mysecrets.SSH_UMD,\n",
    "        remotepath = '/gpfs/data1/cmongp2/sasirajann/fetch_satdata/data/datacubes/catalog.db-wal',\n",
    "        download_folderpath = LOCAL_DATACUBE_FOLDERPATH,\n",
    "        overwrite = True,\n",
    "    )\n",
    "    print('wal and shm files downloaded')\n",
    "except Exception as e:\n",
    "    raise e"
   ]
  },
  {
   "cell_type": "code",
   "execution_count": null,
   "metadata": {},
   "outputs": [],
   "source": [
    "sqlite_db_utils.get_tables_in_db(\n",
    "    database = LOCAL_DATACUBE_CATALOG_DB_PATH,\n",
    ")"
   ]
  },
  {
   "cell_type": "code",
   "execution_count": null,
   "metadata": {},
   "outputs": [],
   "source": [
    "s2l2a_datacube_catalog_gdf = sqlite_db_utils.fetch_rows_from_db(\n",
    "    database = LOCAL_DATACUBE_CATALOG_DB_PATH,\n",
    "    table = 'sentinel-2-l2a',\n",
    "    timestamp_cols = ['last_update', 'startdate', 'enddate']\n",
    ")"
   ]
  },
  {
   "cell_type": "code",
   "execution_count": null,
   "metadata": {},
   "outputs": [],
   "source": [
    "s2l2a_datacube_catalog_gdf.tail()"
   ]
  },
  {
   "cell_type": "code",
   "execution_count": null,
   "metadata": {},
   "outputs": [],
   "source": [
    "s2l2a_datacube_catalog_gdf[s2l2a_datacube_catalog_gdf['roi'] == 's2grid=17b4eec']"
   ]
  },
  {
   "cell_type": "code",
   "execution_count": null,
   "metadata": {},
   "outputs": [],
   "source": [
    "scale = 5\n",
    "aspect_ratio = 3\n",
    "fig, ax = plt.subplots(figsize=(scale*aspect_ratio, scale))\n",
    "\n",
    "filtered_s2l2a_datacube_catalog_gdf = s2l2a_datacube_catalog_gdf[\n",
    "    (s2l2a_datacube_catalog_gdf['roi'].str.startswith('s2grid=')) &\n",
    "    (s2l2a_datacube_catalog_gdf['last_update'] > pd.Timestamp(2024, 2, 25, tz='UTC'))\n",
    "]\n",
    "\n",
    "g = sns.histplot(\n",
    "    ax = ax,\n",
    "    data = filtered_s2l2a_datacube_catalog_gdf,\n",
    "    x = 'last_update',\n",
    "    bins = 100,\n",
    ")"
   ]
  },
  {
   "cell_type": "code",
   "execution_count": null,
   "metadata": {},
   "outputs": [],
   "source": [
    "d = 50\n",
    "\n",
    "last_updates = filtered_s2l2a_datacube_catalog_gdf['last_update'].sort_values().to_numpy()\n",
    "t_deltas = np.array([\n",
    "    (last_updates[i+d] - last_updates[i]).total_seconds()\n",
    "    for i in range(0, last_updates.shape[0]-d)\n",
    "])\n",
    "\n",
    "print('shape =', t_deltas.shape)\n",
    "print('min =', t_deltas.min())\n",
    "print('max =', t_deltas.max())"
   ]
  },
  {
   "cell_type": "code",
   "execution_count": null,
   "metadata": {},
   "outputs": [],
   "source": [
    "scale = 5\n",
    "aspect_ratio = 3\n",
    "fig, ax = plt.subplots(figsize=(scale*aspect_ratio, scale))\n",
    "\n",
    "g = sns.lineplot(\n",
    "    ax = ax,\n",
    "    data = {\n",
    "        'index': list(range(t_deltas.shape[0])),\n",
    "        't_deltas': t_deltas,\n",
    "        'datacubes per second': d / t_deltas,\n",
    "        'last_update': last_updates[:t_deltas.shape[0]]\n",
    "    },\n",
    "    y = 'datacubes per second',\n",
    "    # x = 'index'\n",
    "    x = 'last_update',\n",
    "\n",
    ")\n",
    "g.grid()\n",
    "g.set_title(f'Datacube creation rate (d={d})')"
   ]
  },
  {
   "cell_type": "code",
   "execution_count": null,
   "metadata": {},
   "outputs": [],
   "source": [
    "s2grids_datacubes_present = s2l2a_datacube_catalog_gdf[\n",
    "    s2l2a_datacube_catalog_gdf['roi'].str.startswith('s2grid=')\n",
    "]['roi'].str.removeprefix('s2grid=').unique()\n",
    "\n",
    "s2grids_datacubes_present"
   ]
  },
  {
   "cell_type": "code",
   "execution_count": null,
   "metadata": {},
   "outputs": [],
   "source": [
    "gpd.GeoDataFrame(\n",
    "    data = {\n",
    "        's2grid': s2grids_datacubes_present,\n",
    "        'geometry': [\n",
    "            rsutils.s2_grid_utils.get_grid_geometry_from_id(grid_id=grid_id)\n",
    "            for grid_id in s2grids_datacubes_present\n",
    "        ],\n",
    "    },\n",
    "    crs = 'epsg:4326'\n",
    ").to_file('../data/ethiopia/s2grids_with_datacubes.geojson')"
   ]
  },
  {
   "cell_type": "code",
   "execution_count": null,
   "metadata": {},
   "outputs": [],
   "source": [
    "s2l2a_datacube_catalog_gdf['local_folderpath'].to_list()[-1]"
   ]
  },
  {
   "cell_type": "markdown",
   "metadata": {},
   "source": [
    "### Get failed rois"
   ]
  },
  {
   "cell_type": "code",
   "execution_count": null,
   "metadata": {},
   "outputs": [],
   "source": [
    "with open('../data/ethiopia/inference_rois_except_wolayita.txt') as f:\n",
    "    inference_rois = [l[:-1] for l in f.readlines()]\n",
    "\n",
    "len(inference_rois)"
   ]
  },
  {
   "cell_type": "code",
   "execution_count": null,
   "metadata": {},
   "outputs": [],
   "source": [
    "s2l2a_datacube_catalog_gdf[s2l2a_datacube_catalog_gdf['roi'].isin(inference_rois)].to_csv('../data/ethiopia/model_deploy_input_exceptwolayita_2019-2021.csv', index=False)"
   ]
  },
  {
   "cell_type": "code",
   "execution_count": null,
   "metadata": {},
   "outputs": [],
   "source": [
    "year_failed_rois_dict = dict()\n",
    "\n",
    "for year in [2019, 2020, 2021]:\n",
    "    year_failed_rois_dict[year] = set(inference_rois) - set(s2l2a_datacube_catalog_gdf[\n",
    "        (s2l2a_datacube_catalog_gdf['startdate'] > pd.Timestamp(year, 3, 1, tz='UTC')) &\n",
    "        (s2l2a_datacube_catalog_gdf['startdate'] < pd.Timestamp(year, 3, 10, tz='UTC'))\n",
    "    ]['roi'])\n",
    "\n",
    "year_failed_rois_dict"
   ]
  },
  {
   "cell_type": "code",
   "execution_count": null,
   "metadata": {},
   "outputs": [],
   "source": []
  },
  {
   "cell_type": "code",
   "execution_count": null,
   "metadata": {},
   "outputs": [],
   "source": [
    "def s2grids_list_to_gdf(\n",
    "    s2gridids:list[str],\n",
    "):\n",
    "    data = {\n",
    "        's2gridid': [],\n",
    "        'geometry': [],\n",
    "    }\n",
    "    for s2gridid in s2gridids:\n",
    "        geometry = rsutils.s2_grid_utils.get_grid_geometry_from_id(s2gridid)\n",
    "        data['s2gridid'].append(s2gridid)\n",
    "        data['geometry'].append(geometry)\n",
    "\n",
    "    return gpd.GeoDataFrame(data=data, crs='epsg:4326')"
   ]
  },
  {
   "cell_type": "code",
   "execution_count": null,
   "metadata": {},
   "outputs": [],
   "source": [
    "with open('../data/ethiopia/inference_rois.txt') as f:\n",
    "    s2gridids = [line[:-1].removeprefix('s2grid=') for line in f.readlines()]\n",
    "\n",
    "s2grids_list_to_gdf(s2gridids = s2gridids).to_file('../data/ethiopia/inference_rois.geojson')"
   ]
  },
  {
   "cell_type": "code",
   "execution_count": 13,
   "metadata": {},
   "outputs": [
    {
     "data": {
      "text/plain": [
       "167.7985"
      ]
     },
     "execution_count": 13,
     "metadata": {},
     "output_type": "execute_result"
    }
   ],
   "source": [
    "1768 / 104 * (2*60 + 16 + 456.23) / 60"
   ]
  },
  {
   "cell_type": "code",
   "execution_count": 12,
   "metadata": {},
   "outputs": [
    {
     "data": {
      "text/plain": [
       "161.36666666666667"
      ]
     },
     "execution_count": 12,
     "metadata": {},
     "output_type": "execute_result"
    }
   ],
   "source": [
    "((2*60 + 41) * 60 + 22) / 60"
   ]
  },
  {
   "cell_type": "code",
   "execution_count": 1,
   "metadata": {},
   "outputs": [
    {
     "data": {
      "text/plain": [
       "2.750602777777778"
      ]
     },
     "execution_count": 1,
     "metadata": {},
     "output_type": "execute_result"
    }
   ],
   "source": [
    "9902.17 / 60 / 60"
   ]
  },
  {
   "cell_type": "code",
   "execution_count": 2,
   "metadata": {},
   "outputs": [
    {
     "data": {
      "text/plain": [
       "45.0"
      ]
     },
     "execution_count": 2,
     "metadata": {},
     "output_type": "execute_result"
    }
   ],
   "source": [
    "0.75 * 60"
   ]
  },
  {
   "cell_type": "code",
   "execution_count": 14,
   "metadata": {},
   "outputs": [
    {
     "data": {
      "text/plain": [
       "20.0"
      ]
     },
     "execution_count": 14,
     "metadata": {},
     "output_type": "execute_result"
    }
   ],
   "source": [
    "1200.0 / 60"
   ]
  },
  {
   "cell_type": "code",
   "execution_count": 15,
   "metadata": {},
   "outputs": [
    {
     "data": {
      "text/plain": [
       "6.666666666666667"
      ]
     },
     "execution_count": 15,
     "metadata": {},
     "output_type": "execute_result"
    }
   ],
   "source": [
    "20 / 3"
   ]
  },
  {
   "cell_type": "code",
   "execution_count": null,
   "metadata": {},
   "outputs": [
    {
     "data": {
      "text/plain": [
       "200.771"
      ]
     },
     "execution_count": 16,
     "metadata": {},
     "output_type": "execute_result"
    }
   ],
   "source": [
    "1 + 30 + 32 + 32 + 9.6 + 11 + 11 + 40 + 1.5 + 11 + 9.9 + 11 + 771/1000"
   ]
  },
  {
   "cell_type": "code",
   "execution_count": 8,
   "metadata": {},
   "outputs": [
    {
     "data": {
      "text/plain": [
       "1200.0"
      ]
     },
     "execution_count": 8,
     "metadata": {},
     "output_type": "execute_result"
    }
   ],
   "source": [
    "180 * 100 * 100 / (5 * 5) / 60"
   ]
  },
  {
   "cell_type": "code",
   "execution_count": null,
   "metadata": {},
   "outputs": [],
   "source": [
    "data = {\n",
    "    'year': [],\n",
    "    's2gridid': [],\n",
    "    'geometry': [],\n",
    "}\n",
    "\n",
    "for year, rois in year_failed_rois_dict.items():\n",
    "    for roi in rois:\n",
    "        s2gridid = roi.removeprefix('s2grid=')\n",
    "        geometry = rsutils.s2_grid_utils.get_grid_geometry_from_id(s2gridid)\n",
    "        data['year'].append(year)\n",
    "        data['s2gridid'].append(s2gridid)\n",
    "        data['geometry'].append(geometry)\n",
    "\n",
    "failed_rois_gdf = gpd.GeoDataFrame(data=data, crs='epsg:4326')\n",
    "failed_rois_gdf.to_file('../data/ethiopia/failed_s2grids.geojson')"
   ]
  },
  {
   "cell_type": "markdown",
   "metadata": {},
   "source": [
    "### Checking failed datacubes"
   ]
  },
  {
   "cell_type": "code",
   "execution_count": null,
   "metadata": {},
   "outputs": [],
   "source": [
    "inputs_df = pd.read_csv('../data/ethiopia/inference2019_wolayita2020-2021_s2l2a_datacube_input.csv')\n",
    "inputs_df['startdate'] = inputs_df['startdate'].apply(sqlite_db_utils.str_to_ts)\n",
    "inputs_df['enddate'] = inputs_df['enddate'].apply(sqlite_db_utils.str_to_ts)"
   ]
  },
  {
   "cell_type": "code",
   "execution_count": null,
   "metadata": {},
   "outputs": [],
   "source": [
    "failed_indexes = list(set(zip(\n",
    "    inputs_df['roi'],\n",
    "    inputs_df['startdate'],\n",
    "    inputs_df['enddate'],\n",
    "    inputs_df['config_id'],\n",
    ")) - set(zip(\n",
    "    s2l2a_datacube_catalog_gdf['roi'],\n",
    "    s2l2a_datacube_catalog_gdf['startdate'],\n",
    "    s2l2a_datacube_catalog_gdf['enddate'],\n",
    "    s2l2a_datacube_catalog_gdf['config_id'],\n",
    ")))\n",
    "failed_indexes"
   ]
  },
  {
   "cell_type": "code",
   "execution_count": null,
   "metadata": {},
   "outputs": [],
   "source": [
    "failed_inputs_df = \\\n",
    "inputs_df.set_index([\n",
    "    'roi',\n",
    "    'startdate',\n",
    "    'enddate',\n",
    "    'config_id',\n",
    "]).loc[failed_indexes].reset_index()"
   ]
  },
  {
   "cell_type": "code",
   "execution_count": null,
   "metadata": {},
   "outputs": [],
   "source": [
    "def get_shapes_gdf(roi:str):\n",
    "    geom_type, geom_id = roi.split('=')\n",
    "    if geom_type not in ['s2grid', 'geom']:\n",
    "        raise ValueError(f'Invalid roi={roi}. roi must start with s2grid= or geom=')\n",
    "    \n",
    "    if geom_type == 's2grid':\n",
    "        geom = rsutils.s2_grid_utils.get_grid_geometry_from_id(grid_id = geom_id)\n",
    "    else:\n",
    "        raise NotImplementedError()\n",
    "\n",
    "    shapes_gdf = gpd.GeoDataFrame(\n",
    "        data = {'geometry': [geom]},\n",
    "        crs = 'epsg:4326',\n",
    "    )\n",
    "\n",
    "    return shapes_gdf"
   ]
  },
  {
   "cell_type": "code",
   "execution_count": null,
   "metadata": {},
   "outputs": [],
   "source": [
    "failed_inputs_df['geometry'] = failed_inputs_df['roi'].apply(lambda x: get_shapes_gdf(x)['geometry'][0])"
   ]
  },
  {
   "cell_type": "code",
   "execution_count": null,
   "metadata": {},
   "outputs": [],
   "source": [
    "failed_inputs_gdf = gpd.GeoDataFrame(failed_inputs_df, crs='epsg:4326')"
   ]
  },
  {
   "cell_type": "code",
   "execution_count": null,
   "metadata": {},
   "outputs": [],
   "source": [
    "failed_inputs_gdf.to_file('../data/ethiopia/failed_inputs.geojson')"
   ]
  },
  {
   "cell_type": "markdown",
   "metadata": {},
   "source": [
    "### Creating training datacube ids list"
   ]
  },
  {
   "cell_type": "code",
   "execution_count": null,
   "metadata": {},
   "outputs": [],
   "source": [
    "with open('../data/ethiopia/training_datacube_ids.txt', 'w') as f:\n",
    "    for _id in s2l2a_datacube_catalog_gdf[s2l2a_datacube_catalog_gdf['id'].str.startswith('geom=')]['id']:\n",
    "        f.write(f'{_id}\\n')"
   ]
  },
  {
   "cell_type": "markdown",
   "metadata": {},
   "source": [
    "### Creating crops.npy"
   ]
  },
  {
   "cell_type": "code",
   "execution_count": null,
   "metadata": {},
   "outputs": [],
   "source": [
    "import numpy as np\n",
    "import geopandas as gpd"
   ]
  },
  {
   "cell_type": "code",
   "execution_count": null,
   "metadata": {},
   "outputs": [],
   "source": [
    "data = np.load('../data/ethiopia/s2l2a_training_data/data.npy')\n",
    "ids = np.load('../data/ethiopia/s2l2a_training_data/ids.npy', allow_pickle=True)[()]"
   ]
  },
  {
   "cell_type": "code",
   "execution_count": null,
   "metadata": {},
   "outputs": [],
   "source": [
    "data.shape"
   ]
  },
  {
   "cell_type": "code",
   "execution_count": null,
   "metadata": {},
   "outputs": [],
   "source": [
    "training_data_gdf = gpd.read_file('../data/ethiopia/normalised/combined.geojson')"
   ]
  },
  {
   "cell_type": "code",
   "execution_count": null,
   "metadata": {},
   "outputs": [],
   "source": [
    "ids[0].split('=')[1].split('_')[:-3]"
   ]
  },
  {
   "cell_type": "code",
   "execution_count": null,
   "metadata": {},
   "outputs": [],
   "source": [
    "training_data_gdf['id']"
   ]
  },
  {
   "cell_type": "code",
   "execution_count": null,
   "metadata": {},
   "outputs": [],
   "source": [
    "id_crop_dict = dict(zip(\n",
    "    training_data_gdf['id'],\n",
    "    training_data_gdf['c_class'],\n",
    "))"
   ]
  },
  {
   "cell_type": "code",
   "execution_count": null,
   "metadata": {},
   "outputs": [],
   "source": [
    "crops = []\n",
    "for _id in ids:\n",
    "    _id = '_'.join(_id.split('=')[1].split('_')[:-3])\n",
    "    crops.append(id_crop_dict[_id])\n",
    "\n",
    "crops = np.array(crops)"
   ]
  },
  {
   "cell_type": "code",
   "execution_count": null,
   "metadata": {},
   "outputs": [],
   "source": [
    "np.save('../data/ethiopia/s2l2a_training_data/crops.npy', crops)"
   ]
  },
  {
   "cell_type": "code",
   "execution_count": null,
   "metadata": {},
   "outputs": [],
   "source": []
  },
  {
   "cell_type": "code",
   "execution_count": null,
   "metadata": {},
   "outputs": [],
   "source": []
  }
 ],
 "metadata": {
  "kernelspec": {
   "display_name": ".venv",
   "language": "python",
   "name": "python3"
  },
  "language_info": {
   "codemirror_mode": {
    "name": "ipython",
    "version": 3
   },
   "file_extension": ".py",
   "mimetype": "text/x-python",
   "name": "python",
   "nbconvert_exporter": "python",
   "pygments_lexer": "ipython3",
   "version": "3.10.14"
  }
 },
 "nbformat": 4,
 "nbformat_minor": 2
}

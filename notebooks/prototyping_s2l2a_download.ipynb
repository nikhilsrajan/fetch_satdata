{
 "cells": [
  {
   "cell_type": "code",
   "execution_count": null,
   "metadata": {},
   "outputs": [],
   "source": [
    "import geopandas as gpd\n",
    "import sentinelhub\n",
    "import datetime"
   ]
  },
  {
   "cell_type": "code",
   "execution_count": 2,
   "metadata": {},
   "outputs": [],
   "source": [
    "import sys\n",
    "sys.path.append('..')"
   ]
  },
  {
   "cell_type": "code",
   "execution_count": 3,
   "metadata": {},
   "outputs": [],
   "source": [
    "import mysecrets\n",
    "import config\n",
    "import cdseutils.utils\n",
    "import cdseutils.sentinel2"
   ]
  },
  {
   "cell_type": "code",
   "execution_count": 4,
   "metadata": {},
   "outputs": [],
   "source": [
    "cdse_creds = mysecrets.PROFILES['nikhilsasirajan@gmail.com']"
   ]
  },
  {
   "cell_type": "code",
   "execution_count": 5,
   "metadata": {},
   "outputs": [],
   "source": [
    "roi_filepath = '../../ethiopia/data/Ethiopia_Bounding_Boxs/Ethiopia_2021_East_Bounding_Box.shp'"
   ]
  },
  {
   "cell_type": "code",
   "execution_count": 6,
   "metadata": {},
   "outputs": [],
   "source": [
    "shapes_gdf = gpd.read_file(roi_filepath).to_crs('epsg:4326')"
   ]
  },
  {
   "cell_type": "code",
   "execution_count": 7,
   "metadata": {},
   "outputs": [],
   "source": [
    "startdate = datetime.datetime(2021, 3, 1)\n",
    "enddate = datetime.datetime(2021, 5, 1)"
   ]
  },
  {
   "cell_type": "code",
   "execution_count": null,
   "metadata": {},
   "outputs": [],
   "source": [
    "bboxes = cdseutils.utils.get_bboxes(shapes_gdf=shapes_gdf)"
   ]
  },
  {
   "cell_type": "code",
   "execution_count": 9,
   "metadata": {},
   "outputs": [],
   "source": [
    "catalog_save_folderpath = '../data/fetch_catalog_cache'"
   ]
  },
  {
   "cell_type": "code",
   "execution_count": 15,
   "metadata": {},
   "outputs": [],
   "source": [
    "# fetch_catalog is caching the results, cache_folderpath is a\n",
    "# critical parameter to reduce api calls.\n",
    "catalog_gdf, results = cdseutils.utils.fetch_catalog(\n",
    "    bboxes = bboxes,\n",
    "    sh_creds = cdse_creds.sh_creds,\n",
    "    collection = sentinelhub.DataCollection.SENTINEL2_L2A,\n",
    "    startdate = startdate,\n",
    "    enddate = enddate,\n",
    "    cache_folderpath = catalog_save_folderpath,\n",
    ")\n",
    "catalog_gdf['cloud_cover'] = [x['properties']['eo:cloud_cover'] for x in results]"
   ]
  },
  {
   "cell_type": "code",
   "execution_count": null,
   "metadata": {},
   "outputs": [],
   "source": [
    "catalog_gdf"
   ]
  },
  {
   "cell_type": "code",
   "execution_count": null,
   "metadata": {},
   "outputs": [],
   "source": [
    "catalog_gdf['s3url'][0]"
   ]
  },
  {
   "cell_type": "code",
   "execution_count": null,
   "metadata": {},
   "outputs": [],
   "source": [
    "s3paths, download_filepaths = \\\n",
    "cdseutils.sentinel2.get_s3paths(\n",
    "    s3urls = catalog_gdf['s3url'],\n",
    "    s3_creds = cdse_creds.s3_creds,\n",
    "    root_folderpath = config.FOLDERPATH_SATELLITE,\n",
    "    bands = cdseutils.constants.Bands.S2L2A.ALL,\n",
    "    satellite = cdseutils.constants.Bands.S2L2A.NAME,\n",
    ")"
   ]
  },
  {
   "cell_type": "code",
   "execution_count": null,
   "metadata": {},
   "outputs": [],
   "source": [
    "s3paths"
   ]
  }
 ],
 "metadata": {
  "kernelspec": {
   "display_name": ".venv",
   "language": "python",
   "name": "python3"
  },
  "language_info": {
   "codemirror_mode": {
    "name": "ipython",
    "version": 3
   },
   "file_extension": ".py",
   "mimetype": "text/x-python",
   "name": "python",
   "nbconvert_exporter": "python",
   "pygments_lexer": "ipython3",
   "version": "3.10.14"
  }
 },
 "nbformat": 4,
 "nbformat_minor": 2
}

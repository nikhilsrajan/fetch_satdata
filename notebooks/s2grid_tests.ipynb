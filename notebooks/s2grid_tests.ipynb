{
 "cells": [
  {
   "cell_type": "code",
   "execution_count": null,
   "metadata": {},
   "outputs": [],
   "source": [
    "import geopandas as gpd\n",
    "import datetime\n",
    "\n",
    "import sys\n",
    "sys.path.append('..')\n",
    "\n",
    "import rsutils.s2_grid_utils\n",
    "import create_datacube"
   ]
  },
  {
   "cell_type": "code",
   "execution_count": null,
   "metadata": {},
   "outputs": [],
   "source": [
    "rsutils.s2_grid_utils.grid_size_2_res_mapping(grid_size_km = 5)"
   ]
  },
  {
   "cell_type": "code",
   "execution_count": null,
   "metadata": {},
   "outputs": [],
   "source": [
    "s2_grid_id = rsutils.s2_grid_utils.get_id_from_latlon(\n",
    "    lat = 15.941989,\n",
    "    lon = 77.157222,\n",
    "    grid_size_km = 5,\n",
    "    # res = 11,\n",
    ")\n",
    "s2_grid_id"
   ]
  },
  {
   "cell_type": "code",
   "execution_count": null,
   "metadata": {},
   "outputs": [],
   "source": [
    "# override\n",
    "s2_grid_id = '164c59c' # '164c59c' "
   ]
  },
  {
   "cell_type": "code",
   "execution_count": null,
   "metadata": {},
   "outputs": [],
   "source": [
    "s2grid_geom = rsutils.s2_grid_utils.get_grid_geometry_from_id(grid_id = s2_grid_id)\n",
    "s2grid_geom"
   ]
  },
  {
   "cell_type": "code",
   "execution_count": null,
   "metadata": {},
   "outputs": [],
   "source": [
    "s2_grid_gdf = gpd.GeoDataFrame(\n",
    "    data = {\n",
    "        'geometry': [s2grid_geom],\n",
    "    },\n",
    "    crs = 'epsg:4326',\n",
    ")\n",
    "\n",
    "# s2_grid_gdf.to_file(f'../data/{s2_grid_id}.geojson')"
   ]
  },
  {
   "cell_type": "code",
   "execution_count": null,
   "metadata": {},
   "outputs": [],
   "source": [
    "catalog_filepath = '../data/cluster_files/satellite/Sentinel-2/catalog.geojson'\n",
    "shapes_gdf = s2_grid_gdf\n",
    "startdate = datetime.datetime(2019,3,1)\n",
    "enddate = datetime.datetime(2022,1,31)"
   ]
  },
  {
   "cell_type": "code",
   "execution_count": null,
   "metadata": {},
   "outputs": [],
   "source": [
    "stats = create_datacube.query_catalog_stats(\n",
    "    catalog_filepath = catalog_filepath,\n",
    "    shapes_gdf = shapes_gdf,\n",
    "    startdate = startdate,\n",
    "    enddate = enddate,\n",
    ")\n",
    "\n",
    "stats"
   ]
  },
  {
   "cell_type": "code",
   "execution_count": null,
   "metadata": {},
   "outputs": [],
   "source": [
    "_, _, msg = create_datacube.check_if_there_are_files_missing(\n",
    "    catalog_filepath = catalog_filepath,\n",
    "    shapes_gdf = shapes_gdf,\n",
    "    startdate = startdate,\n",
    "    enddate = enddate,\n",
    "    files = ['B01.jp2', 'VV.tif']\n",
    ")\n",
    "print(msg)"
   ]
  },
  {
   "cell_type": "code",
   "execution_count": null,
   "metadata": {},
   "outputs": [],
   "source": [
    "import numpy as np"
   ]
  },
  {
   "cell_type": "code",
   "execution_count": null,
   "metadata": {},
   "outputs": [],
   "source": []
  },
  {
   "cell_type": "code",
   "execution_count": null,
   "metadata": {},
   "outputs": [],
   "source": [
    "stats.keys()"
   ]
  },
  {
   "cell_type": "code",
   "execution_count": null,
   "metadata": {},
   "outputs": [],
   "source": [
    "min_timestamp = stats['timestamp_range'][0]"
   ]
  },
  {
   "cell_type": "code",
   "execution_count": null,
   "metadata": {},
   "outputs": [],
   "source": [
    "fmt = '%Y%m%dT%H%M%S'\n",
    "'_'.join([ts.strftime(fmt) for ts in stats['timestamp_range']])"
   ]
  },
  {
   "cell_type": "code",
   "execution_count": null,
   "metadata": {},
   "outputs": [],
   "source": [
    "import shapely\n",
    "\n",
    "A = 38.09192035575927\n",
    "B = 8.141009568663828\n",
    "C = 39.08858871535991\n",
    "D = 8.142015435187918\n",
    "E = 39.088384163693355\n",
    "F = 7.148816474425373\n",
    "G = 38.09401676842014\n",
    "H = 7.147934625992314\n",
    "\n",
    "diff = 1e-16\n",
    "\n",
    "shapely.MultiPolygon([\n",
    "    shapely.Polygon([\n",
    "        (A, B + diff), \n",
    "        (C, D), \n",
    "        (E, F), \n",
    "        (G, H), \n",
    "        (A, B + diff),\n",
    "    ])\n",
    "]).buffer(0) == shapely.Polygon([\n",
    "    (A, B), \n",
    "    (C, D), \n",
    "    (E, F), \n",
    "    (G, H), \n",
    "    (A, B),\n",
    "]).buffer(0)"
   ]
  },
  {
   "cell_type": "code",
   "execution_count": null,
   "metadata": {},
   "outputs": [],
   "source": [
    "diff = 1e-10\n",
    "\n",
    "shapely.equals(\n",
    "    shapely.MultiPolygon([\n",
    "        shapely.Polygon([\n",
    "            (A, B + diff), \n",
    "            (C, D), \n",
    "            (E, F), \n",
    "            (G, H), \n",
    "            (A, B + diff),\n",
    "        ])\n",
    "    ]),\n",
    "    shapely.Polygon([\n",
    "        (A, B), \n",
    "        (C, D), \n",
    "        (E, F), \n",
    "        (G, H), \n",
    "        (A, B),\n",
    "    ])\n",
    ")"
   ]
  },
  {
   "cell_type": "code",
   "execution_count": null,
   "metadata": {},
   "outputs": [],
   "source": [
    "east_bb_eth_gdf = gpd.read_file('../../ethiopia/data/Ethiopia_Bounding_Boxs/Ethiopia_2021_East_Bounding_Box.shp')"
   ]
  },
  {
   "cell_type": "code",
   "execution_count": null,
   "metadata": {},
   "outputs": [],
   "source": [
    "east_bb_s2grids_gdf = rsutils.s2_grid_utils.get_s2_grids_gdf(\n",
    "    geojson_epsg_4326 = east_bb_eth_gdf.to_crs('epsg:4326')['geometry'][0],\n",
    ")"
   ]
  },
  {
   "cell_type": "code",
   "execution_count": null,
   "metadata": {},
   "outputs": [],
   "source": [
    "east_bb_s2grids_gdf.to_file('../data/eth_east_bb_s2grids.geojson')"
   ]
  },
  {
   "cell_type": "code",
   "execution_count": null,
   "metadata": {},
   "outputs": [],
   "source": []
  }
 ],
 "metadata": {
  "kernelspec": {
   "display_name": ".venv",
   "language": "python",
   "name": "python3"
  },
  "language_info": {
   "codemirror_mode": {
    "name": "ipython",
    "version": 3
   },
   "file_extension": ".py",
   "mimetype": "text/x-python",
   "name": "python",
   "nbconvert_exporter": "python",
   "pygments_lexer": "ipython3",
   "version": "3.10.14"
  }
 },
 "nbformat": 4,
 "nbformat_minor": 2
}

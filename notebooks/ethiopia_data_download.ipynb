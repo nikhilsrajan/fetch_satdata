{
 "cells": [
  {
   "cell_type": "code",
   "execution_count": 1,
   "metadata": {},
   "outputs": [
    {
     "name": "stderr",
     "output_type": "stream",
     "text": [
      "/Users/nikhilsrajan/NASA-Harvest/project/fetch_satdata/.venv/lib/python3.10/site-packages/tqdm/auto.py:21: TqdmWarning: IProgress not found. Please update jupyter and ipywidgets. See https://ipywidgets.readthedocs.io/en/stable/user_install.html\n",
      "  from .autonotebook import tqdm as notebook_tqdm\n"
     ]
    }
   ],
   "source": [
    "import os\n",
    "import datetime\n",
    "import geopandas as gpd\n",
    "import pandas as pd\n",
    "import json\n",
    "import shapely.ops\n",
    "\n",
    "import sentinelhub\n",
    "import boto3"
   ]
  },
  {
   "cell_type": "code",
   "execution_count": 2,
   "metadata": {},
   "outputs": [],
   "source": [
    "import sys\n",
    "sys.path.append('..')"
   ]
  },
  {
   "cell_type": "code",
   "execution_count": 3,
   "metadata": {},
   "outputs": [],
   "source": [
    "import config\n",
    "\n",
    "import cdseutils.utils as utils\n",
    "import cdseutils.mydataclasses as mydataclasses\n",
    "import cdseutils.constants as constants\n",
    "import cdseutils.sentinel2 as sentinel2\n",
    "\n",
    "import mysecrets\n",
    "import s2l1c_via_s3"
   ]
  },
  {
   "cell_type": "code",
   "execution_count": 4,
   "metadata": {},
   "outputs": [],
   "source": [
    "cdse_creds = mysecrets.PROFILES['nikhilsasirajan@gmail.com']"
   ]
  },
  {
   "cell_type": "code",
   "execution_count": 5,
   "metadata": {},
   "outputs": [],
   "source": [
    "year = 2021\n",
    "\n",
    "startdate = datetime.datetime(year, 3, 1)\n",
    "enddate = datetime.datetime(year + 1, 1, 31)"
   ]
  },
  {
   "cell_type": "code",
   "execution_count": 6,
   "metadata": {},
   "outputs": [
    {
     "data": {
      "text/plain": [
       "336"
      ]
     },
     "execution_count": 6,
     "metadata": {},
     "output_type": "execute_result"
    }
   ],
   "source": [
    "(enddate - startdate).days"
   ]
  },
  {
   "cell_type": "code",
   "execution_count": 7,
   "metadata": {},
   "outputs": [],
   "source": [
    "catalog_filepath = '../data/eth_bb_east_s2l1c_catalog.geojson'\n",
    "roi_filepath = '../../ethiopia/data/Ethiopia_Bounding_Boxs/Ethiopia_2021_East_Bounding_Box.shp'\n",
    "# roi_filepath = '../data/test_eth_east_bb_s2grids.geojson',"
   ]
  },
  {
   "cell_type": "code",
   "execution_count": 8,
   "metadata": {},
   "outputs": [],
   "source": [
    "catalog_gdf = gpd.read_file(catalog_filepath)"
   ]
  },
  {
   "cell_type": "code",
   "execution_count": 9,
   "metadata": {},
   "outputs": [
    {
     "data": {
      "text/html": [
       "<div>\n",
       "<style scoped>\n",
       "    .dataframe tbody tr th:only-of-type {\n",
       "        vertical-align: middle;\n",
       "    }\n",
       "\n",
       "    .dataframe tbody tr th {\n",
       "        vertical-align: top;\n",
       "    }\n",
       "\n",
       "    .dataframe thead th {\n",
       "        text-align: right;\n",
       "    }\n",
       "</style>\n",
       "<table border=\"1\" class=\"dataframe\">\n",
       "  <thead>\n",
       "    <tr style=\"text-align: right;\">\n",
       "      <th></th>\n",
       "      <th>id</th>\n",
       "      <th>timestamp</th>\n",
       "      <th>s3url</th>\n",
       "      <th>cloud_cover</th>\n",
       "      <th>geometry</th>\n",
       "    </tr>\n",
       "  </thead>\n",
       "  <tbody>\n",
       "    <tr>\n",
       "      <th>0</th>\n",
       "      <td>S2A_MSIL1C_20210128T074201_N0500_R092_T37NDJ_2...</td>\n",
       "      <td>2021-01-28 07:57:53.635000+00:00</td>\n",
       "      <td>s3://EODATA/Sentinel-2/MSI/L1C_N0500/2021/01/2...</td>\n",
       "      <td>0.0</td>\n",
       "      <td>MULTIPOLYGON (((38.09192 8.14101, 39.08859 8.1...</td>\n",
       "    </tr>\n",
       "    <tr>\n",
       "      <th>1</th>\n",
       "      <td>S2A_MSIL1C_20210128T074201_N0500_R092_T37NEJ_2...</td>\n",
       "      <td>2021-01-28 07:57:50.494000+00:00</td>\n",
       "      <td>s3://EODATA/Sentinel-2/MSI/L1C_N0500/2021/01/2...</td>\n",
       "      <td>0.0</td>\n",
       "      <td>MULTIPOLYGON (((38.99983 8.14203, 39.99648 8.1...</td>\n",
       "    </tr>\n",
       "  </tbody>\n",
       "</table>\n",
       "</div>"
      ],
      "text/plain": [
       "                                                  id  \\\n",
       "0  S2A_MSIL1C_20210128T074201_N0500_R092_T37NDJ_2...   \n",
       "1  S2A_MSIL1C_20210128T074201_N0500_R092_T37NEJ_2...   \n",
       "\n",
       "                         timestamp  \\\n",
       "0 2021-01-28 07:57:53.635000+00:00   \n",
       "1 2021-01-28 07:57:50.494000+00:00   \n",
       "\n",
       "                                               s3url  cloud_cover  \\\n",
       "0  s3://EODATA/Sentinel-2/MSI/L1C_N0500/2021/01/2...          0.0   \n",
       "1  s3://EODATA/Sentinel-2/MSI/L1C_N0500/2021/01/2...          0.0   \n",
       "\n",
       "                                            geometry  \n",
       "0  MULTIPOLYGON (((38.09192 8.14101, 39.08859 8.1...  \n",
       "1  MULTIPOLYGON (((38.99983 8.14203, 39.99648 8.1...  "
      ]
     },
     "execution_count": 9,
     "metadata": {},
     "output_type": "execute_result"
    }
   ],
   "source": [
    "catalog_gdf[:2]"
   ]
  },
  {
   "cell_type": "code",
   "execution_count": 10,
   "metadata": {},
   "outputs": [
    {
     "name": "stderr",
     "output_type": "stream",
     "text": [
      "100%|██████████| 2/2 [00:01<00:00,  2.00it/s]"
     ]
    },
    {
     "name": "stdout",
     "output_type": "stream",
     "text": [
      "Downloading files:\n"
     ]
    },
    {
     "name": "stderr",
     "output_type": "stream",
     "text": [
      "\n",
      "100%|██████████| 5/5 [00:25<00:00,  5.00s/it]"
     ]
    },
    {
     "name": "stdout",
     "output_type": "stream",
     "text": [
      "Successful downloads: 5 / 5\n"
     ]
    },
    {
     "name": "stderr",
     "output_type": "stream",
     "text": [
      "\n",
      "100%|██████████| 5/5 [00:18<00:00,  3.71s/it]"
     ]
    },
    {
     "name": "stdout",
     "output_type": "stream",
     "text": [
      "Successful downloads: 5 / 5\n"
     ]
    },
    {
     "name": "stderr",
     "output_type": "stream",
     "text": [
      "\n",
      "100%|██████████| 5/5 [00:10<00:00,  2.05s/it]"
     ]
    },
    {
     "name": "stdout",
     "output_type": "stream",
     "text": [
      "Successful downloads: 5 / 5\n"
     ]
    },
    {
     "name": "stderr",
     "output_type": "stream",
     "text": [
      "\n",
      "100%|██████████| 5/5 [00:00<00:00,  7.62it/s]"
     ]
    },
    {
     "name": "stdout",
     "output_type": "stream",
     "text": [
      "Successful downloads: 5 / 5\n"
     ]
    },
    {
     "name": "stderr",
     "output_type": "stream",
     "text": [
      "\n",
      "100%|██████████| 5/5 [00:00<00:00,  7.05it/s]"
     ]
    },
    {
     "name": "stdout",
     "output_type": "stream",
     "text": [
      "Successful downloads: 5 / 5\n"
     ]
    },
    {
     "name": "stderr",
     "output_type": "stream",
     "text": [
      "\n",
      "100%|██████████| 1/1 [00:00<00:00,  2.30it/s]"
     ]
    },
    {
     "name": "stdout",
     "output_type": "stream",
     "text": [
      "Successful downloads: 1 / 1\n",
      "Successful downloads: 26 / 26\n"
     ]
    },
    {
     "name": "stderr",
     "output_type": "stream",
     "text": [
      "\n"
     ]
    }
   ],
   "source": [
    "successful_download_count, total_download_count \\\n",
    "= s2l1c_via_s3.download_sentinel2_l1c_tiles(\n",
    "    cdse_creds = cdse_creds,\n",
    "    catalog_gdf = catalog_gdf[:2],\n",
    "    sentinel2_local_catalog_filepath = config.FILEPATH_SENTINEL2_LOCAL_CATALOG,\n",
    "    catalog_save_folderpath = config.FOLDERPATH_FETCH_CATALOG_CACHE,\n",
    "    root_download_folderpath = config.FOLDERPATH_SATELLITE,\n",
    "    roi_filepath = roi_filepath,\n",
    "    startdate = startdate,\n",
    "    enddate = enddate,\n",
    "    upper_limit_for_number_of_tiles = 50,\n",
    "    chunksize_for_download_and_update_catalog = 5,\n",
    ")"
   ]
  },
  {
   "cell_type": "code",
   "execution_count": 11,
   "metadata": {},
   "outputs": [],
   "source": [
    "catalog_gdf = gpd.read_file(config.FILEPATH_SENTINEL2_LOCAL_CATALOG)"
   ]
  },
  {
   "cell_type": "code",
   "execution_count": 12,
   "metadata": {},
   "outputs": [
    {
     "data": {
      "text/html": [
       "<div>\n",
       "<style scoped>\n",
       "    .dataframe tbody tr th:only-of-type {\n",
       "        vertical-align: middle;\n",
       "    }\n",
       "\n",
       "    .dataframe tbody tr th {\n",
       "        vertical-align: top;\n",
       "    }\n",
       "\n",
       "    .dataframe thead th {\n",
       "        text-align: right;\n",
       "    }\n",
       "</style>\n",
       "<table border=\"1\" class=\"dataframe\">\n",
       "  <thead>\n",
       "    <tr style=\"text-align: right;\">\n",
       "      <th></th>\n",
       "      <th>id</th>\n",
       "      <th>timestamp</th>\n",
       "      <th>s3url</th>\n",
       "      <th>local_folderpath</th>\n",
       "      <th>files</th>\n",
       "      <th>last_update</th>\n",
       "      <th>cloud_cover</th>\n",
       "      <th>geometry</th>\n",
       "    </tr>\n",
       "  </thead>\n",
       "  <tbody>\n",
       "    <tr>\n",
       "      <th>0</th>\n",
       "      <td>S2A_MSIL1C_20210128T074201_N0500_R092_T37NDJ_2...</td>\n",
       "      <td>2021-01-28 07:57:53.635000+00:00</td>\n",
       "      <td>s3://EODATA/Sentinel-2/MSI/L1C_N0500/2021/01/2...</td>\n",
       "      <td>../data/satellite/Sentinel-2/MSI/L1C_N0500/202...</td>\n",
       "      <td>B8A.jp2,B12.jp2,B10.jp2,B01.jp2,B06.jp2,B03.jp...</td>\n",
       "      <td>2024-08-20 17:37:41.223000+00:00</td>\n",
       "      <td>0.0</td>\n",
       "      <td>MULTIPOLYGON (((38.09192 8.14101, 39.08859 8.1...</td>\n",
       "    </tr>\n",
       "    <tr>\n",
       "      <th>1</th>\n",
       "      <td>S2A_MSIL1C_20210128T074201_N0500_R092_T37NEJ_2...</td>\n",
       "      <td>2021-01-28 07:57:50.494000+00:00</td>\n",
       "      <td>s3://EODATA/Sentinel-2/MSI/L1C_N0500/2021/01/2...</td>\n",
       "      <td>../data/satellite/Sentinel-2/MSI/L1C_N0500/202...</td>\n",
       "      <td>B8A.jp2,B12.jp2,B10.jp2,B06.jp2,B01.jp2,B03.jp...</td>\n",
       "      <td>2024-08-20 17:37:52.890000+00:00</td>\n",
       "      <td>0.0</td>\n",
       "      <td>MULTIPOLYGON (((38.99983 8.14203, 39.99648 8.1...</td>\n",
       "    </tr>\n",
       "  </tbody>\n",
       "</table>\n",
       "</div>"
      ],
      "text/plain": [
       "                                                  id  \\\n",
       "0  S2A_MSIL1C_20210128T074201_N0500_R092_T37NDJ_2...   \n",
       "1  S2A_MSIL1C_20210128T074201_N0500_R092_T37NEJ_2...   \n",
       "\n",
       "                         timestamp  \\\n",
       "0 2021-01-28 07:57:53.635000+00:00   \n",
       "1 2021-01-28 07:57:50.494000+00:00   \n",
       "\n",
       "                                               s3url  \\\n",
       "0  s3://EODATA/Sentinel-2/MSI/L1C_N0500/2021/01/2...   \n",
       "1  s3://EODATA/Sentinel-2/MSI/L1C_N0500/2021/01/2...   \n",
       "\n",
       "                                    local_folderpath  \\\n",
       "0  ../data/satellite/Sentinel-2/MSI/L1C_N0500/202...   \n",
       "1  ../data/satellite/Sentinel-2/MSI/L1C_N0500/202...   \n",
       "\n",
       "                                               files  \\\n",
       "0  B8A.jp2,B12.jp2,B10.jp2,B01.jp2,B06.jp2,B03.jp...   \n",
       "1  B8A.jp2,B12.jp2,B10.jp2,B06.jp2,B01.jp2,B03.jp...   \n",
       "\n",
       "                       last_update  cloud_cover  \\\n",
       "0 2024-08-20 17:37:41.223000+00:00          0.0   \n",
       "1 2024-08-20 17:37:52.890000+00:00          0.0   \n",
       "\n",
       "                                            geometry  \n",
       "0  MULTIPOLYGON (((38.09192 8.14101, 39.08859 8.1...  \n",
       "1  MULTIPOLYGON (((38.99983 8.14203, 39.99648 8.1...  "
      ]
     },
     "execution_count": 12,
     "metadata": {},
     "output_type": "execute_result"
    }
   ],
   "source": [
    "catalog_gdf"
   ]
  },
  {
   "cell_type": "code",
   "execution_count": null,
   "metadata": {},
   "outputs": [],
   "source": []
  }
 ],
 "metadata": {
  "kernelspec": {
   "display_name": ".venv",
   "language": "python",
   "name": "python3"
  },
  "language_info": {
   "codemirror_mode": {
    "name": "ipython",
    "version": 3
   },
   "file_extension": ".py",
   "mimetype": "text/x-python",
   "name": "python",
   "nbconvert_exporter": "python",
   "pygments_lexer": "ipython3",
   "version": "3.10.11"
  }
 },
 "nbformat": 4,
 "nbformat_minor": 2
}

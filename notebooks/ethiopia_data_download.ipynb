{
 "cells": [
  {
   "cell_type": "code",
   "execution_count": null,
   "metadata": {},
   "outputs": [],
   "source": [
    "import os\n",
    "import datetime\n",
    "import geopandas as gpd\n",
    "import pandas as pd\n",
    "import json\n",
    "import shapely.ops\n",
    "\n",
    "import sentinelhub\n",
    "import boto3"
   ]
  },
  {
   "cell_type": "code",
   "execution_count": null,
   "metadata": {},
   "outputs": [],
   "source": [
    "import sys\n",
    "sys.path.append('..')"
   ]
  },
  {
   "cell_type": "code",
   "execution_count": null,
   "metadata": {},
   "outputs": [],
   "source": [
    "import config\n",
    "\n",
    "import cdseutils.utils as utils\n",
    "import cdseutils.mydataclasses as mydataclasses\n",
    "import cdseutils.constants as constants\n",
    "import cdseutils.sentinel2 as sentinel2\n",
    "\n",
    "import mysecrets\n",
    "import s2l1c_via_s3"
   ]
  },
  {
   "cell_type": "code",
   "execution_count": null,
   "metadata": {},
   "outputs": [],
   "source": [
    "cdse_creds = mysecrets.PROFILES['nikhilsasirajan@gmail.com']"
   ]
  },
  {
   "cell_type": "code",
   "execution_count": null,
   "metadata": {},
   "outputs": [],
   "source": [
    "utils.cdse_credentials_to_json(cdse_creds=cdse_creds, filepath='../data/cdse_credentials.json')"
   ]
  },
  {
   "cell_type": "code",
   "execution_count": null,
   "metadata": {},
   "outputs": [],
   "source": [
    "_cdse_creds = utils.cdse_credentials_from_json(filepath='../data/cdse_credentials.json')"
   ]
  },
  {
   "cell_type": "code",
   "execution_count": null,
   "metadata": {},
   "outputs": [],
   "source": [
    "_cdse_creds.sh_creds == cdse_creds.sh_creds, _cdse_creds.s3_creds == cdse_creds.s3_creds"
   ]
  },
  {
   "cell_type": "code",
   "execution_count": null,
   "metadata": {},
   "outputs": [],
   "source": [
    "year = 2021\n",
    "\n",
    "startdate = datetime.datetime(year, 3, 1)\n",
    "enddate = datetime.datetime(year + 1, 1, 31)"
   ]
  },
  {
   "cell_type": "code",
   "execution_count": null,
   "metadata": {},
   "outputs": [],
   "source": [
    "(enddate - startdate).days"
   ]
  },
  {
   "cell_type": "code",
   "execution_count": null,
   "metadata": {},
   "outputs": [],
   "source": [
    "catalog_filepath = '../data/eth_bb_east_s2l1c_catalog.geojson'\n",
    "# roi_filepath = '../../ethiopia/data/Ethiopia_Bounding_Boxs/Ethiopia_2021_East_Bounding_Box.shp'\n",
    "roi_filepath = '../../ethiopia/data/Ethiopia_Bounding_Boxs/Ethiopia_2019_North_Bounding_Box.shp'\n",
    "# roi_filepath = '../data/test_eth_east_bb_s2grids.geojson',\n",
    "eth_s2grids_filepath = '../../ethiopia/data/ethiopia_s2_grids_esa_stats.geojson'"
   ]
  },
  {
   "cell_type": "code",
   "execution_count": null,
   "metadata": {},
   "outputs": [],
   "source": [
    "# catalog_gdf = gpd.read_file(catalog_filepath)"
   ]
  },
  {
   "cell_type": "code",
   "execution_count": null,
   "metadata": {},
   "outputs": [],
   "source": [
    "eth_s2grids_gdf = gpd.read_file(eth_s2grids_filepath)"
   ]
  },
  {
   "cell_type": "code",
   "execution_count": null,
   "metadata": {},
   "outputs": [],
   "source": [
    "s2grid_of_interest = '165bca4'"
   ]
  },
  {
   "cell_type": "code",
   "execution_count": null,
   "metadata": {},
   "outputs": [],
   "source": [
    "selected_s2grid_gdf = eth_s2grids_gdf[\n",
    "    eth_s2grids_gdf['id'] == s2grid_of_interest\n",
    "][['id','geometry']]\n",
    "selected_s2grid_gdf"
   ]
  },
  {
   "cell_type": "code",
   "execution_count": null,
   "metadata": {},
   "outputs": [],
   "source": [
    "selected_s2grid_gdf.to_file('../data/s2grid_165bca4.geojson')"
   ]
  },
  {
   "cell_type": "code",
   "execution_count": null,
   "metadata": {},
   "outputs": [],
   "source": [
    "# shapes_gdf = gpd.read_file(roi_filepath)\n",
    "# bboxes = utils.get_bboxes(shapes_gdf=shapes_gdf)\n",
    "bboxes = utils.get_bboxes(shapes_gdf=selected_s2grid_gdf)\n",
    "catalog_gdf, results = utils.fetch_catalog(\n",
    "    bboxes = bboxes,\n",
    "    sh_creds = cdse_creds.sh_creds,\n",
    "    collection = sentinelhub.DataCollection.SENTINEL2_L1C,\n",
    "    startdate = startdate,\n",
    "    enddate = enddate,\n",
    "    cache_folderpath = config.FOLDERPATH_FETCH_CATALOG_CACHE,\n",
    ")"
   ]
  },
  {
   "cell_type": "code",
   "execution_count": null,
   "metadata": {},
   "outputs": [],
   "source": [
    "len(results)"
   ]
  },
  {
   "cell_type": "code",
   "execution_count": null,
   "metadata": {},
   "outputs": [],
   "source": [
    "results"
   ]
  },
  {
   "cell_type": "code",
   "execution_count": null,
   "metadata": {},
   "outputs": [],
   "source": [
    "s3_creds = cdse_creds.s3_creds\n",
    "s3url = 's3://EODATA/Sentinel-2/MSI/L1C_N0500/2021/03/02/S2A_MSIL1C_20210302T074831_N0500_R135_T36PZU_20230523T123652.SAFE/'"
   ]
  },
  {
   "cell_type": "code",
   "execution_count": null,
   "metadata": {},
   "outputs": [],
   "source": [
    "s3 = boto3.resource(\n",
    "    's3',\n",
    "    endpoint_url = s3_creds.endpoint_url,\n",
    "    aws_access_key_id = s3_creds.s3_access_key,\n",
    "    aws_secret_access_key = s3_creds.s3_secret_key,\n",
    "    region_name = s3_creds.region_name,\n",
    ")\n",
    "\n",
    "root_s3path = utils.s3url_to_s3path(s3url=s3url)\n",
    "\n",
    "all_files = s3.Bucket(root_s3path.bucket).objects.filter(Prefix=root_s3path.prefix)"
   ]
  },
  {
   "cell_type": "code",
   "execution_count": null,
   "metadata": {},
   "outputs": [],
   "source": [
    "all_files = list(all_files)"
   ]
  },
  {
   "cell_type": "code",
   "execution_count": null,
   "metadata": {},
   "outputs": [],
   "source": [
    "xml_s3paths = [mydataclasses.S3Path(bucket=file.bucket_name, prefix=file.key) for file in all_files if file.key.endswith('.xml')]"
   ]
  },
  {
   "cell_type": "code",
   "execution_count": null,
   "metadata": {},
   "outputs": [],
   "source": [
    "xml_s3paths"
   ]
  },
  {
   "cell_type": "code",
   "execution_count": null,
   "metadata": {},
   "outputs": [],
   "source": [
    "for s3path in xml_s3paths:\n",
    "    utils.download_s3_file(\n",
    "        s3_creds = cdse_creds.s3_creds,\n",
    "        s3path = s3path,\n",
    "        download_folderpath = '../data/xml_files/S2A_MSIL1C_20210302T074831_N0500_R135_T36PZU_20230523T123652'\n",
    "    )"
   ]
  },
  {
   "cell_type": "code",
   "execution_count": null,
   "metadata": {},
   "outputs": [],
   "source": [
    "import xml.etree.ElementTree as ET"
   ]
  },
  {
   "cell_type": "code",
   "execution_count": null,
   "metadata": {},
   "outputs": [],
   "source": [
    "root = ET.parse('../data/xml_files/S2A_MSIL1C_20210302T074831_N0500_R135_T36PZU_20230523T123652/MTD_TL.xml').getroot()"
   ]
  },
  {
   "cell_type": "code",
   "execution_count": null,
   "metadata": {},
   "outputs": [],
   "source": [
    "root"
   ]
  },
  {
   "cell_type": "code",
   "execution_count": null,
   "metadata": {},
   "outputs": [],
   "source": [
    "element_mean_sun_angle = root.findall('.//Mean_Sun_Angle/AZIMUTH_ANGLE')[0]\n",
    "element_mean_sun_angle.text, element_mean_sun_angle.attrib['unit']"
   ]
  },
  {
   "cell_type": "code",
   "execution_count": null,
   "metadata": {},
   "outputs": [],
   "source": [
    "root.findall('.//Mean_Sun_Angle/AZIMUTH_ANGLE')[0].attrib['unit']"
   ]
  },
  {
   "cell_type": "code",
   "execution_count": null,
   "metadata": {},
   "outputs": [],
   "source": []
  },
  {
   "cell_type": "code",
   "execution_count": null,
   "metadata": {},
   "outputs": [],
   "source": [
    "{x['properties']['proj:epsg'] for x in results}"
   ]
  },
  {
   "cell_type": "code",
   "execution_count": null,
   "metadata": {},
   "outputs": [],
   "source": [
    "{x['properties']['proj:epsg'] for x in results}"
   ]
  },
  {
   "cell_type": "code",
   "execution_count": null,
   "metadata": {},
   "outputs": [],
   "source": [
    "catalog_gdf[:2]"
   ]
  },
  {
   "cell_type": "code",
   "execution_count": null,
   "metadata": {},
   "outputs": [],
   "source": [
    "successful_download_count, total_download_count \\\n",
    "= s2l1c_via_s3.download_sentinel2_l1c_tiles(\n",
    "    cdse_creds = cdse_creds,\n",
    "    catalog_gdf = catalog_gdf[:2],\n",
    "    sentinel2_local_catalog_filepath = config.FILEPATH_SENTINEL2_LOCAL_CATALOG,\n",
    "    catalog_save_folderpath = config.FOLDERPATH_FETCH_CATALOG_CACHE,\n",
    "    root_download_folderpath = config.FOLDERPATH_SATELLITE,\n",
    "    roi_filepath = roi_filepath,\n",
    "    startdate = startdate,\n",
    "    enddate = enddate,\n",
    "    upper_limit_for_number_of_tiles = 50,\n",
    "    # chunksize_for_download_and_update_catalog = 100,\n",
    ")"
   ]
  },
  {
   "cell_type": "code",
   "execution_count": null,
   "metadata": {},
   "outputs": [],
   "source": [
    "local_catalog_gdf = gpd.read_file(config.FILEPATH_SENTINEL2_LOCAL_CATALOG)"
   ]
  },
  {
   "cell_type": "code",
   "execution_count": null,
   "metadata": {},
   "outputs": [],
   "source": [
    "local_catalog_gdf"
   ]
  },
  {
   "cell_type": "code",
   "execution_count": null,
   "metadata": {},
   "outputs": [],
   "source": []
  }
 ],
 "metadata": {
  "kernelspec": {
   "display_name": ".venv",
   "language": "python",
   "name": "python3"
  },
  "language_info": {
   "codemirror_mode": {
    "name": "ipython",
    "version": 3
   },
   "file_extension": ".py",
   "mimetype": "text/x-python",
   "name": "python",
   "nbconvert_exporter": "python",
   "pygments_lexer": "ipython3",
   "version": "3.10.14"
  }
 },
 "nbformat": 4,
 "nbformat_minor": 2
}

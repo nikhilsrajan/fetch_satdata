{
 "cells": [
  {
   "cell_type": "code",
   "execution_count": 1,
   "metadata": {},
   "outputs": [
    {
     "name": "stderr",
     "output_type": "stream",
     "text": [
      "/Users/nikhilsrajan/NASA-Harvest/project/fetch_satdata/.venv/lib/python3.10/site-packages/tqdm/auto.py:21: TqdmWarning: IProgress not found. Please update jupyter and ipywidgets. See https://ipywidgets.readthedocs.io/en/stable/user_install.html\n",
      "  from .autonotebook import tqdm as notebook_tqdm\n"
     ]
    }
   ],
   "source": [
    "import os\n",
    "import datetime\n",
    "import geopandas as gpd\n",
    "import pandas as pd\n",
    "import json\n",
    "import shapely.ops\n",
    "\n",
    "import sentinelhub\n",
    "import boto3"
   ]
  },
  {
   "cell_type": "code",
   "execution_count": 2,
   "metadata": {},
   "outputs": [],
   "source": [
    "import sys\n",
    "sys.path.append('..')"
   ]
  },
  {
   "cell_type": "code",
   "execution_count": 3,
   "metadata": {},
   "outputs": [],
   "source": [
    "import mysecrets\n",
    "import cdseutils.utils as utils\n",
    "import cdseutils.mydataclasses as mydataclasses\n",
    "import cdseutils.constants as constants"
   ]
  },
  {
   "cell_type": "code",
   "execution_count": 4,
   "metadata": {},
   "outputs": [],
   "source": [
    "cdse_creds = mysecrets.PROFILES['nikhilsasirajan@gmail.com']"
   ]
  },
  {
   "cell_type": "code",
   "execution_count": 5,
   "metadata": {},
   "outputs": [],
   "source": [
    "year = 2020\n",
    "\n",
    "startdate = datetime.datetime(year, 3, 1)\n",
    "enddate = datetime.datetime(year + 1, 1, 31)"
   ]
  },
  {
   "cell_type": "code",
   "execution_count": 6,
   "metadata": {},
   "outputs": [
    {
     "data": {
      "text/plain": [
       "336"
      ]
     },
     "execution_count": 6,
     "metadata": {},
     "output_type": "execute_result"
    }
   ],
   "source": [
    "(enddate - startdate).days"
   ]
  },
  {
   "cell_type": "code",
   "execution_count": 7,
   "metadata": {},
   "outputs": [],
   "source": [
    "import s2l1c_via_s3"
   ]
  },
  {
   "cell_type": "code",
   "execution_count": 8,
   "metadata": {},
   "outputs": [
    {
     "name": "stderr",
     "output_type": "stream",
     "text": [
      "/Users/nikhilsrajan/NASA-Harvest/project/fetch_satdata/.venv/lib/python3.10/site-packages/sentinelhub/constants.py:114: SHUserWarning: sentinelhub-py supports only WGS 84 coordinate reference system with coordinate order lng-lat. Given pyproj.CRS(4326) has coordinate order lat-lng. Be careful to use the correct order of coordinates.\n",
      "  warnings.warn(message, category=SHUserWarning)\n"
     ]
    },
    {
     "ename": "ValueError",
     "evalue": "Are you sure you wish to download 265 image sets?\nThis is roughly 185.5 GB of download. This exceeds upper_limit_for_number_of_tiles=100.\nKindly discuss with your team before you go ahead.",
     "output_type": "error",
     "traceback": [
      "\u001b[0;31m---------------------------------------------------------------------------\u001b[0m",
      "\u001b[0;31mValueError\u001b[0m                                Traceback (most recent call last)",
      "Cell \u001b[0;32mIn[8], line 1\u001b[0m\n\u001b[0;32m----> 1\u001b[0m \u001b[43ms2l1c_via_s3\u001b[49m\u001b[38;5;241;43m.\u001b[39;49m\u001b[43mdownload_sentinel2_l1c_tiles\u001b[49m\u001b[43m(\u001b[49m\n\u001b[1;32m      2\u001b[0m \u001b[43m    \u001b[49m\u001b[43mcdse_creds\u001b[49m\u001b[43m \u001b[49m\u001b[38;5;241;43m=\u001b[39;49m\u001b[43m \u001b[49m\u001b[43mcdse_creds\u001b[49m\u001b[43m,\u001b[49m\n\u001b[1;32m      3\u001b[0m \u001b[43m    \u001b[49m\u001b[43mcatalog_save_folderpath\u001b[49m\u001b[43m \u001b[49m\u001b[38;5;241;43m=\u001b[39;49m\u001b[43m \u001b[49m\u001b[38;5;124;43m'\u001b[39;49m\u001b[38;5;124;43m../data/fetch_catalogue_cache\u001b[39;49m\u001b[38;5;124;43m'\u001b[39;49m\u001b[43m,\u001b[49m\n\u001b[1;32m      4\u001b[0m \u001b[43m    \u001b[49m\u001b[43mroot_download_folderpath\u001b[49m\u001b[43m \u001b[49m\u001b[38;5;241;43m=\u001b[39;49m\u001b[43m \u001b[49m\u001b[38;5;124;43m'\u001b[39;49m\u001b[38;5;124;43m../data/testing_download\u001b[39;49m\u001b[38;5;124;43m'\u001b[39;49m\u001b[43m,\u001b[49m\n\u001b[1;32m      5\u001b[0m \u001b[43m    \u001b[49m\u001b[43mroi_filepath\u001b[49m\u001b[43m \u001b[49m\u001b[38;5;241;43m=\u001b[39;49m\u001b[43m \u001b[49m\u001b[38;5;124;43m'\u001b[39;49m\u001b[38;5;124;43m../../ethiopia/data/Ethiopia_Bounding_Boxs/Ethiopia_2021_East_Bounding_Box.shp\u001b[39;49m\u001b[38;5;124;43m'\u001b[39;49m\u001b[43m,\u001b[49m\n\u001b[1;32m      6\u001b[0m \u001b[43m    \u001b[49m\u001b[43mstartdate\u001b[49m\u001b[43m \u001b[49m\u001b[38;5;241;43m=\u001b[39;49m\u001b[43m \u001b[49m\u001b[43mstartdate\u001b[49m\u001b[43m,\u001b[49m\n\u001b[1;32m      7\u001b[0m \u001b[43m    \u001b[49m\u001b[43menddate\u001b[49m\u001b[43m \u001b[49m\u001b[38;5;241;43m=\u001b[39;49m\u001b[43m \u001b[49m\u001b[43menddate\u001b[49m\u001b[43m,\u001b[49m\n\u001b[1;32m      8\u001b[0m \u001b[43m    \u001b[49m\u001b[43mupper_limit_for_number_of_tiles\u001b[49m\u001b[43m \u001b[49m\u001b[38;5;241;43m=\u001b[39;49m\u001b[43m \u001b[49m\u001b[38;5;241;43m100\u001b[39;49m\u001b[43m,\u001b[49m\n\u001b[1;32m      9\u001b[0m \u001b[43m)\u001b[49m\n",
      "File \u001b[0;32m~/NASA-Harvest/project/fetch_satdata/notebooks/../s2l1c_via_s3.py:90\u001b[0m, in \u001b[0;36mdownload_sentinel2_l1c_tiles\u001b[0;34m(cdse_creds, catalog_save_folderpath, root_download_folderpath, catalog_gdf, roi_filepath, startdate, enddate, max_cloudcover_threshold, upper_limit_for_number_of_tiles)\u001b[0m\n\u001b[1;32m     88\u001b[0m number_of_tiles_to_download \u001b[38;5;241m=\u001b[39m catalog_gdf\u001b[38;5;241m.\u001b[39mshape[\u001b[38;5;241m0\u001b[39m]\n\u001b[1;32m     89\u001b[0m \u001b[38;5;28;01mif\u001b[39;00m number_of_tiles_to_download \u001b[38;5;241m>\u001b[39m upper_limit_for_number_of_tiles:\n\u001b[0;32m---> 90\u001b[0m     \u001b[38;5;28;01mraise\u001b[39;00m \u001b[38;5;167;01mValueError\u001b[39;00m(\n\u001b[1;32m     91\u001b[0m         \u001b[38;5;124mf\u001b[39m\u001b[38;5;124m'\u001b[39m\u001b[38;5;124mAre you sure you wish to download \u001b[39m\u001b[38;5;132;01m{\u001b[39;00mnumber_of_tiles_to_download\u001b[38;5;132;01m}\u001b[39;00m\u001b[38;5;124m image sets?\u001b[39m\u001b[38;5;130;01m\\n\u001b[39;00m\u001b[38;5;124m'\u001b[39m\n\u001b[1;32m     92\u001b[0m         \u001b[38;5;124mf\u001b[39m\u001b[38;5;124m'\u001b[39m\u001b[38;5;124mThis is roughly \u001b[39m\u001b[38;5;132;01m{\u001b[39;00mnumber_of_tiles_to_download\u001b[38;5;250m \u001b[39m\u001b[38;5;241m*\u001b[39m\u001b[38;5;250m \u001b[39m\u001b[38;5;241m700\u001b[39m\u001b[38;5;250m \u001b[39m\u001b[38;5;241m/\u001b[39m\u001b[38;5;250m \u001b[39m\u001b[38;5;241m1000\u001b[39m\u001b[38;5;132;01m}\u001b[39;00m\u001b[38;5;124m GB of download. \u001b[39m\u001b[38;5;124m'\u001b[39m\n\u001b[1;32m     93\u001b[0m         \u001b[38;5;124mf\u001b[39m\u001b[38;5;124m'\u001b[39m\u001b[38;5;124mThis exceeds upper_limit_for_number_of_tiles=\u001b[39m\u001b[38;5;132;01m{\u001b[39;00mupper_limit_for_number_of_tiles\u001b[38;5;132;01m}\u001b[39;00m\u001b[38;5;124m.\u001b[39m\u001b[38;5;130;01m\\n\u001b[39;00m\u001b[38;5;124m'\u001b[39m\n\u001b[1;32m     94\u001b[0m         \u001b[38;5;124m'\u001b[39m\u001b[38;5;124mKindly discuss with your team before you go ahead.\u001b[39m\u001b[38;5;124m'\u001b[39m\n\u001b[1;32m     95\u001b[0m     )\n",
      "\u001b[0;31mValueError\u001b[0m: Are you sure you wish to download 265 image sets?\nThis is roughly 185.5 GB of download. This exceeds upper_limit_for_number_of_tiles=100.\nKindly discuss with your team before you go ahead."
     ]
    }
   ],
   "source": [
    "s2l1c_via_s3.download_sentinel2_l1c_tiles(\n",
    "    cdse_creds = cdse_creds,\n",
    "    catalog_save_folderpath = '../data/fetch_catalogue_cache',\n",
    "    root_download_folderpath = '../data/testing_download',\n",
    "    roi_filepath = '../../ethiopia/data/Ethiopia_Bounding_Boxs/Ethiopia_2021_East_Bounding_Box.shp',\n",
    "    startdate = startdate,\n",
    "    enddate = enddate,\n",
    "    upper_limit_for_number_of_tiles = 100,\n",
    ")"
   ]
  },
  {
   "cell_type": "code",
   "execution_count": null,
   "metadata": {},
   "outputs": [],
   "source": [
    "eth_bb_east_gdf = gpd.read_file('../../ethiopia/data/Ethiopia_Bounding_Boxs/Ethiopia_2021_East_Bounding_Box.shp')"
   ]
  },
  {
   "cell_type": "code",
   "execution_count": null,
   "metadata": {},
   "outputs": [],
   "source": [
    "bboxes = utils.get_bboxes(shapes_gdf=eth_bb_east_gdf)"
   ]
  },
  {
   "cell_type": "code",
   "execution_count": null,
   "metadata": {},
   "outputs": [],
   "source": [
    "catalogue_gdf, results = utils.fetch_catalog(\n",
    "    sh_creds=cdse_creds.sh_creds,\n",
    "    collection=sentinelhub.DataCollection.SENTINEL2_L1C,\n",
    "    startdate=startdate,\n",
    "    enddate=enddate,\n",
    "    bboxes=bboxes,\n",
    "    cache_folderpath = '../data/fetch_catalogue_cache'\n",
    ")"
   ]
  },
  {
   "cell_type": "code",
   "execution_count": null,
   "metadata": {},
   "outputs": [],
   "source": [
    "catalogue_filepath = '../data/eth_east_bb_catalogue.geojson'\n",
    "results_filepath = '../data/eth_east_bb_catalogue_all.json'\n",
    "\n",
    "if not os.path.exists(catalogue_filepath) or not os.path.exists(results_filepath):\n",
    "    catalogue_gdf, results = utils.fetch_catalog(\n",
    "        sh_creds=cdse_creds.sh_creds,\n",
    "        collection=sentinelhub.DataCollection.SENTINEL2_L1C,\n",
    "        startdate=startdate,\n",
    "        enddate=enddate,\n",
    "        bboxes=bboxes,\n",
    "    )\n",
    "    catalogue_gdf.to_file(catalogue_filepath)\n",
    "    with open(results_filepath, 'w') as h:\n",
    "        json.dump(results, h)\n",
    "else:\n",
    "    catalogue_gdf = gpd.read_file(catalogue_filepath)\n",
    "    with open(results_filepath) as h:\n",
    "        results = json.load(h)"
   ]
  },
  {
   "cell_type": "code",
   "execution_count": null,
   "metadata": {},
   "outputs": [],
   "source": [
    "bbox, startdate, enddate"
   ]
  },
  {
   "cell_type": "code",
   "execution_count": null,
   "metadata": {},
   "outputs": [],
   "source": [
    "catalogue_gdf['cloud_cover'] = [x['properties']['eo:cloud_cover'] for x in results]"
   ]
  },
  {
   "cell_type": "code",
   "execution_count": null,
   "metadata": {},
   "outputs": [],
   "source": [
    "catalogue_gdf.columns"
   ]
  },
  {
   "cell_type": "code",
   "execution_count": null,
   "metadata": {},
   "outputs": [],
   "source": [
    "f'{1 if False else 2}'"
   ]
  },
  {
   "cell_type": "code",
   "execution_count": null,
   "metadata": {},
   "outputs": [],
   "source": [
    "eth_bb_east_gdf"
   ]
  },
  {
   "cell_type": "code",
   "execution_count": null,
   "metadata": {},
   "outputs": [],
   "source": [
    "gpd.sjoin(catalogue_gdf, eth_bb_east_gdf[['geometry']].to_crs(catalogue_gdf.crs))['id'].unique()"
   ]
  },
  {
   "cell_type": "code",
   "execution_count": null,
   "metadata": {},
   "outputs": [],
   "source": []
  },
  {
   "cell_type": "code",
   "execution_count": null,
   "metadata": {},
   "outputs": [],
   "source": [
    "(catalogue_gdf['cloud_cover'] > 80).sum()"
   ]
  },
  {
   "cell_type": "code",
   "execution_count": null,
   "metadata": {},
   "outputs": [],
   "source": [
    "catalogue_gdf['cloud_cover'].hist(bins=100)"
   ]
  },
  {
   "cell_type": "code",
   "execution_count": null,
   "metadata": {},
   "outputs": [],
   "source": []
  },
  {
   "cell_type": "code",
   "execution_count": null,
   "metadata": {},
   "outputs": [],
   "source": []
  },
  {
   "cell_type": "code",
   "execution_count": null,
   "metadata": {},
   "outputs": [],
   "source": []
  },
  {
   "cell_type": "code",
   "execution_count": null,
   "metadata": {},
   "outputs": [],
   "source": []
  },
  {
   "cell_type": "code",
   "execution_count": null,
   "metadata": {},
   "outputs": [],
   "source": []
  },
  {
   "cell_type": "code",
   "execution_count": null,
   "metadata": {},
   "outputs": [],
   "source": []
  },
  {
   "cell_type": "code",
   "execution_count": null,
   "metadata": {},
   "outputs": [],
   "source": [
    "# 4 -> 59.9 secs\n",
    "# 8 -> 30.0 secs\n",
    "# 16 -> 18.4 secs\n",
    "# 32 -> 23 secs\n",
    "# 64 -> 27.7 secs\n",
    "s3_paths, download_filepaths = utils.get_sentinel2_s3_paths(\n",
    "    s3_urls = catalogue_gdf['s3url'],\n",
    "    s3_creds = cdse_creds.s3_creds,\n",
    "    root_folderpath = '../data/testing_download',\n",
    "    bands = constants.Bands.Sentinel2.ALL,\n",
    ")"
   ]
  },
  {
   "cell_type": "code",
   "execution_count": null,
   "metadata": {},
   "outputs": [],
   "source": [
    "len(s3_paths), len(download_filepaths)"
   ]
  },
  {
   "cell_type": "code",
   "execution_count": null,
   "metadata": {},
   "outputs": [],
   "source": [
    "import pandas as pd"
   ]
  },
  {
   "cell_type": "code",
   "execution_count": null,
   "metadata": {},
   "outputs": [],
   "source": [
    "s3_paths_df = pd.DataFrame(data = {\n",
    "    's3_bucket': [s3_path.bucket for s3_path in s3_paths],\n",
    "    's3_prefix': [s3_path.prefix for s3_path in s3_paths],\n",
    "    'download_filepath': download_filepaths,\n",
    "})"
   ]
  },
  {
   "cell_type": "code",
   "execution_count": null,
   "metadata": {},
   "outputs": [],
   "source": [
    "all(s3_paths_df['s3_prefix'].str[-6:] == s3_paths_df['download_filepath'].str[-6:])"
   ]
  },
  {
   "cell_type": "code",
   "execution_count": null,
   "metadata": {},
   "outputs": [],
   "source": [
    "selected_row = catalogue_gdf[['timestamp', 's3url']].loc[0].to_dict()\n",
    "selected_row['timestamp'], selected_row['s3url']"
   ]
  },
  {
   "cell_type": "code",
   "execution_count": null,
   "metadata": {},
   "outputs": [],
   "source": [
    "catalogue_gdf.shape"
   ]
  },
  {
   "cell_type": "code",
   "execution_count": null,
   "metadata": {},
   "outputs": [],
   "source": [
    "catalogue_gdf.iloc[catalogue_gdf['geometry'].drop_duplicates().index].to_file('../data/eth_east_bb_catalogue_s2l1c.geojson')"
   ]
  },
  {
   "cell_type": "code",
   "execution_count": null,
   "metadata": {},
   "outputs": [],
   "source": [
    "results[0]"
   ]
  },
  {
   "cell_type": "code",
   "execution_count": null,
   "metadata": {},
   "outputs": [],
   "source": [
    "catalogue_gdf.loc[0, 'id']"
   ]
  },
  {
   "cell_type": "code",
   "execution_count": null,
   "metadata": {},
   "outputs": [],
   "source": []
  },
  {
   "cell_type": "code",
   "execution_count": null,
   "metadata": {},
   "outputs": [],
   "source": [
    "utils.sentinel2_id_parser(sentinel2_id = catalogue_gdf.loc[0, 'id'])"
   ]
  },
  {
   "cell_type": "code",
   "execution_count": null,
   "metadata": {},
   "outputs": [],
   "source": [
    "def add_sentinel2_id_parsed_cols(row, id_col:str = 'id'):\n",
    "    sentinel2_id = row[id_col]\n",
    "    parsed_out = utils.sentinel2_id_parser(\n",
    "        sentinel2_id = sentinel2_id,\n",
    "    )\n",
    "    for key, val in parsed_out.items():\n",
    "        row[key] = val\n",
    "    return row"
   ]
  },
  {
   "cell_type": "code",
   "execution_count": null,
   "metadata": {},
   "outputs": [],
   "source": [
    "catalogue_gdf = catalogue_gdf.apply(\n",
    "    lambda row: add_sentinel2_id_parsed_cols(row=row),\n",
    "    axis = 1\n",
    ")"
   ]
  },
  {
   "cell_type": "code",
   "execution_count": null,
   "metadata": {},
   "outputs": [],
   "source": [
    "catalogue_gdf.columns"
   ]
  },
  {
   "cell_type": "code",
   "execution_count": null,
   "metadata": {},
   "outputs": [],
   "source": [
    "catalogue_gdf[['tile_number_field']].value_counts()"
   ]
  },
  {
   "cell_type": "code",
   "execution_count": null,
   "metadata": {},
   "outputs": [],
   "source": [
    "catalogue_gdf.loc[0, 's3url']"
   ]
  },
  {
   "cell_type": "code",
   "execution_count": null,
   "metadata": {},
   "outputs": [],
   "source": [
    "# session = boto3.session.Session()\n",
    "s3 = boto3.resource(\n",
    "    's3',\n",
    "    endpoint_url = cdse_creds.s3_creds.endpoint_url,\n",
    "    aws_access_key_id = cdse_creds.s3_creds.s3_access_key,\n",
    "    aws_secret_access_key = cdse_creds.s3_creds.s3_secret_key,\n",
    "    region_name = cdse_creds.s3_creds.region_name,\n",
    ")  # generated secrets"
   ]
  },
  {
   "cell_type": "code",
   "execution_count": null,
   "metadata": {},
   "outputs": [],
   "source": [
    "selected_row['s3url'].replace('.SAFE/', '').split('/')[-1]"
   ]
  },
  {
   "cell_type": "code",
   "execution_count": null,
   "metadata": {},
   "outputs": [],
   "source": [
    "splits = selected_row['s3url'].replace('s3://EODATA/', '').split('/')[-2].replace('.SAFE', '').split('_')\n",
    "date_str = splits[2]\n",
    "tile_id = splits[5]\n",
    "tile_id, date_str"
   ]
  },
  {
   "cell_type": "code",
   "execution_count": null,
   "metadata": {},
   "outputs": [],
   "source": [
    "files_to_download = [\n",
    "    f'{tile_id}_{date_str}_{band}.jp2' for band in cdse_utils.constants.Bands.Sentinel2.ALL\n",
    "]\n",
    "files_to_download"
   ]
  },
  {
   "cell_type": "code",
   "execution_count": null,
   "metadata": {},
   "outputs": [],
   "source": [
    "'4123'.endswith('123')"
   ]
  },
  {
   "cell_type": "code",
   "execution_count": null,
   "metadata": {},
   "outputs": [],
   "source": [
    "selected_row['s3url']"
   ]
  },
  {
   "cell_type": "code",
   "execution_count": null,
   "metadata": {},
   "outputs": [],
   "source": [
    "files = s3.Bucket(\"eodata\").objects.filter(\n",
    "    Prefix=selected_row['s3url'].replace('s3://EODATA/', '')\n",
    ")"
   ]
  },
  {
   "cell_type": "code",
   "execution_count": null,
   "metadata": {},
   "outputs": [],
   "source": [
    "list_of_files = list(files)"
   ]
  },
  {
   "cell_type": "code",
   "execution_count": null,
   "metadata": {},
   "outputs": [],
   "source": [
    "# list_of_files"
   ]
  },
  {
   "cell_type": "code",
   "execution_count": null,
   "metadata": {},
   "outputs": [],
   "source": []
  },
  {
   "cell_type": "code",
   "execution_count": null,
   "metadata": {},
   "outputs": [],
   "source": [
    "s3_paths, download_filepaths = get_sentinel2_s3_paths_single_url(\n",
    "    s3_creds = cdse_creds.s3_creds,\n",
    "    s3_url = selected_row['s3url'],\n",
    "    root_folderpath = '../data/testing_download',\n",
    "    bands = constants.Bands.Sentinel2.ALL,\n",
    ")"
   ]
  },
  {
   "cell_type": "code",
   "execution_count": null,
   "metadata": {},
   "outputs": [],
   "source": [
    "download_filepaths"
   ]
  },
  {
   "cell_type": "code",
   "execution_count": null,
   "metadata": {},
   "outputs": [],
   "source": [
    "# 28 secs, 13 files, 2.23s / it\n",
    "download_successes = cdse_utils.utils.download_s3_files(\n",
    "    s3_creds = cdse_creds.s3_creds,\n",
    "    s3_paths = s3_paths,\n",
    "    download_filepaths = download_filepaths,\n",
    ")"
   ]
  },
  {
   "cell_type": "code",
   "execution_count": null,
   "metadata": {},
   "outputs": [],
   "source": []
  }
 ],
 "metadata": {
  "kernelspec": {
   "display_name": ".venv",
   "language": "python",
   "name": "python3"
  },
  "language_info": {
   "codemirror_mode": {
    "name": "ipython",
    "version": 3
   },
   "file_extension": ".py",
   "mimetype": "text/x-python",
   "name": "python",
   "nbconvert_exporter": "python",
   "pygments_lexer": "ipython3",
   "version": "3.10.11"
  }
 },
 "nbformat": 4,
 "nbformat_minor": 2
}

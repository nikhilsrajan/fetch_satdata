{
 "cells": [
  {
   "cell_type": "code",
   "execution_count": null,
   "metadata": {},
   "outputs": [],
   "source": [
    "import geopandas as gpd\n",
    "import datetime\n",
    "import rasterio\n",
    "import rasterio.warp\n",
    "import os"
   ]
  },
  {
   "cell_type": "code",
   "execution_count": null,
   "metadata": {},
   "outputs": [],
   "source": [
    "import sys\n",
    "sys.path.append('..')"
   ]
  },
  {
   "cell_type": "code",
   "execution_count": null,
   "metadata": {},
   "outputs": [],
   "source": [
    "import mysecrets\n",
    "import fetch_from_cluster\n",
    "import create_stack\n",
    "import rsutils.modify_images as modify_images\n",
    "import rsutils.utils\n",
    "import crop_and_zip"
   ]
  },
  {
   "cell_type": "code",
   "execution_count": null,
   "metadata": {},
   "outputs": [],
   "source": [
    "eth_s2grids_gdf = gpd.read_file('../../ethiopia/data/ethiopia_s2_grids_esa_stats.geojson')"
   ]
  },
  {
   "cell_type": "code",
   "execution_count": null,
   "metadata": {},
   "outputs": [],
   "source": [
    "S2GRIDS_OF_INTEREST = [\n",
    "    '17b4c3c', # div 4\n",
    "    '17b37fc', # div 2\n",
    "    '164c59c', # corner\n",
    "    '165bca4', # intersection of tiles with different crs\n",
    "]"
   ]
  },
  {
   "cell_type": "code",
   "execution_count": null,
   "metadata": {},
   "outputs": [],
   "source": [
    "eth_s2grids_gdf.set_index('id').loc[\n",
    "    S2GRIDS_OF_INTEREST, 'geometry'\n",
    "].reset_index().to_file('../data/selected_eth_grids.geojson')"
   ]
  },
  {
   "cell_type": "code",
   "execution_count": null,
   "metadata": {},
   "outputs": [],
   "source": [
    "selected_s2grid_gdf = eth_s2grids_gdf[eth_s2grids_gdf['id'] == S2GRIDS_OF_INTEREST[3]][['id', 'geometry']]"
   ]
  },
  {
   "cell_type": "code",
   "execution_count": null,
   "metadata": {},
   "outputs": [],
   "source": [
    "shapes_gdf = selected_s2grid_gdf\n",
    "startdate = datetime.datetime(2021, 3, 1)\n",
    "enddate = datetime.datetime(2021, 4, 1)\n",
    "sshcreds = mysecrets.SSH_UMD_SASIRAJANN\n",
    "satellite_folderpath = '../data/cluster_files/satellite'\n",
    "bands = ['B01', 'B02', 'B03', 'B04', 'B08']\n",
    "overwrite_catalog = False\n",
    "njobs = 4"
   ]
  },
  {
   "cell_type": "code",
   "execution_count": null,
   "metadata": {},
   "outputs": [],
   "source": [
    "catalog_filepath = fetch_from_cluster.remotepath_to_localpath(\n",
    "    remotepath = fetch_from_cluster.FILEPATH_SENTINEL2_CATALOG,\n",
    "    remote_root_path = fetch_from_cluster.FOLDERPATH_SATELLITE,\n",
    "    local_root_path = satellite_folderpath,\n",
    ")\n",
    "\n",
    "fetch_from_cluster.download_file_from_cluster(\n",
    "    sshcreds = sshcreds,\n",
    "    remotepath = fetch_from_cluster.FILEPATH_SENTINEL2_CATALOG,\n",
    "    download_filepath = catalog_filepath,\n",
    "    overwrite = overwrite_catalog,\n",
    ")\n",
    "\n",
    "catalog_gdf = create_stack.filter_catalog(\n",
    "    catalog_filepath = catalog_filepath,\n",
    "    shapes_gdf = shapes_gdf,\n",
    "    startdate = startdate,\n",
    "    enddate = enddate,\n",
    ")"
   ]
  },
  {
   "cell_type": "code",
   "execution_count": null,
   "metadata": {},
   "outputs": [],
   "source": [
    "catalog_filepath"
   ]
  },
  {
   "cell_type": "code",
   "execution_count": null,
   "metadata": {},
   "outputs": [],
   "source": [
    "catalog_gdf.shape"
   ]
  },
  {
   "cell_type": "code",
   "execution_count": null,
   "metadata": {},
   "outputs": [],
   "source": [
    "selected_s2grid_gdf"
   ]
  },
  {
   "cell_type": "code",
   "execution_count": null,
   "metadata": {},
   "outputs": [],
   "source": [
    "band_filepaths_df \\\n",
    "= fetch_from_cluster.download_intersecting_sentinel2_tiles_from_cluster(\n",
    "    shapes_gdf = shapes_gdf,\n",
    "    startdate = startdate,\n",
    "    enddate = enddate,\n",
    "    sshcreds = sshcreds,\n",
    "    satellite_folderpath = satellite_folderpath,\n",
    "    bands = bands,\n",
    "    overwrite_catalog = overwrite_catalog,\n",
    "    njobs = njobs,\n",
    ")"
   ]
  },
  {
   "cell_type": "code",
   "execution_count": null,
   "metadata": {},
   "outputs": [],
   "source": [
    "band_filepaths_df"
   ]
  },
  {
   "cell_type": "code",
   "execution_count": null,
   "metadata": {},
   "outputs": [],
   "source": [
    "catalog_gdf['local_folderpath'][0]"
   ]
  },
  {
   "cell_type": "code",
   "execution_count": null,
   "metadata": {},
   "outputs": [],
   "source": [
    "catalog_gdf['local_folderpath'] = catalog_gdf['local_folderpath'].apply(\n",
    "    lambda folderpath: create_stack.change_parent_folderpath(\n",
    "        filepath = folderpath,\n",
    "        parent_folderpath = fetch_from_cluster.FOLDERPATH_SATELLITE,\n",
    "        new_parent_folderpath = satellite_folderpath,\n",
    "    )\n",
    ")"
   ]
  },
  {
   "cell_type": "code",
   "execution_count": null,
   "metadata": {},
   "outputs": [],
   "source": [
    "local_catalog_filepath = rsutils.utils.modify_filepath(\n",
    "    filepath = create_stack.change_parent_folderpath(\n",
    "        filepath = fetch_from_cluster.FILEPATH_SENTINEL2_CATALOG,\n",
    "        parent_folderpath = fetch_from_cluster.FOLDERPATH_SATELLITE,\n",
    "        new_parent_folderpath = satellite_folderpath,\n",
    "    ),\n",
    "    prefix = 'local_'\n",
    ")\n",
    "local_catalog_filepath"
   ]
  },
  {
   "cell_type": "code",
   "execution_count": null,
   "metadata": {},
   "outputs": [],
   "source": [
    "catalog_gdf['local_folderpath'][0]"
   ]
  },
  {
   "cell_type": "code",
   "execution_count": null,
   "metadata": {},
   "outputs": [],
   "source": [
    "catalog_gdf.to_file(local_catalog_filepath)"
   ]
  },
  {
   "cell_type": "code",
   "execution_count": null,
   "metadata": {},
   "outputs": [],
   "source": [
    "# zip_filepath = crop_and_zip.crop_and_zip(\n",
    "#     shapes_gdf = shapes_gdf,\n",
    "#     catalog_filepath = local_catalog_filepath,\n",
    "#     startdate = startdate,\n",
    "#     enddate = enddate,\n",
    "#     bands = bands,\n",
    "#     zip_filepath = '../data/testing_crop_and_zip',\n",
    "#     satellite_folderpath = satellite_folderpath,\n",
    "# )"
   ]
  },
  {
   "cell_type": "code",
   "execution_count": null,
   "metadata": {},
   "outputs": [],
   "source": [
    "# zip_filepath"
   ]
  },
  {
   "cell_type": "code",
   "execution_count": null,
   "metadata": {},
   "outputs": [],
   "source": [
    "out_folderpath = '../data/testing_create_stack/resample/'"
   ]
  },
  {
   "cell_type": "code",
   "execution_count": null,
   "metadata": {},
   "outputs": [],
   "source": [
    "rsutils.utils.get_all_files_in_folder('../data', keep_extensions=['.jp2.aux.xml'])"
   ]
  },
  {
   "cell_type": "code",
   "execution_count": null,
   "metadata": {},
   "outputs": [],
   "source": [
    "[  \n",
    "    os.remove(filepath) for filepath in\n",
    "    rsutils.utils.get_all_files_in_folder('../data', keep_extensions=['.jp2.aux.xml'])\n",
    "]"
   ]
  },
  {
   "cell_type": "code",
   "execution_count": null,
   "metadata": {},
   "outputs": [],
   "source": [
    "create_stack.create_stack(\n",
    "    shapes_gdf = shapes_gdf,\n",
    "    catalog_filepath = local_catalog_filepath,\n",
    "    startdate = startdate,\n",
    "    enddate = enddate,\n",
    "    bands = bands,\n",
    "    out_folderpath = '../data/testing_create_stack',\n",
    "    nodata = 0,\n",
    "    working_dir = '../data/testing_create_stack',\n",
    "    njobs = njobs,\n",
    "    dst_crs = None,\n",
    "    resampling = rasterio.warp.Resampling.nearest,\n",
    "    resampling_ref_band = 'B08',\n",
    ")"
   ]
  },
  {
   "cell_type": "code",
   "execution_count": null,
   "metadata": {},
   "outputs": [],
   "source": [
    "bands, metadata = create_stack.load_stack(folderpath='../data/testing_create_stack')"
   ]
  },
  {
   "cell_type": "code",
   "execution_count": null,
   "metadata": {},
   "outputs": [],
   "source": [
    "bands.shape"
   ]
  },
  {
   "cell_type": "code",
   "execution_count": null,
   "metadata": {},
   "outputs": [],
   "source": [
    "metadata"
   ]
  },
  {
   "cell_type": "code",
   "execution_count": null,
   "metadata": {},
   "outputs": [],
   "source": [
    "def get_shape(filepath):\n",
    "    with rasterio.open(filepath) as src:\n",
    "        shape = (src.meta['height'], src.meta['width'])\n",
    "    return shape"
   ]
  },
  {
   "cell_type": "code",
   "execution_count": null,
   "metadata": {},
   "outputs": [],
   "source": [
    "band_filepaths_df['new_shape'] = band_filepaths_df['filepath'].apply(get_shape)"
   ]
  },
  {
   "cell_type": "code",
   "execution_count": null,
   "metadata": {},
   "outputs": [],
   "source": [
    "band_filepaths_df['new_shape'].value_counts()"
   ]
  },
  {
   "cell_type": "code",
   "execution_count": null,
   "metadata": {},
   "outputs": [],
   "source": [
    "timestamps = band_filepaths_df['timestamp'].unique().tolist()\n",
    "timestamps.sort()\n",
    "len(timestamps)"
   ]
  },
  {
   "cell_type": "code",
   "execution_count": null,
   "metadata": {},
   "outputs": [],
   "source": [
    "timestamp_band_filepaths_dict = \\\n",
    "band_filepaths_df.groupby(['timestamp'])[\n",
    "    ['band', 'filepath']\n",
    "].apply(\n",
    "    lambda g: dict(map(tuple, g.values.tolist()))\n",
    ").to_dict()"
   ]
  },
  {
   "cell_type": "code",
   "execution_count": null,
   "metadata": {},
   "outputs": [],
   "source": [
    "bands"
   ]
  },
  {
   "cell_type": "code",
   "execution_count": null,
   "metadata": {},
   "outputs": [],
   "source": [
    "import numpy as np"
   ]
  },
  {
   "cell_type": "code",
   "execution_count": null,
   "metadata": {},
   "outputs": [],
   "source": [
    "stack = []\n",
    "meta = None\n",
    "for timestamp in timestamps:\n",
    "    band_stack = []\n",
    "    for band in bands:\n",
    "        band_filepath = timestamp_band_filepaths_dict[timestamp][band]\n",
    "        with rasterio.open(band_filepath) as src:\n",
    "            if meta is None:\n",
    "                meta = src.meta.copy()\n",
    "            band_stack.append(src.read())\n",
    "    band_stack = np.stack(band_stack, axis=-1)\n",
    "    stack.append(band_stack)\n",
    "    del band_stack\n",
    "stack = np.concatenate(stack, axis=0)"
   ]
  },
  {
   "cell_type": "code",
   "execution_count": null,
   "metadata": {},
   "outputs": [],
   "source": [
    "stack.shape"
   ]
  },
  {
   "cell_type": "code",
   "execution_count": null,
   "metadata": {},
   "outputs": [],
   "source": [
    "del meta['driver']"
   ]
  },
  {
   "cell_type": "code",
   "execution_count": null,
   "metadata": {},
   "outputs": [],
   "source": [
    "meta"
   ]
  },
  {
   "cell_type": "code",
   "execution_count": null,
   "metadata": {},
   "outputs": [],
   "source": [
    "band_filepaths_df['shape'] = band_filepaths_df['filepath'].apply(get_shape)"
   ]
  },
  {
   "cell_type": "code",
   "execution_count": null,
   "metadata": {},
   "outputs": [],
   "source": [
    "unique_shapes = band_filepaths_df['shape'].unique()"
   ]
  },
  {
   "cell_type": "code",
   "execution_count": null,
   "metadata": {},
   "outputs": [],
   "source": [
    "# unique_shapes = band_filepaths_df['shape'].value_counts().index"
   ]
  },
  {
   "cell_type": "code",
   "execution_count": null,
   "metadata": {},
   "outputs": [],
   "source": [
    "unique_shapes"
   ]
  },
  {
   "cell_type": "code",
   "execution_count": null,
   "metadata": {},
   "outputs": [],
   "source": [
    "filepaths_to_merge = []\n",
    "\n",
    "for shape in unique_shapes:\n",
    "    filepath = band_filepaths_df[\n",
    "        (band_filepaths_df['band'] == 'B08')\n",
    "        & (band_filepaths_df['shape'] == shape)\n",
    "    ]['filepath'].tolist()[0]\n",
    "    filepaths_to_merge.append(filepath)"
   ]
  },
  {
   "cell_type": "code",
   "execution_count": null,
   "metadata": {},
   "outputs": [],
   "source": [
    "filepaths_to_merge"
   ]
  },
  {
   "cell_type": "code",
   "execution_count": null,
   "metadata": {},
   "outputs": [],
   "source": [
    "import rasterio.merge\n",
    "\n",
    "\n",
    "out_image, out_transform = rasterio.merge.merge(\n",
    "    filepaths_to_merge,\n",
    "    nodata = 0,\n",
    ")"
   ]
  },
  {
   "cell_type": "code",
   "execution_count": null,
   "metadata": {},
   "outputs": [],
   "source": [
    "out_image.shape"
   ]
  },
  {
   "cell_type": "code",
   "execution_count": null,
   "metadata": {},
   "outputs": [],
   "source": []
  },
  {
   "cell_type": "code",
   "execution_count": null,
   "metadata": {},
   "outputs": [],
   "source": []
  },
  {
   "cell_type": "code",
   "execution_count": null,
   "metadata": {},
   "outputs": [],
   "source": []
  },
  {
   "cell_type": "code",
   "execution_count": null,
   "metadata": {},
   "outputs": [],
   "source": []
  },
  {
   "cell_type": "code",
   "execution_count": null,
   "metadata": {},
   "outputs": [],
   "source": []
  },
  {
   "cell_type": "code",
   "execution_count": null,
   "metadata": {},
   "outputs": [],
   "source": [
    "band_filepaths_df"
   ]
  },
  {
   "cell_type": "code",
   "execution_count": null,
   "metadata": {},
   "outputs": [],
   "source": [
    "band_filepaths_df['timestamp'].unique()"
   ]
  },
  {
   "cell_type": "code",
   "execution_count": null,
   "metadata": {},
   "outputs": [],
   "source": [
    "def get_image_crs(filepath:str):\n",
    "    with rasterio.open(filepath) as src:\n",
    "        crs = src.crs\n",
    "    return str(crs)"
   ]
  },
  {
   "cell_type": "code",
   "execution_count": null,
   "metadata": {},
   "outputs": [],
   "source": [
    "with rasterio.open(band_filepaths_df['filepath'][0]) as src:\n",
    "    meta = src.meta.copy()\n",
    "\n",
    "meta"
   ]
  },
  {
   "cell_type": "code",
   "execution_count": null,
   "metadata": {},
   "outputs": [],
   "source": [
    "band_filepaths_df['crs'] = band_filepaths_df['filepath'].apply(get_image_crs)"
   ]
  },
  {
   "cell_type": "code",
   "execution_count": null,
   "metadata": {},
   "outputs": [],
   "source": [
    "max_area_contribution_crs = band_filepaths_df.groupby(by='crs')['area_contribution'].mean().sort_values(ascending=False).index[0]\n",
    "max_area_contribution_crs"
   ]
  },
  {
   "cell_type": "code",
   "execution_count": null,
   "metadata": {},
   "outputs": [],
   "source": [
    "test_filepath = band_filepaths_df[\n",
    "    (band_filepaths_df['crs'] == max_area_contribution_crs)\n",
    "    & (band_filepaths_df['band'] == 'B08')\n",
    "]['filepath'].tolist()[0]"
   ]
  },
  {
   "cell_type": "code",
   "execution_count": null,
   "metadata": {},
   "outputs": [],
   "source": [
    "stack_name = '165bca4'\n",
    "\n",
    "working_dir = f'../data/test_stack_creation/{stack_name}'\n",
    "os.makedirs(working_dir, exist_ok=True)"
   ]
  },
  {
   "cell_type": "code",
   "execution_count": null,
   "metadata": {},
   "outputs": [],
   "source": [
    "modify_images.modify_image(\n",
    "    src_filepath = test_filepath,\n",
    "    dst_filepath = '../data/test_out_crop_reproject_crop_samecrs_B08.jp2',\n",
    "    sequence = [\n",
    "        (modify_images.crop, dict(shapes_gdf=shapes_gdf, nodata=0)),\n",
    "        (modify_images.reproject, dict(dst_crs=max_area_contribution_crs)),\n",
    "        (modify_images.crop, dict(shapes_gdf=shapes_gdf, nodata=0)),\n",
    "    ]\n",
    ")"
   ]
  },
  {
   "cell_type": "code",
   "execution_count": null,
   "metadata": {},
   "outputs": [],
   "source": []
  },
  {
   "cell_type": "code",
   "execution_count": null,
   "metadata": {},
   "outputs": [],
   "source": []
  },
  {
   "cell_type": "code",
   "execution_count": null,
   "metadata": {},
   "outputs": [],
   "source": []
  },
  {
   "cell_type": "code",
   "execution_count": null,
   "metadata": {},
   "outputs": [],
   "source": []
  },
  {
   "cell_type": "code",
   "execution_count": null,
   "metadata": {},
   "outputs": [],
   "source": []
  },
  {
   "cell_type": "code",
   "execution_count": null,
   "metadata": {},
   "outputs": [],
   "source": [
    "def change_parent_folderpath(\n",
    "    filepath:str,\n",
    "    parent_folderpath:str,\n",
    "    new_parent_folderpath:str,\n",
    "):\n",
    "    filepath = os.path.abspath(filepath)\n",
    "    parent_folderpath = os.path.abspath(parent_folderpath)\n",
    "    return os.path.join(\n",
    "        new_parent_folderpath,\n",
    "        os.path.relpath(path=filepath,\n",
    "                        start=parent_folderpath)\n",
    "    )"
   ]
  },
  {
   "cell_type": "code",
   "execution_count": null,
   "metadata": {},
   "outputs": [],
   "source": [
    "change_parent_folderpath(\n",
    "    filepath = '../data/1/2/3/4/blah.gif',\n",
    "    parent_folderpath = '../data/1/2',\n",
    "    new_parent_folderpath = '../data/a/b/'\n",
    ")"
   ]
  },
  {
   "cell_type": "code",
   "execution_count": null,
   "metadata": {},
   "outputs": [],
   "source": [
    "cropped_imgs_folderpath = os.path.join(working_dir, 'cropped')\n",
    "os.makedirs(cropped_imgs_folderpath, exist_ok=True)"
   ]
  },
  {
   "cell_type": "code",
   "execution_count": null,
   "metadata": {},
   "outputs": [],
   "source": [
    "def generate_cropped_filepath(\n",
    "    src_filepath:str,\n",
    "    parent_folderpath:str,\n",
    "    _id:str,\n",
    "):\n",
    "    crs = get_image_crs(filepath=src_filepath)\n",
    "    crs_str = crs.lower().replace(':', '-')\n",
    "    dst_filepath = rsutils.utils.modify_filepath(\n",
    "        filepath = src_filepath,\n",
    "        new_folderpath = os.path.join(\n",
    "            parent_folderpath, \n",
    "            crs_str,\n",
    "            _id,\n",
    "        )\n",
    "    )\n",
    "    return dst_filepath"
   ]
  },
  {
   "cell_type": "code",
   "execution_count": null,
   "metadata": {},
   "outputs": [],
   "source": [
    "band_filepaths_df['cropped_filepath'] = \\\n",
    "band_filepaths_df.apply(\n",
    "    lambda row: generate_cropped_filepath(\n",
    "        src_filepath = row['filepath'],\n",
    "        parent_folderpath = cropped_imgs_folderpath,\n",
    "        _id = row['id'],\n",
    "    ),\n",
    "    axis = 1\n",
    ")"
   ]
  },
  {
   "cell_type": "code",
   "execution_count": null,
   "metadata": {},
   "outputs": [],
   "source": [
    "band_filepaths_df"
   ]
  },
  {
   "cell_type": "code",
   "execution_count": null,
   "metadata": {},
   "outputs": [],
   "source": [
    "cropped_successes = create_stack.crop_and_save_images(\n",
    "    src_filepaths = band_filepaths_df['filepath'],\n",
    "    dst_filepaths = band_filepaths_df['cropped_filepath'],\n",
    "    shapes_gdf = shapes_gdf,\n",
    ")"
   ]
  },
  {
   "cell_type": "code",
   "execution_count": null,
   "metadata": {},
   "outputs": [],
   "source": [
    "if not all(cropped_successes):\n",
    "    raise ValueError('Not all cropping was a success.')"
   ]
  },
  {
   "cell_type": "code",
   "execution_count": null,
   "metadata": {},
   "outputs": [],
   "source": [
    "max_area_contribution_crs"
   ]
  },
  {
   "cell_type": "code",
   "execution_count": null,
   "metadata": {},
   "outputs": [],
   "source": [
    "indexes_to_reproject = band_filepaths_df[\n",
    "    band_filepaths_df['crs'] != max_area_contribution_crs \n",
    "].index"
   ]
  },
  {
   "cell_type": "code",
   "execution_count": null,
   "metadata": {},
   "outputs": [],
   "source": [
    "indexes_to_reproject"
   ]
  },
  {
   "cell_type": "code",
   "execution_count": null,
   "metadata": {},
   "outputs": [],
   "source": [
    "def generate_reprojected_filepath(\n",
    "    filepath,\n",
    "    from_crs,\n",
    "    to_crs,\n",
    "    _id,\n",
    "    parent_folderpath,\n",
    "):\n",
    "    return rsutils.utils.modify_filepath(\n",
    "        filepath = filepath,\n",
    "        new_folderpath = os.path.join(\n",
    "            parent_folderpath,\n",
    "            f\"{str(from_crs).lower().replace(':', '-')}_to_{str(to_crs).lower().replace(':', '-')}\",\n",
    "            _id,\n",
    "        )\n",
    "    )"
   ]
  },
  {
   "cell_type": "code",
   "execution_count": null,
   "metadata": {},
   "outputs": [],
   "source": [
    "reprojected_folderpath = os.path.join(working_dir, 'reprojected')\n",
    "os.makedirs(reprojected_folderpath, exist_ok=True)"
   ]
  },
  {
   "cell_type": "code",
   "execution_count": null,
   "metadata": {},
   "outputs": [],
   "source": [
    "band_filepaths_df.loc[\n",
    "    indexes_to_reproject,\n",
    "    'reprojected_filepath'\n",
    "] = band_filepaths_df.apply(\n",
    "    lambda row: generate_reprojected_filepath(\n",
    "        filepath = row['cropped_filepath'],\n",
    "        from_crs = row['crs'],\n",
    "        to_crs = max_area_contribution_crs,\n",
    "        _id = row['id'],\n",
    "        parent_folderpath = reprojected_folderpath,\n",
    "    ),\n",
    "    axis = 1,\n",
    ")"
   ]
  },
  {
   "cell_type": "code",
   "execution_count": null,
   "metadata": {},
   "outputs": [],
   "source": [
    "band_filepaths_df"
   ]
  },
  {
   "cell_type": "code",
   "execution_count": null,
   "metadata": {},
   "outputs": [],
   "source": [
    "reproject_successes = create_stack.reproject_images(\n",
    "    src_filepaths = band_filepaths_df.loc[indexes_to_reproject, 'cropped_filepath'],\n",
    "    dst_filepaths = band_filepaths_df.loc[indexes_to_reproject, 'reprojected_filepath'],\n",
    "    dst_crs = max_area_contribution_crs,\n",
    "    resampling = rasterio.warp.Resampling.nearest,\n",
    ")"
   ]
  },
  {
   "cell_type": "code",
   "execution_count": null,
   "metadata": {},
   "outputs": [],
   "source": [
    "create_stack.reproject_image(\n",
    "    src_filepath = \n",
    ")"
   ]
  }
 ],
 "metadata": {
  "kernelspec": {
   "display_name": ".venv",
   "language": "python",
   "name": "python3"
  },
  "language_info": {
   "codemirror_mode": {
    "name": "ipython",
    "version": 3
   },
   "file_extension": ".py",
   "mimetype": "text/x-python",
   "name": "python",
   "nbconvert_exporter": "python",
   "pygments_lexer": "ipython3",
   "version": "3.10.14"
  }
 },
 "nbformat": 4,
 "nbformat_minor": 2
}

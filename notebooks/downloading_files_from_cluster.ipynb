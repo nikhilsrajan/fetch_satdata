{
 "cells": [
  {
   "cell_type": "code",
   "execution_count": 1,
   "metadata": {},
   "outputs": [],
   "source": [
    "import geopandas as gpd\n",
    "import datetime\n",
    "import rasterio\n",
    "import rasterio.warp\n",
    "import os"
   ]
  },
  {
   "cell_type": "code",
   "execution_count": 2,
   "metadata": {},
   "outputs": [],
   "source": [
    "import sys\n",
    "sys.path.append('..')"
   ]
  },
  {
   "cell_type": "code",
   "execution_count": 4,
   "metadata": {},
   "outputs": [],
   "source": [
    "import mysecrets\n",
    "import fetch_from_cluster\n",
    "import create_datacube\n",
    "import rsutils.modify_images as modify_images\n",
    "import rsutils.utils\n",
    "import crop_and_zip"
   ]
  },
  {
   "cell_type": "code",
   "execution_count": 5,
   "metadata": {},
   "outputs": [],
   "source": [
    "eth_s2grids_gdf = gpd.read_file('../../ethiopia/data/ethiopia_s2_grids_esa_stats.geojson')"
   ]
  },
  {
   "cell_type": "code",
   "execution_count": 6,
   "metadata": {},
   "outputs": [],
   "source": [
    "S2GRIDS_OF_INTEREST = [\n",
    "    '17b4c3c', # div 4\n",
    "    '17b37fc', # div 2\n",
    "    '164c59c', # corner\n",
    "    '165bca4', # intersection of tiles with different crs\n",
    "]"
   ]
  },
  {
   "cell_type": "code",
   "execution_count": 7,
   "metadata": {},
   "outputs": [],
   "source": [
    "eth_s2grids_gdf.set_index('id').loc[\n",
    "    S2GRIDS_OF_INTEREST, 'geometry'\n",
    "].reset_index().to_file('../data/selected_eth_grids.geojson')"
   ]
  },
  {
   "cell_type": "code",
   "execution_count": 8,
   "metadata": {},
   "outputs": [],
   "source": [
    "selected_s2grid_gdf = eth_s2grids_gdf[eth_s2grids_gdf['id'] == S2GRIDS_OF_INTEREST[3]][['id', 'geometry']]"
   ]
  },
  {
   "cell_type": "code",
   "execution_count": 10,
   "metadata": {},
   "outputs": [],
   "source": [
    "shapes_gdf = selected_s2grid_gdf\n",
    "startdate = datetime.datetime(2021, 3, 1)\n",
    "enddate = datetime.datetime(2021, 4, 1)\n",
    "sshcreds = mysecrets.SSH_UMD_SASIRAJANN\n",
    "satellite_folderpath = '../data/cluster_files/satellite'\n",
    "bands = ['B01', 'B02', 'B03', 'B04', 'B08']\n",
    "overwrite_catalog = True\n",
    "njobs = 4"
   ]
  },
  {
   "cell_type": "code",
   "execution_count": 11,
   "metadata": {},
   "outputs": [],
   "source": [
    "catalog_filepath = fetch_from_cluster.remotepath_to_localpath(\n",
    "    remotepath = fetch_from_cluster.FILEPATH_SENTINEL2_CATALOG,\n",
    "    remote_root_path = fetch_from_cluster.FOLDERPATH_SATELLITE,\n",
    "    local_root_path = satellite_folderpath,\n",
    ")\n",
    "\n",
    "fetch_from_cluster.download_file_from_cluster(\n",
    "    sshcreds = sshcreds,\n",
    "    remotepath = fetch_from_cluster.FILEPATH_SENTINEL2_CATALOG,\n",
    "    download_filepath = catalog_filepath,\n",
    "    overwrite = overwrite_catalog,\n",
    ")\n",
    "\n",
    "catalog_gdf = create_datacube.filter_catalog(\n",
    "    catalog_filepath = catalog_filepath,\n",
    "    shapes_gdf = shapes_gdf,\n",
    "    startdate = startdate,\n",
    "    enddate = enddate,\n",
    ")"
   ]
  },
  {
   "cell_type": "code",
   "execution_count": 12,
   "metadata": {},
   "outputs": [
    {
     "data": {
      "text/plain": [
       "'../data/cluster_files/satellite/Sentinel-2/catalog.geojson'"
      ]
     },
     "execution_count": 12,
     "metadata": {},
     "output_type": "execute_result"
    }
   ],
   "source": [
    "catalog_filepath"
   ]
  },
  {
   "cell_type": "code",
   "execution_count": 14,
   "metadata": {},
   "outputs": [],
   "source": [
    "full_catalog_gdf = gpd.read_file(catalog_filepath)"
   ]
  },
  {
   "cell_type": "code",
   "execution_count": 15,
   "metadata": {},
   "outputs": [
    {
     "data": {
      "text/html": [
       "<div>\n",
       "<style scoped>\n",
       "    .dataframe tbody tr th:only-of-type {\n",
       "        vertical-align: middle;\n",
       "    }\n",
       "\n",
       "    .dataframe tbody tr th {\n",
       "        vertical-align: top;\n",
       "    }\n",
       "\n",
       "    .dataframe thead th {\n",
       "        text-align: right;\n",
       "    }\n",
       "</style>\n",
       "<table border=\"1\" class=\"dataframe\">\n",
       "  <thead>\n",
       "    <tr style=\"text-align: right;\">\n",
       "      <th></th>\n",
       "      <th>id</th>\n",
       "      <th>timestamp</th>\n",
       "      <th>s3url</th>\n",
       "      <th>local_folderpath</th>\n",
       "      <th>files</th>\n",
       "      <th>last_update</th>\n",
       "      <th>cloud_cover</th>\n",
       "      <th>geometry</th>\n",
       "    </tr>\n",
       "  </thead>\n",
       "  <tbody>\n",
       "    <tr>\n",
       "      <th>0</th>\n",
       "      <td>S2A_MSIL1C_20211224T074331_N0500_R092_T37PDK_2...</td>\n",
       "      <td>2021-12-24 07:57:40.190000+00:00</td>\n",
       "      <td>s3://EODATA/Sentinel-2/MSI/L1C_N0500/2021/12/2...</td>\n",
       "      <td>/gpfs/data1/cmongp2/sasirajann/fetch_satdata/d...</td>\n",
       "      <td>B10.jp2,B09.jp2,B04.jp2,B8A.jp2,B05.jp2,B01.jp...</td>\n",
       "      <td>2024-08-20 13:54:40.022000+00:00</td>\n",
       "      <td>6.12</td>\n",
       "      <td>MULTIPOLYGON (((38.16166 9.04578, 39.0888 9.04...</td>\n",
       "    </tr>\n",
       "    <tr>\n",
       "      <th>1</th>\n",
       "      <td>S2B_MSIL1C_20210413T073609_N0500_R092_T37PEK_2...</td>\n",
       "      <td>2021-04-13 07:57:32.025000+00:00</td>\n",
       "      <td>s3://EODATA/Sentinel-2/MSI/L1C_N0500/2021/04/1...</td>\n",
       "      <td>/gpfs/data1/cmongp2/sasirajann/fetch_satdata/d...</td>\n",
       "      <td>B10.jp2,B09.jp2,B04.jp2,B8A.jp2,B05.jp2,B01.jp...</td>\n",
       "      <td>2024-08-20 13:54:40.023000+00:00</td>\n",
       "      <td>18.33</td>\n",
       "      <td>MULTIPOLYGON (((38.99983 9.04673, 39.99885 9.0...</td>\n",
       "    </tr>\n",
       "    <tr>\n",
       "      <th>2</th>\n",
       "      <td>S2A_MSIL1C_20211114T074151_N0500_R092_T37PDK_2...</td>\n",
       "      <td>2021-11-14 07:57:40.238000+00:00</td>\n",
       "      <td>s3://EODATA/Sentinel-2/MSI/L1C_N0500/2021/11/1...</td>\n",
       "      <td>/gpfs/data1/cmongp2/sasirajann/fetch_satdata/d...</td>\n",
       "      <td>B10.jp2,B09.jp2,B04.jp2,B8A.jp2,B05.jp2,B01.jp...</td>\n",
       "      <td>2024-08-20 13:54:40.025000+00:00</td>\n",
       "      <td>7.87</td>\n",
       "      <td>MULTIPOLYGON (((38.16657 9.04579, 39.0888 9.04...</td>\n",
       "    </tr>\n",
       "    <tr>\n",
       "      <th>3</th>\n",
       "      <td>S2A_MSIL1C_20211204T074301_N0500_R092_T37NEJ_2...</td>\n",
       "      <td>2021-12-04 07:57:49.492000+00:00</td>\n",
       "      <td>s3://EODATA/Sentinel-2/MSI/L1C_N0500/2021/12/0...</td>\n",
       "      <td>/gpfs/data1/cmongp2/sasirajann/fetch_satdata/d...</td>\n",
       "      <td>B10.jp2,B09.jp2,B04.jp2,B8A.jp2,B05.jp2,B01.jp...</td>\n",
       "      <td>2024-08-20 13:54:40.027000+00:00</td>\n",
       "      <td>0.14</td>\n",
       "      <td>MULTIPOLYGON (((38.99983 8.14203, 39.99648 8.1...</td>\n",
       "    </tr>\n",
       "    <tr>\n",
       "      <th>4</th>\n",
       "      <td>S2B_MSIL1C_20211129T074149_N0500_R092_T37NDJ_2...</td>\n",
       "      <td>2021-11-29 07:57:48.816000+00:00</td>\n",
       "      <td>s3://EODATA/Sentinel-2/MSI/L1C_N0500/2021/11/2...</td>\n",
       "      <td>/gpfs/data1/cmongp2/sasirajann/fetch_satdata/d...</td>\n",
       "      <td>B10.jp2,B09.jp2,B04.jp2,B8A.jp2,B05.jp2,B01.jp...</td>\n",
       "      <td>2024-08-20 13:54:40.028000+00:00</td>\n",
       "      <td>4.87</td>\n",
       "      <td>MULTIPOLYGON (((38.09192 8.14101, 39.08859 8.1...</td>\n",
       "    </tr>\n",
       "    <tr>\n",
       "      <th>...</th>\n",
       "      <td>...</td>\n",
       "      <td>...</td>\n",
       "      <td>...</td>\n",
       "      <td>...</td>\n",
       "      <td>...</td>\n",
       "      <td>...</td>\n",
       "      <td>...</td>\n",
       "      <td>...</td>\n",
       "    </tr>\n",
       "    <tr>\n",
       "      <th>364</th>\n",
       "      <td>S2B_MSIL1C_20210429T075609_N0500_R035_T36PZU_2...</td>\n",
       "      <td>2021-04-29 08:16:35.068000+00:00</td>\n",
       "      <td>s3://EODATA/Sentinel-2/MSI/L1C_N0500/2021/04/2...</td>\n",
       "      <td>/gpfs/data1/cmongp2/sasirajann/fetch_satdata/d...</td>\n",
       "      <td>B8A.jp2,B04.jp2,B11.jp2,B02.jp2,B07.jp2,B05.jp...</td>\n",
       "      <td>2024-08-22 04:57:50.104000+00:00</td>\n",
       "      <td>66.62</td>\n",
       "      <td>MULTIPOLYGON (((35.76151 12.65022, 36.68453 12...</td>\n",
       "    </tr>\n",
       "    <tr>\n",
       "      <th>365</th>\n",
       "      <td>S2B_MSIL1C_20190305T073809_N0500_R092_T37PDK_2...</td>\n",
       "      <td>2019-03-05 07:57:36.552000+00:00</td>\n",
       "      <td>s3://EODATA/Sentinel-2/MSI/L1C_N0500/2019/03/0...</td>\n",
       "      <td>/gpfs/data1/cmongp2/sasirajann/fetch_satdata/d...</td>\n",
       "      <td>B01.jp2,B02.jp2,B04.jp2,B07.jp2,B11.jp2,B09.jp...</td>\n",
       "      <td>2024-09-09 08:28:18.355000+00:00</td>\n",
       "      <td>34.40</td>\n",
       "      <td>MULTIPOLYGON (((38.17604 9.04581, 39.0888 9.04...</td>\n",
       "    </tr>\n",
       "    <tr>\n",
       "      <th>366</th>\n",
       "      <td>S2B_MSIL1C_20190305T073809_N0500_R092_T37NEJ_2...</td>\n",
       "      <td>2019-03-05 07:57:47.839000+00:00</td>\n",
       "      <td>s3://EODATA/Sentinel-2/MSI/L1C_N0500/2019/03/0...</td>\n",
       "      <td>/gpfs/data1/cmongp2/sasirajann/fetch_satdata/d...</td>\n",
       "      <td>B01.jp2,B02.jp2,B04.jp2,B07.jp2,B11.jp2,B09.jp...</td>\n",
       "      <td>2024-09-09 08:28:36.212000+00:00</td>\n",
       "      <td>64.97</td>\n",
       "      <td>MULTIPOLYGON (((38.99983 8.14203, 39.99648 8.1...</td>\n",
       "    </tr>\n",
       "    <tr>\n",
       "      <th>367</th>\n",
       "      <td>S2B_MSIL1C_20190305T073809_N0500_R092_T37PEK_2...</td>\n",
       "      <td>2019-03-05 07:57:33.460000+00:00</td>\n",
       "      <td>s3://EODATA/Sentinel-2/MSI/L1C_N0500/2019/03/0...</td>\n",
       "      <td>/gpfs/data1/cmongp2/sasirajann/fetch_satdata/d...</td>\n",
       "      <td>B01.jp2,B02.jp2,B04.jp2,B07.jp2,B11.jp2,B09.jp...</td>\n",
       "      <td>2024-09-09 08:28:52.547000+00:00</td>\n",
       "      <td>28.32</td>\n",
       "      <td>MULTIPOLYGON (((38.99983 9.04673, 39.99885 9.0...</td>\n",
       "    </tr>\n",
       "    <tr>\n",
       "      <th>368</th>\n",
       "      <td>S2B_MSIL1C_20190305T073809_N0500_R092_T37NDJ_2...</td>\n",
       "      <td>2019-03-05 07:57:50.980000+00:00</td>\n",
       "      <td>s3://EODATA/Sentinel-2/MSI/L1C_N0500/2019/03/0...</td>\n",
       "      <td>/gpfs/data1/cmongp2/sasirajann/fetch_satdata/d...</td>\n",
       "      <td>B01.jp2,B02.jp2,B04.jp2,B07.jp2,B11.jp2,B09.jp...</td>\n",
       "      <td>2024-09-09 08:29:22.377000+00:00</td>\n",
       "      <td>31.40</td>\n",
       "      <td>MULTIPOLYGON (((38.09192 8.14101, 39.08859 8.1...</td>\n",
       "    </tr>\n",
       "  </tbody>\n",
       "</table>\n",
       "<p>369 rows × 8 columns</p>\n",
       "</div>"
      ],
      "text/plain": [
       "                                                    id  \\\n",
       "0    S2A_MSIL1C_20211224T074331_N0500_R092_T37PDK_2...   \n",
       "1    S2B_MSIL1C_20210413T073609_N0500_R092_T37PEK_2...   \n",
       "2    S2A_MSIL1C_20211114T074151_N0500_R092_T37PDK_2...   \n",
       "3    S2A_MSIL1C_20211204T074301_N0500_R092_T37NEJ_2...   \n",
       "4    S2B_MSIL1C_20211129T074149_N0500_R092_T37NDJ_2...   \n",
       "..                                                 ...   \n",
       "364  S2B_MSIL1C_20210429T075609_N0500_R035_T36PZU_2...   \n",
       "365  S2B_MSIL1C_20190305T073809_N0500_R092_T37PDK_2...   \n",
       "366  S2B_MSIL1C_20190305T073809_N0500_R092_T37NEJ_2...   \n",
       "367  S2B_MSIL1C_20190305T073809_N0500_R092_T37PEK_2...   \n",
       "368  S2B_MSIL1C_20190305T073809_N0500_R092_T37NDJ_2...   \n",
       "\n",
       "                           timestamp  \\\n",
       "0   2021-12-24 07:57:40.190000+00:00   \n",
       "1   2021-04-13 07:57:32.025000+00:00   \n",
       "2   2021-11-14 07:57:40.238000+00:00   \n",
       "3   2021-12-04 07:57:49.492000+00:00   \n",
       "4   2021-11-29 07:57:48.816000+00:00   \n",
       "..                               ...   \n",
       "364 2021-04-29 08:16:35.068000+00:00   \n",
       "365 2019-03-05 07:57:36.552000+00:00   \n",
       "366 2019-03-05 07:57:47.839000+00:00   \n",
       "367 2019-03-05 07:57:33.460000+00:00   \n",
       "368 2019-03-05 07:57:50.980000+00:00   \n",
       "\n",
       "                                                 s3url  \\\n",
       "0    s3://EODATA/Sentinel-2/MSI/L1C_N0500/2021/12/2...   \n",
       "1    s3://EODATA/Sentinel-2/MSI/L1C_N0500/2021/04/1...   \n",
       "2    s3://EODATA/Sentinel-2/MSI/L1C_N0500/2021/11/1...   \n",
       "3    s3://EODATA/Sentinel-2/MSI/L1C_N0500/2021/12/0...   \n",
       "4    s3://EODATA/Sentinel-2/MSI/L1C_N0500/2021/11/2...   \n",
       "..                                                 ...   \n",
       "364  s3://EODATA/Sentinel-2/MSI/L1C_N0500/2021/04/2...   \n",
       "365  s3://EODATA/Sentinel-2/MSI/L1C_N0500/2019/03/0...   \n",
       "366  s3://EODATA/Sentinel-2/MSI/L1C_N0500/2019/03/0...   \n",
       "367  s3://EODATA/Sentinel-2/MSI/L1C_N0500/2019/03/0...   \n",
       "368  s3://EODATA/Sentinel-2/MSI/L1C_N0500/2019/03/0...   \n",
       "\n",
       "                                      local_folderpath  \\\n",
       "0    /gpfs/data1/cmongp2/sasirajann/fetch_satdata/d...   \n",
       "1    /gpfs/data1/cmongp2/sasirajann/fetch_satdata/d...   \n",
       "2    /gpfs/data1/cmongp2/sasirajann/fetch_satdata/d...   \n",
       "3    /gpfs/data1/cmongp2/sasirajann/fetch_satdata/d...   \n",
       "4    /gpfs/data1/cmongp2/sasirajann/fetch_satdata/d...   \n",
       "..                                                 ...   \n",
       "364  /gpfs/data1/cmongp2/sasirajann/fetch_satdata/d...   \n",
       "365  /gpfs/data1/cmongp2/sasirajann/fetch_satdata/d...   \n",
       "366  /gpfs/data1/cmongp2/sasirajann/fetch_satdata/d...   \n",
       "367  /gpfs/data1/cmongp2/sasirajann/fetch_satdata/d...   \n",
       "368  /gpfs/data1/cmongp2/sasirajann/fetch_satdata/d...   \n",
       "\n",
       "                                                 files  \\\n",
       "0    B10.jp2,B09.jp2,B04.jp2,B8A.jp2,B05.jp2,B01.jp...   \n",
       "1    B10.jp2,B09.jp2,B04.jp2,B8A.jp2,B05.jp2,B01.jp...   \n",
       "2    B10.jp2,B09.jp2,B04.jp2,B8A.jp2,B05.jp2,B01.jp...   \n",
       "3    B10.jp2,B09.jp2,B04.jp2,B8A.jp2,B05.jp2,B01.jp...   \n",
       "4    B10.jp2,B09.jp2,B04.jp2,B8A.jp2,B05.jp2,B01.jp...   \n",
       "..                                                 ...   \n",
       "364  B8A.jp2,B04.jp2,B11.jp2,B02.jp2,B07.jp2,B05.jp...   \n",
       "365  B01.jp2,B02.jp2,B04.jp2,B07.jp2,B11.jp2,B09.jp...   \n",
       "366  B01.jp2,B02.jp2,B04.jp2,B07.jp2,B11.jp2,B09.jp...   \n",
       "367  B01.jp2,B02.jp2,B04.jp2,B07.jp2,B11.jp2,B09.jp...   \n",
       "368  B01.jp2,B02.jp2,B04.jp2,B07.jp2,B11.jp2,B09.jp...   \n",
       "\n",
       "                         last_update  cloud_cover  \\\n",
       "0   2024-08-20 13:54:40.022000+00:00         6.12   \n",
       "1   2024-08-20 13:54:40.023000+00:00        18.33   \n",
       "2   2024-08-20 13:54:40.025000+00:00         7.87   \n",
       "3   2024-08-20 13:54:40.027000+00:00         0.14   \n",
       "4   2024-08-20 13:54:40.028000+00:00         4.87   \n",
       "..                               ...          ...   \n",
       "364 2024-08-22 04:57:50.104000+00:00        66.62   \n",
       "365 2024-09-09 08:28:18.355000+00:00        34.40   \n",
       "366 2024-09-09 08:28:36.212000+00:00        64.97   \n",
       "367 2024-09-09 08:28:52.547000+00:00        28.32   \n",
       "368 2024-09-09 08:29:22.377000+00:00        31.40   \n",
       "\n",
       "                                              geometry  \n",
       "0    MULTIPOLYGON (((38.16166 9.04578, 39.0888 9.04...  \n",
       "1    MULTIPOLYGON (((38.99983 9.04673, 39.99885 9.0...  \n",
       "2    MULTIPOLYGON (((38.16657 9.04579, 39.0888 9.04...  \n",
       "3    MULTIPOLYGON (((38.99983 8.14203, 39.99648 8.1...  \n",
       "4    MULTIPOLYGON (((38.09192 8.14101, 39.08859 8.1...  \n",
       "..                                                 ...  \n",
       "364  MULTIPOLYGON (((35.76151 12.65022, 36.68453 12...  \n",
       "365  MULTIPOLYGON (((38.17604 9.04581, 39.0888 9.04...  \n",
       "366  MULTIPOLYGON (((38.99983 8.14203, 39.99648 8.1...  \n",
       "367  MULTIPOLYGON (((38.99983 9.04673, 39.99885 9.0...  \n",
       "368  MULTIPOLYGON (((38.09192 8.14101, 39.08859 8.1...  \n",
       "\n",
       "[369 rows x 8 columns]"
      ]
     },
     "execution_count": 15,
     "metadata": {},
     "output_type": "execute_result"
    }
   ],
   "source": [
    "full_catalog_gdf"
   ]
  },
  {
   "cell_type": "code",
   "execution_count": 13,
   "metadata": {},
   "outputs": [
    {
     "data": {
      "text/plain": [
       "(48, 9)"
      ]
     },
     "execution_count": 13,
     "metadata": {},
     "output_type": "execute_result"
    }
   ],
   "source": [
    "catalog_gdf.shape"
   ]
  },
  {
   "cell_type": "code",
   "execution_count": null,
   "metadata": {},
   "outputs": [],
   "source": [
    "catalog_gdf"
   ]
  },
  {
   "cell_type": "code",
   "execution_count": null,
   "metadata": {},
   "outputs": [],
   "source": [
    "selected_s2grid_gdf"
   ]
  },
  {
   "cell_type": "code",
   "execution_count": null,
   "metadata": {},
   "outputs": [],
   "source": [
    "band_filepaths_df \\\n",
    "= fetch_from_cluster.download_intersecting_sentinel2_tiles_from_cluster(\n",
    "    shapes_gdf = shapes_gdf,\n",
    "    startdate = startdate,\n",
    "    enddate = enddate,\n",
    "    sshcreds = sshcreds,\n",
    "    satellite_folderpath = satellite_folderpath,\n",
    "    bands = bands,\n",
    "    overwrite_catalog = overwrite_catalog,\n",
    "    njobs = njobs,\n",
    ")"
   ]
  },
  {
   "cell_type": "code",
   "execution_count": null,
   "metadata": {},
   "outputs": [],
   "source": [
    "band_filepaths_df"
   ]
  },
  {
   "cell_type": "code",
   "execution_count": null,
   "metadata": {},
   "outputs": [],
   "source": [
    "catalog_gdf['local_folderpath'][0]"
   ]
  },
  {
   "cell_type": "code",
   "execution_count": null,
   "metadata": {},
   "outputs": [],
   "source": [
    "catalog_gdf['local_folderpath'] = catalog_gdf['local_folderpath'].apply(\n",
    "    lambda folderpath: create_stack.change_parent_folderpath(\n",
    "        filepath = folderpath,\n",
    "        parent_folderpath = fetch_from_cluster.FOLDERPATH_SATELLITE,\n",
    "        new_parent_folderpath = satellite_folderpath,\n",
    "    )\n",
    ")"
   ]
  },
  {
   "cell_type": "code",
   "execution_count": null,
   "metadata": {},
   "outputs": [],
   "source": [
    "local_catalog_filepath = rsutils.utils.modify_filepath(\n",
    "    filepath = create_stack.change_parent_folderpath(\n",
    "        filepath = fetch_from_cluster.FILEPATH_SENTINEL2_CATALOG,\n",
    "        parent_folderpath = fetch_from_cluster.FOLDERPATH_SATELLITE,\n",
    "        new_parent_folderpath = satellite_folderpath,\n",
    "    ),\n",
    "    prefix = 'local_'\n",
    ")\n",
    "local_catalog_filepath"
   ]
  },
  {
   "cell_type": "code",
   "execution_count": null,
   "metadata": {},
   "outputs": [],
   "source": [
    "catalog_gdf['local_folderpath'][0]"
   ]
  },
  {
   "cell_type": "code",
   "execution_count": null,
   "metadata": {},
   "outputs": [],
   "source": [
    "catalog_gdf.to_file(local_catalog_filepath)"
   ]
  },
  {
   "cell_type": "code",
   "execution_count": null,
   "metadata": {},
   "outputs": [],
   "source": [
    "# zip_filepath = crop_and_zip.crop_and_zip(\n",
    "#     shapes_gdf = shapes_gdf,\n",
    "#     catalog_filepath = local_catalog_filepath,\n",
    "#     startdate = startdate,\n",
    "#     enddate = enddate,\n",
    "#     bands = bands,\n",
    "#     zip_filepath = '../data/testing_crop_and_zip',\n",
    "#     satellite_folderpath = satellite_folderpath,\n",
    "# )"
   ]
  },
  {
   "cell_type": "code",
   "execution_count": null,
   "metadata": {},
   "outputs": [],
   "source": [
    "# zip_filepath"
   ]
  },
  {
   "cell_type": "code",
   "execution_count": null,
   "metadata": {},
   "outputs": [],
   "source": [
    "out_folderpath = '../data/testing_create_stack/resample/'"
   ]
  },
  {
   "cell_type": "code",
   "execution_count": null,
   "metadata": {},
   "outputs": [],
   "source": [
    "rsutils.utils.get_all_files_in_folder('../data', keep_extensions=['.jp2.aux.xml'])"
   ]
  },
  {
   "cell_type": "code",
   "execution_count": null,
   "metadata": {},
   "outputs": [],
   "source": [
    "[  \n",
    "    os.remove(filepath) for filepath in\n",
    "    rsutils.utils.get_all_files_in_folder('../data', keep_extensions=['.jp2.aux.xml'])\n",
    "]"
   ]
  },
  {
   "cell_type": "code",
   "execution_count": null,
   "metadata": {},
   "outputs": [],
   "source": [
    "create_datacube.create_datacube(\n",
    "    shapes_gdf = shapes_gdf,\n",
    "    catalog_filepath = local_catalog_filepath,\n",
    "    startdate = startdate,\n",
    "    enddate = enddate,\n",
    "    bands = bands,\n",
    "    out_folderpath = '../data/testing_create_stack',\n",
    "    nodata = 0,\n",
    "    working_dir = '../data/testing_create_stack',\n",
    "    njobs = njobs,\n",
    "    dst_crs = None,\n",
    "    resampling = rasterio.warp.Resampling.nearest,\n",
    "    resampling_ref_band = 'B08',\n",
    ")"
   ]
  },
  {
   "cell_type": "code",
   "execution_count": null,
   "metadata": {},
   "outputs": [],
   "source": [
    "datacube, metadata = create_datacube.load_datacube(folderpath='../data/testing_create_stack')"
   ]
  },
  {
   "cell_type": "code",
   "execution_count": null,
   "metadata": {},
   "outputs": [],
   "source": [
    "datacube.shape"
   ]
  },
  {
   "cell_type": "code",
   "execution_count": null,
   "metadata": {},
   "outputs": [],
   "source": [
    "metadata"
   ]
  },
  {
   "cell_type": "code",
   "execution_count": null,
   "metadata": {},
   "outputs": [],
   "source": [
    "def get_shape(filepath):\n",
    "    with rasterio.open(filepath) as src:\n",
    "        shape = (src.meta['height'], src.meta['width'])\n",
    "    return shape"
   ]
  },
  {
   "cell_type": "code",
   "execution_count": null,
   "metadata": {},
   "outputs": [],
   "source": [
    "band_filepaths_df['new_shape'] = band_filepaths_df['filepath'].apply(get_shape)"
   ]
  },
  {
   "cell_type": "code",
   "execution_count": null,
   "metadata": {},
   "outputs": [],
   "source": [
    "band_filepaths_df['new_shape'].value_counts()"
   ]
  },
  {
   "cell_type": "code",
   "execution_count": null,
   "metadata": {},
   "outputs": [],
   "source": [
    "timestamps = band_filepaths_df['timestamp'].unique().tolist()\n",
    "timestamps.sort()\n",
    "len(timestamps)"
   ]
  },
  {
   "cell_type": "code",
   "execution_count": null,
   "metadata": {},
   "outputs": [],
   "source": [
    "timestamp_band_filepaths_dict = \\\n",
    "band_filepaths_df.groupby(['timestamp'])[\n",
    "    ['band', 'filepath']\n",
    "].apply(\n",
    "    lambda g: dict(map(tuple, g.values.tolist()))\n",
    ").to_dict()"
   ]
  },
  {
   "cell_type": "code",
   "execution_count": null,
   "metadata": {},
   "outputs": [],
   "source": [
    "bands"
   ]
  },
  {
   "cell_type": "code",
   "execution_count": null,
   "metadata": {},
   "outputs": [],
   "source": [
    "import numpy as np"
   ]
  },
  {
   "cell_type": "code",
   "execution_count": null,
   "metadata": {},
   "outputs": [],
   "source": [
    "stack = []\n",
    "meta = None\n",
    "for timestamp in timestamps:\n",
    "    band_stack = []\n",
    "    for band in bands:\n",
    "        band_filepath = timestamp_band_filepaths_dict[timestamp][band]\n",
    "        with rasterio.open(band_filepath) as src:\n",
    "            if meta is None:\n",
    "                meta = src.meta.copy()\n",
    "            band_stack.append(src.read())\n",
    "    band_stack = np.stack(band_stack, axis=-1)\n",
    "    stack.append(band_stack)\n",
    "    del band_stack\n",
    "stack = np.concatenate(stack, axis=0)"
   ]
  },
  {
   "cell_type": "code",
   "execution_count": null,
   "metadata": {},
   "outputs": [],
   "source": [
    "stack.shape"
   ]
  },
  {
   "cell_type": "code",
   "execution_count": null,
   "metadata": {},
   "outputs": [],
   "source": [
    "del meta['driver']"
   ]
  },
  {
   "cell_type": "code",
   "execution_count": null,
   "metadata": {},
   "outputs": [],
   "source": [
    "meta"
   ]
  },
  {
   "cell_type": "code",
   "execution_count": null,
   "metadata": {},
   "outputs": [],
   "source": [
    "band_filepaths_df['shape'] = band_filepaths_df['filepath'].apply(get_shape)"
   ]
  },
  {
   "cell_type": "code",
   "execution_count": null,
   "metadata": {},
   "outputs": [],
   "source": [
    "unique_shapes = band_filepaths_df['shape'].unique()"
   ]
  },
  {
   "cell_type": "code",
   "execution_count": null,
   "metadata": {},
   "outputs": [],
   "source": [
    "# unique_shapes = band_filepaths_df['shape'].value_counts().index"
   ]
  },
  {
   "cell_type": "code",
   "execution_count": null,
   "metadata": {},
   "outputs": [],
   "source": [
    "unique_shapes"
   ]
  },
  {
   "cell_type": "code",
   "execution_count": null,
   "metadata": {},
   "outputs": [],
   "source": [
    "filepaths_to_merge = []\n",
    "\n",
    "for shape in unique_shapes:\n",
    "    filepath = band_filepaths_df[\n",
    "        (band_filepaths_df['band'] == 'B08')\n",
    "        & (band_filepaths_df['shape'] == shape)\n",
    "    ]['filepath'].tolist()[0]\n",
    "    filepaths_to_merge.append(filepath)"
   ]
  },
  {
   "cell_type": "code",
   "execution_count": null,
   "metadata": {},
   "outputs": [],
   "source": [
    "filepaths_to_merge"
   ]
  },
  {
   "cell_type": "code",
   "execution_count": null,
   "metadata": {},
   "outputs": [],
   "source": [
    "import rasterio.merge\n",
    "\n",
    "\n",
    "out_image, out_transform = rasterio.merge.merge(\n",
    "    filepaths_to_merge,\n",
    "    nodata = 0,\n",
    ")"
   ]
  },
  {
   "cell_type": "code",
   "execution_count": null,
   "metadata": {},
   "outputs": [],
   "source": [
    "out_image.shape"
   ]
  },
  {
   "cell_type": "code",
   "execution_count": null,
   "metadata": {},
   "outputs": [],
   "source": []
  },
  {
   "cell_type": "code",
   "execution_count": null,
   "metadata": {},
   "outputs": [],
   "source": []
  },
  {
   "cell_type": "code",
   "execution_count": null,
   "metadata": {},
   "outputs": [],
   "source": []
  },
  {
   "cell_type": "code",
   "execution_count": null,
   "metadata": {},
   "outputs": [],
   "source": []
  },
  {
   "cell_type": "code",
   "execution_count": null,
   "metadata": {},
   "outputs": [],
   "source": []
  },
  {
   "cell_type": "code",
   "execution_count": null,
   "metadata": {},
   "outputs": [],
   "source": [
    "band_filepaths_df"
   ]
  },
  {
   "cell_type": "code",
   "execution_count": null,
   "metadata": {},
   "outputs": [],
   "source": [
    "band_filepaths_df['timestamp'].unique()"
   ]
  },
  {
   "cell_type": "code",
   "execution_count": null,
   "metadata": {},
   "outputs": [],
   "source": [
    "def get_image_crs(filepath:str):\n",
    "    with rasterio.open(filepath) as src:\n",
    "        crs = src.crs\n",
    "    return str(crs)"
   ]
  },
  {
   "cell_type": "code",
   "execution_count": null,
   "metadata": {},
   "outputs": [],
   "source": [
    "with rasterio.open(band_filepaths_df['filepath'][0]) as src:\n",
    "    meta = src.meta.copy()\n",
    "\n",
    "meta"
   ]
  },
  {
   "cell_type": "code",
   "execution_count": null,
   "metadata": {},
   "outputs": [],
   "source": [
    "band_filepaths_df['crs'] = band_filepaths_df['filepath'].apply(get_image_crs)"
   ]
  },
  {
   "cell_type": "code",
   "execution_count": null,
   "metadata": {},
   "outputs": [],
   "source": [
    "max_area_contribution_crs = band_filepaths_df.groupby(by='crs')['area_contribution'].mean().sort_values(ascending=False).index[0]\n",
    "max_area_contribution_crs"
   ]
  },
  {
   "cell_type": "code",
   "execution_count": null,
   "metadata": {},
   "outputs": [],
   "source": [
    "test_filepath = band_filepaths_df[\n",
    "    (band_filepaths_df['crs'] == max_area_contribution_crs)\n",
    "    & (band_filepaths_df['band'] == 'B08')\n",
    "]['filepath'].tolist()[0]"
   ]
  },
  {
   "cell_type": "code",
   "execution_count": null,
   "metadata": {},
   "outputs": [],
   "source": [
    "stack_name = '165bca4'\n",
    "\n",
    "working_dir = f'../data/test_stack_creation/{stack_name}'\n",
    "os.makedirs(working_dir, exist_ok=True)"
   ]
  },
  {
   "cell_type": "code",
   "execution_count": null,
   "metadata": {},
   "outputs": [],
   "source": [
    "modify_images.modify_image(\n",
    "    src_filepath = test_filepath,\n",
    "    dst_filepath = '../data/test_out_crop_reproject_crop_samecrs_B08.jp2',\n",
    "    sequence = [\n",
    "        (modify_images.crop, dict(shapes_gdf=shapes_gdf, nodata=0)),\n",
    "        (modify_images.reproject, dict(dst_crs=max_area_contribution_crs)),\n",
    "        (modify_images.crop, dict(shapes_gdf=shapes_gdf, nodata=0)),\n",
    "    ]\n",
    ")"
   ]
  },
  {
   "cell_type": "code",
   "execution_count": null,
   "metadata": {},
   "outputs": [],
   "source": []
  },
  {
   "cell_type": "code",
   "execution_count": null,
   "metadata": {},
   "outputs": [],
   "source": []
  },
  {
   "cell_type": "code",
   "execution_count": null,
   "metadata": {},
   "outputs": [],
   "source": []
  },
  {
   "cell_type": "code",
   "execution_count": null,
   "metadata": {},
   "outputs": [],
   "source": []
  },
  {
   "cell_type": "code",
   "execution_count": null,
   "metadata": {},
   "outputs": [],
   "source": []
  },
  {
   "cell_type": "code",
   "execution_count": null,
   "metadata": {},
   "outputs": [],
   "source": [
    "def change_parent_folderpath(\n",
    "    filepath:str,\n",
    "    parent_folderpath:str,\n",
    "    new_parent_folderpath:str,\n",
    "):\n",
    "    filepath = os.path.abspath(filepath)\n",
    "    parent_folderpath = os.path.abspath(parent_folderpath)\n",
    "    return os.path.join(\n",
    "        new_parent_folderpath,\n",
    "        os.path.relpath(path=filepath,\n",
    "                        start=parent_folderpath)\n",
    "    )"
   ]
  },
  {
   "cell_type": "code",
   "execution_count": null,
   "metadata": {},
   "outputs": [],
   "source": [
    "change_parent_folderpath(\n",
    "    filepath = '../data/1/2/3/4/blah.gif',\n",
    "    parent_folderpath = '../data/1/2',\n",
    "    new_parent_folderpath = '../data/a/b/'\n",
    ")"
   ]
  },
  {
   "cell_type": "code",
   "execution_count": null,
   "metadata": {},
   "outputs": [],
   "source": [
    "cropped_imgs_folderpath = os.path.join(working_dir, 'cropped')\n",
    "os.makedirs(cropped_imgs_folderpath, exist_ok=True)"
   ]
  },
  {
   "cell_type": "code",
   "execution_count": null,
   "metadata": {},
   "outputs": [],
   "source": [
    "def generate_cropped_filepath(\n",
    "    src_filepath:str,\n",
    "    parent_folderpath:str,\n",
    "    _id:str,\n",
    "):\n",
    "    crs = get_image_crs(filepath=src_filepath)\n",
    "    crs_str = crs.lower().replace(':', '-')\n",
    "    dst_filepath = rsutils.utils.modify_filepath(\n",
    "        filepath = src_filepath,\n",
    "        new_folderpath = os.path.join(\n",
    "            parent_folderpath, \n",
    "            crs_str,\n",
    "            _id,\n",
    "        )\n",
    "    )\n",
    "    return dst_filepath"
   ]
  },
  {
   "cell_type": "code",
   "execution_count": null,
   "metadata": {},
   "outputs": [],
   "source": [
    "band_filepaths_df['cropped_filepath'] = \\\n",
    "band_filepaths_df.apply(\n",
    "    lambda row: generate_cropped_filepath(\n",
    "        src_filepath = row['filepath'],\n",
    "        parent_folderpath = cropped_imgs_folderpath,\n",
    "        _id = row['id'],\n",
    "    ),\n",
    "    axis = 1\n",
    ")"
   ]
  },
  {
   "cell_type": "code",
   "execution_count": null,
   "metadata": {},
   "outputs": [],
   "source": [
    "band_filepaths_df"
   ]
  },
  {
   "cell_type": "code",
   "execution_count": null,
   "metadata": {},
   "outputs": [],
   "source": [
    "cropped_successes = create_stack.crop_and_save_images(\n",
    "    src_filepaths = band_filepaths_df['filepath'],\n",
    "    dst_filepaths = band_filepaths_df['cropped_filepath'],\n",
    "    shapes_gdf = shapes_gdf,\n",
    ")"
   ]
  },
  {
   "cell_type": "code",
   "execution_count": null,
   "metadata": {},
   "outputs": [],
   "source": [
    "if not all(cropped_successes):\n",
    "    raise ValueError('Not all cropping was a success.')"
   ]
  },
  {
   "cell_type": "code",
   "execution_count": null,
   "metadata": {},
   "outputs": [],
   "source": [
    "max_area_contribution_crs"
   ]
  },
  {
   "cell_type": "code",
   "execution_count": null,
   "metadata": {},
   "outputs": [],
   "source": [
    "indexes_to_reproject = band_filepaths_df[\n",
    "    band_filepaths_df['crs'] != max_area_contribution_crs \n",
    "].index"
   ]
  },
  {
   "cell_type": "code",
   "execution_count": null,
   "metadata": {},
   "outputs": [],
   "source": [
    "indexes_to_reproject"
   ]
  },
  {
   "cell_type": "code",
   "execution_count": null,
   "metadata": {},
   "outputs": [],
   "source": [
    "def generate_reprojected_filepath(\n",
    "    filepath,\n",
    "    from_crs,\n",
    "    to_crs,\n",
    "    _id,\n",
    "    parent_folderpath,\n",
    "):\n",
    "    return rsutils.utils.modify_filepath(\n",
    "        filepath = filepath,\n",
    "        new_folderpath = os.path.join(\n",
    "            parent_folderpath,\n",
    "            f\"{str(from_crs).lower().replace(':', '-')}_to_{str(to_crs).lower().replace(':', '-')}\",\n",
    "            _id,\n",
    "        )\n",
    "    )"
   ]
  },
  {
   "cell_type": "code",
   "execution_count": null,
   "metadata": {},
   "outputs": [],
   "source": [
    "reprojected_folderpath = os.path.join(working_dir, 'reprojected')\n",
    "os.makedirs(reprojected_folderpath, exist_ok=True)"
   ]
  },
  {
   "cell_type": "code",
   "execution_count": null,
   "metadata": {},
   "outputs": [],
   "source": [
    "band_filepaths_df.loc[\n",
    "    indexes_to_reproject,\n",
    "    'reprojected_filepath'\n",
    "] = band_filepaths_df.apply(\n",
    "    lambda row: generate_reprojected_filepath(\n",
    "        filepath = row['cropped_filepath'],\n",
    "        from_crs = row['crs'],\n",
    "        to_crs = max_area_contribution_crs,\n",
    "        _id = row['id'],\n",
    "        parent_folderpath = reprojected_folderpath,\n",
    "    ),\n",
    "    axis = 1,\n",
    ")"
   ]
  },
  {
   "cell_type": "code",
   "execution_count": null,
   "metadata": {},
   "outputs": [],
   "source": [
    "band_filepaths_df"
   ]
  },
  {
   "cell_type": "code",
   "execution_count": null,
   "metadata": {},
   "outputs": [],
   "source": [
    "reproject_successes = create_stack.reproject_images(\n",
    "    src_filepaths = band_filepaths_df.loc[indexes_to_reproject, 'cropped_filepath'],\n",
    "    dst_filepaths = band_filepaths_df.loc[indexes_to_reproject, 'reprojected_filepath'],\n",
    "    dst_crs = max_area_contribution_crs,\n",
    "    resampling = rasterio.warp.Resampling.nearest,\n",
    ")"
   ]
  },
  {
   "cell_type": "code",
   "execution_count": null,
   "metadata": {},
   "outputs": [],
   "source": [
    "create_stack.reproject_image(\n",
    "    src_filepath = \n",
    ")"
   ]
  }
 ],
 "metadata": {
  "kernelspec": {
   "display_name": ".venv",
   "language": "python",
   "name": "python3"
  },
  "language_info": {
   "codemirror_mode": {
    "name": "ipython",
    "version": 3
   },
   "file_extension": ".py",
   "mimetype": "text/x-python",
   "name": "python",
   "nbconvert_exporter": "python",
   "pygments_lexer": "ipython3",
   "version": "3.10.14"
  }
 },
 "nbformat": 4,
 "nbformat_minor": 2
}

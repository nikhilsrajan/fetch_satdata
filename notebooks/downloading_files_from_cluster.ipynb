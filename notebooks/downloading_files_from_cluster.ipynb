{
 "cells": [
  {
   "cell_type": "code",
   "execution_count": 1,
   "metadata": {},
   "outputs": [],
   "source": [
    "import geopandas as gpd\n",
    "import datetime"
   ]
  },
  {
   "cell_type": "code",
   "execution_count": 2,
   "metadata": {},
   "outputs": [],
   "source": [
    "import sys\n",
    "sys.path.append('..')"
   ]
  },
  {
   "cell_type": "code",
   "execution_count": 3,
   "metadata": {},
   "outputs": [
    {
     "name": "stderr",
     "output_type": "stream",
     "text": [
      "/Users/nikhilsrajan/NASA-Harvest/project/fetch_satdata/.venv/lib/python3.10/site-packages/tqdm/auto.py:21: TqdmWarning: IProgress not found. Please update jupyter and ipywidgets. See https://ipywidgets.readthedocs.io/en/stable/user_install.html\n",
      "  from .autonotebook import tqdm as notebook_tqdm\n"
     ]
    }
   ],
   "source": [
    "import mysecrets\n",
    "import fetch_from_cluster"
   ]
  },
  {
   "cell_type": "code",
   "execution_count": 4,
   "metadata": {},
   "outputs": [],
   "source": [
    "eth_s2grids_gdf = gpd.read_file('../../ethiopia/data/ethiopia_s2_grids_esa_stats.geojson')"
   ]
  },
  {
   "cell_type": "code",
   "execution_count": 5,
   "metadata": {},
   "outputs": [],
   "source": [
    "S2GRIDS_OF_INTEREST = [\n",
    "    '17b4c3c', # 4 tiles\n",
    "    '17b37fc', # 2 tiles ?\n",
    "    '164c59c', # corner\n",
    "]"
   ]
  },
  {
   "cell_type": "code",
   "execution_count": 6,
   "metadata": {},
   "outputs": [],
   "source": [
    "eth_s2grids_gdf.set_index('id').loc[\n",
    "    S2GRIDS_OF_INTEREST, 'geometry'\n",
    "].reset_index().to_file('../data/selected_eth_grids.geojson')"
   ]
  },
  {
   "cell_type": "code",
   "execution_count": 7,
   "metadata": {},
   "outputs": [],
   "source": [
    "selected_s2grid_gdf = eth_s2grids_gdf[eth_s2grids_gdf['id'] == S2GRIDS_OF_INTEREST[0]][['id', 'geometry']]"
   ]
  },
  {
   "cell_type": "code",
   "execution_count": 8,
   "metadata": {},
   "outputs": [],
   "source": [
    "catalog_gdf = fetch_from_cluster.query_sentinel2_catalog(\n",
    "    shapes_gdf = selected_s2grid_gdf,\n",
    "    # shapes_gdf = eth_s2grids_gdf.set_index('id').loc[\n",
    "    #     S2GRIDS_OF_INTEREST, 'geometry'\n",
    "    # ].reset_index(),\n",
    "    startdate = datetime.datetime(2021, 3, 1),\n",
    "    enddate = datetime.datetime(2021, 3, 5),\n",
    "    sshcreds = mysecrets.SSH_UMD_SASIRAJANN,\n",
    "    satellite_folderpath = '../data/cluster_files/satellite',\n",
    "    overwrite_catalog = False,\n",
    ")"
   ]
  },
  {
   "cell_type": "code",
   "execution_count": 9,
   "metadata": {},
   "outputs": [
    {
     "name": "stderr",
     "output_type": "stream",
     "text": [
      "100%|██████████| 16/16 [10:28<00:00, 39.31s/it]\n"
     ]
    }
   ],
   "source": [
    "local_download_filepaths_df \\\n",
    "= fetch_from_cluster.download_intersecting_sentinel2_tiles_from_cluster(\n",
    "    shapes_gdf = selected_s2grid_gdf,\n",
    "    startdate = datetime.datetime(2021, 3, 1),\n",
    "    enddate = datetime.datetime(2021, 3, 5),\n",
    "    sshcreds = mysecrets.SSH_UMD_SASIRAJANN,\n",
    "    satellite_folderpath = '../data/cluster_files/satellite',\n",
    "    bands = ['B02', 'B03', 'B04', 'B08'],\n",
    "    overwrite_catalog = False,\n",
    "    njobs = 4,\n",
    ")"
   ]
  },
  {
   "cell_type": "code",
   "execution_count": null,
   "metadata": {},
   "outputs": [],
   "source": []
  }
 ],
 "metadata": {
  "kernelspec": {
   "display_name": ".venv",
   "language": "python",
   "name": "python3"
  },
  "language_info": {
   "codemirror_mode": {
    "name": "ipython",
    "version": 3
   },
   "file_extension": ".py",
   "mimetype": "text/x-python",
   "name": "python",
   "nbconvert_exporter": "python",
   "pygments_lexer": "ipython3",
   "version": "3.10.11"
  }
 },
 "nbformat": 4,
 "nbformat_minor": 2
}

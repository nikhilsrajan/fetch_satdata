{
 "cells": [
  {
   "cell_type": "code",
   "execution_count": 1,
   "metadata": {},
   "outputs": [],
   "source": [
    "import os\n",
    "import pandas as pd\n",
    "import shapely\n",
    "import ast\n",
    "import geopandas as gpd"
   ]
  },
  {
   "cell_type": "code",
   "execution_count": 2,
   "metadata": {},
   "outputs": [],
   "source": [
    "import sys\n",
    "sys.path.append('..')"
   ]
  },
  {
   "cell_type": "code",
   "execution_count": 3,
   "metadata": {},
   "outputs": [],
   "source": [
    "import rsutils.s2_grid_utils"
   ]
  },
  {
   "cell_type": "code",
   "execution_count": 4,
   "metadata": {},
   "outputs": [],
   "source": [
    "YUVAL_2020 = '../data/ethiopia/S2L1COnlyCloudProb_ethiopia_2020-03-01_2021-01-31_10m_20Days_allBands_CIMMYT-wheat_1_EOS_1_PFS_1_train'\n",
    "YUVAL_2021 = '../data/ethiopia/S2L1COnlyCloudProb_ethiopia_2021-03-01_2022-01-31_10m_20Days_allBands_CIMMYT-maize_1_EOS_1_PFS_1_train'\n",
    "PUBLIC_2020 = '../data/ethiopia/S2L1COnlyCloudProb_ethiopia_2020-03-01_2021-01-31_10m_20Days_allBands_CIMMYT-maize_1_EOS_1_PFS_1_train_eth'"
   ]
  },
  {
   "cell_type": "code",
   "execution_count": 5,
   "metadata": {},
   "outputs": [],
   "source": [
    "data_folderpaths_and_source_name = [\n",
    "    (YUVAL_2020, 'yuval2020'),\n",
    "    (YUVAL_2021, 'yuval2021'),\n",
    "    (PUBLIC_2020, 'public2020'),\n",
    "]"
   ]
  },
  {
   "cell_type": "code",
   "execution_count": 6,
   "metadata": {},
   "outputs": [],
   "source": [
    "common_cols = None\n",
    "combined_df = None\n",
    "for folderpath, source in data_folderpaths_and_source_name:\n",
    "    for filename in os.listdir(folderpath):\n",
    "        filepath = os.path.join(folderpath, filename)\n",
    "        _df = pd.read_csv(filepath)\n",
    "        _df['folderpath'] = folderpath\n",
    "        _df['source'] = source\n",
    "        if common_cols is None:\n",
    "            common_cols = set(_df.columns)\n",
    "        common_cols = common_cols & set(_df.columns)\n",
    "        if combined_df is None:\n",
    "            combined_df = _df\n",
    "        else:\n",
    "            combined_df = pd.concat([combined_df, _df])"
   ]
  },
  {
   "cell_type": "code",
   "execution_count": 7,
   "metadata": {},
   "outputs": [],
   "source": [
    "combined_df = combined_df.reset_index(drop=True)"
   ]
  },
  {
   "cell_type": "code",
   "execution_count": 8,
   "metadata": {},
   "outputs": [],
   "source": [
    "combined_df['geometry'] = combined_df['.geo'].apply(lambda x: shapely.geometry.shape(ast.literal_eval(x)))"
   ]
  },
  {
   "cell_type": "code",
   "execution_count": 9,
   "metadata": {},
   "outputs": [],
   "source": [
    "combined_gdf = gpd.GeoDataFrame(combined_df, crs='epsg:4326')"
   ]
  },
  {
   "cell_type": "code",
   "execution_count": 10,
   "metadata": {},
   "outputs": [],
   "source": [
    "def get_s2_id(shape, res=30):\n",
    "    x, y = shape.centroid.xy\n",
    "    x, y = x[0], y[0]\n",
    "    return rsutils.s2_grid_utils.get_id_from_latlon(\n",
    "        lat = y, lon = x, res = res\n",
    "    )"
   ]
  },
  {
   "cell_type": "code",
   "execution_count": 11,
   "metadata": {},
   "outputs": [],
   "source": [
    "combined_gdf['s2_grid_id'] = combined_gdf['geometry'].apply(get_s2_id)"
   ]
  },
  {
   "cell_type": "code",
   "execution_count": 12,
   "metadata": {},
   "outputs": [
    {
     "data": {
      "text/plain": [
       "source      geometry                                           s2_grid_id      \n",
       "public2020  POLYGON ((37.4596 10.55862, 37.45961 10.55862,...  164fe7d22ef1bd7b    2\n",
       "            POLYGON ((40.06101 7.09661, 40.06101 7.09661, ...  17ca017e7b53194d    2\n",
       "yuval2021   POLYGON ((38.89654 8.21337, 38.89734 8.21327, ...  17b4b136280acb51    2\n",
       "            POLYGON ((38.71701 7.9797, 38.71756 7.97952, 3...  17b49ebdbdd49437    2\n",
       "public2020  POLYGON ((37.80667 11.04923, 37.80668 11.04922...  16456d62577ebbd7    2\n",
       "                                                                                  ..\n",
       "            POLYGON ((38.10953 10.74947, 38.10954 10.74946...  1645879f3e9b4065    1\n",
       "            POLYGON ((38.13726 10.75094, 38.13726 10.75094...  164587dcb264aca5    1\n",
       "            POLYGON ((38.16417 10.70695, 38.16418 10.70695...  164f62bf47ddb6a5    1\n",
       "            POLYGON ((38.18042 10.67223, 38.18043 10.67222...  164f630e3e241ab5    1\n",
       "yuval2021   POLYGON ((38.67083 7.7359, 38.67086 7.73588, 3...  17b47f97098051d5    1\n",
       "Name: count, Length: 3138, dtype: int64"
      ]
     },
     "execution_count": 12,
     "metadata": {},
     "output_type": "execute_result"
    }
   ],
   "source": [
    "combined_gdf[['source', 'geometry', 's2_grid_id']].value_counts()"
   ]
  },
  {
   "cell_type": "code",
   "execution_count": 13,
   "metadata": {},
   "outputs": [
    {
     "data": {
      "text/plain": [
       "(3155, 249)"
      ]
     },
     "execution_count": 13,
     "metadata": {},
     "output_type": "execute_result"
    }
   ],
   "source": [
    "combined_gdf.shape"
   ]
  },
  {
   "cell_type": "code",
   "execution_count": 14,
   "metadata": {},
   "outputs": [],
   "source": [
    "combined_gdf = combined_gdf.loc[combined_gdf[['source', 'geometry']].drop_duplicates().index]"
   ]
  },
  {
   "cell_type": "code",
   "execution_count": 15,
   "metadata": {},
   "outputs": [],
   "source": [
    "combined_df = combined_df.reset_index(drop=True)"
   ]
  },
  {
   "cell_type": "code",
   "execution_count": 16,
   "metadata": {},
   "outputs": [
    {
     "data": {
      "text/plain": [
       "(3138, 249)"
      ]
     },
     "execution_count": 16,
     "metadata": {},
     "output_type": "execute_result"
    }
   ],
   "source": [
    "combined_gdf.shape"
   ]
  },
  {
   "cell_type": "code",
   "execution_count": 17,
   "metadata": {},
   "outputs": [
    {
     "data": {
      "text/plain": [
       "source\n",
       "public2020    2788\n",
       "yuval2021      183\n",
       "yuval2020      167\n",
       "Name: count, dtype: int64"
      ]
     },
     "execution_count": 17,
     "metadata": {},
     "output_type": "execute_result"
    }
   ],
   "source": [
    "combined_gdf['source'].value_counts()"
   ]
  },
  {
   "cell_type": "code",
   "execution_count": 18,
   "metadata": {},
   "outputs": [],
   "source": [
    "non_band_columns = [\n",
    "    'FID', 'c_class', 'crop_number', 'x',\n",
    "    'y', '.geo', 'folderpath', 'source',\n",
    "    'id', 'c_group', 'c_sbcls', 'comment',\n",
    "    'id_c_cl', 'id_c_gr', 'id_c_sb', 'id_src1',\n",
    "    'id_src2', 'id_src3', 'lat', 'lnd_cvr',\n",
    "    'locatin', 'long', 'quality', 'sorc_nm',\n",
    "    'sub_dat', 'geometry'\n",
    "]"
   ]
  },
  {
   "cell_type": "code",
   "execution_count": 19,
   "metadata": {},
   "outputs": [
    {
     "data": {
      "text/plain": [
       "geometry          0\n",
       "c_class           0\n",
       "crop_number       0\n",
       ".geo              0\n",
       "folderpath        0\n",
       "source            0\n",
       "id              167\n",
       "sorc_nm         350\n",
       "quality         350\n",
       "long            350\n",
       "locatin         350\n",
       "lnd_cvr         350\n",
       "lat             350\n",
       "id_c_cl         350\n",
       "sub_dat         350\n",
       "c_group         350\n",
       "id_c_gr         350\n",
       "id_src1        1875\n",
       "id_src3        2342\n",
       "id_src2        2409\n",
       "y              2971\n",
       "x              2971\n",
       "FID            2971\n",
       "id_c_sb        3062\n",
       "c_sbcls        3062\n",
       "comment        3138\n",
       "dtype: int64"
      ]
     },
     "execution_count": 19,
     "metadata": {},
     "output_type": "execute_result"
    }
   ],
   "source": [
    "combined_gdf[non_band_columns].isna().sum().sort_values(ascending=True)"
   ]
  },
  {
   "cell_type": "code",
   "execution_count": 20,
   "metadata": {},
   "outputs": [],
   "source": [
    "important_cols = [\n",
    "    'c_class', 'source', 'geometry', 's2_grid_id'\n",
    "]"
   ]
  },
  {
   "cell_type": "code",
   "execution_count": 21,
   "metadata": {},
   "outputs": [],
   "source": [
    "selected_source = 'public2020'"
   ]
  },
  {
   "cell_type": "code",
   "execution_count": 22,
   "metadata": {},
   "outputs": [],
   "source": [
    "selected_gdf = combined_gdf[combined_gdf['source']==selected_source][important_cols]"
   ]
  },
  {
   "cell_type": "code",
   "execution_count": 23,
   "metadata": {},
   "outputs": [],
   "source": [
    "selected_gdf['id'] = selected_gdf['source'] + '_' + selected_gdf['s2_grid_id']"
   ]
  },
  {
   "cell_type": "code",
   "execution_count": 24,
   "metadata": {},
   "outputs": [
    {
     "data": {
      "text/html": [
       "<div>\n",
       "<style scoped>\n",
       "    .dataframe tbody tr th:only-of-type {\n",
       "        vertical-align: middle;\n",
       "    }\n",
       "\n",
       "    .dataframe tbody tr th {\n",
       "        vertical-align: top;\n",
       "    }\n",
       "\n",
       "    .dataframe thead th {\n",
       "        text-align: right;\n",
       "    }\n",
       "</style>\n",
       "<table border=\"1\" class=\"dataframe\">\n",
       "  <thead>\n",
       "    <tr style=\"text-align: right;\">\n",
       "      <th></th>\n",
       "      <th>c_class</th>\n",
       "      <th>source</th>\n",
       "      <th>geometry</th>\n",
       "      <th>s2_grid_id</th>\n",
       "      <th>id</th>\n",
       "    </tr>\n",
       "  </thead>\n",
       "  <tbody>\n",
       "    <tr>\n",
       "      <th>356</th>\n",
       "      <td>wheat</td>\n",
       "      <td>public2020</td>\n",
       "      <td>POLYGON ((39.37279 9.61808, 39.37279 9.61808, ...</td>\n",
       "      <td>16499e920ea0c7f3</td>\n",
       "      <td>public2020_16499e920ea0c7f3</td>\n",
       "    </tr>\n",
       "    <tr>\n",
       "      <th>357</th>\n",
       "      <td>wheat</td>\n",
       "      <td>public2020</td>\n",
       "      <td>POLYGON ((38.9196 9.79826, 38.91961 9.79826, 3...</td>\n",
       "      <td>16493ebb872f7a3d</td>\n",
       "      <td>public2020_16493ebb872f7a3d</td>\n",
       "    </tr>\n",
       "    <tr>\n",
       "      <th>358</th>\n",
       "      <td>wheat</td>\n",
       "      <td>public2020</td>\n",
       "      <td>POLYGON ((38.89899 9.81235, 38.89899 9.81234, ...</td>\n",
       "      <td>16493955fdaec78d</td>\n",
       "      <td>public2020_16493955fdaec78d</td>\n",
       "    </tr>\n",
       "    <tr>\n",
       "      <th>359</th>\n",
       "      <td>wheat</td>\n",
       "      <td>public2020</td>\n",
       "      <td>POLYGON ((37.92765 10.2445, 37.92765 10.2445, ...</td>\n",
       "      <td>164fa97b0eb8c749</td>\n",
       "      <td>public2020_164fa97b0eb8c749</td>\n",
       "    </tr>\n",
       "    <tr>\n",
       "      <th>360</th>\n",
       "      <td>wheat</td>\n",
       "      <td>public2020</td>\n",
       "      <td>POLYGON ((37.05984 10.59111, 37.05985 10.59111...</td>\n",
       "      <td>16501617becc5c71</td>\n",
       "      <td>public2020_16501617becc5c71</td>\n",
       "    </tr>\n",
       "    <tr>\n",
       "      <th>...</th>\n",
       "      <td>...</td>\n",
       "      <td>...</td>\n",
       "      <td>...</td>\n",
       "      <td>...</td>\n",
       "      <td>...</td>\n",
       "    </tr>\n",
       "    <tr>\n",
       "      <th>3150</th>\n",
       "      <td>wheat</td>\n",
       "      <td>public2020</td>\n",
       "      <td>POLYGON ((39.67921 9.91053, 39.67922 9.91052, ...</td>\n",
       "      <td>1649cac445c99695</td>\n",
       "      <td>public2020_1649cac445c99695</td>\n",
       "    </tr>\n",
       "    <tr>\n",
       "      <th>3151</th>\n",
       "      <td>wheat</td>\n",
       "      <td>public2020</td>\n",
       "      <td>POLYGON ((39.67057 9.92064, 39.67057 9.92064, ...</td>\n",
       "      <td>1649cab5ba2946c5</td>\n",
       "      <td>public2020_1649cab5ba2946c5</td>\n",
       "    </tr>\n",
       "    <tr>\n",
       "      <th>3152</th>\n",
       "      <td>wheat</td>\n",
       "      <td>public2020</td>\n",
       "      <td>POLYGON ((39.64905 9.9254, 39.64906 9.9254, 39...</td>\n",
       "      <td>1649b554e19478bd</td>\n",
       "      <td>public2020_1649b554e19478bd</td>\n",
       "    </tr>\n",
       "    <tr>\n",
       "      <th>3153</th>\n",
       "      <td>wheat</td>\n",
       "      <td>public2020</td>\n",
       "      <td>POLYGON ((39.63647 9.93316, 39.63647 9.93316, ...</td>\n",
       "      <td>16484ab155b70d81</td>\n",
       "      <td>public2020_16484ab155b70d81</td>\n",
       "    </tr>\n",
       "    <tr>\n",
       "      <th>3154</th>\n",
       "      <td>wheat</td>\n",
       "      <td>public2020</td>\n",
       "      <td>POLYGON ((39.62161 9.94, 39.62161 9.93999, 39....</td>\n",
       "      <td>16484ac55bc7b01b</td>\n",
       "      <td>public2020_16484ac55bc7b01b</td>\n",
       "    </tr>\n",
       "  </tbody>\n",
       "</table>\n",
       "<p>2788 rows × 5 columns</p>\n",
       "</div>"
      ],
      "text/plain": [
       "     c_class      source                                           geometry  \\\n",
       "356    wheat  public2020  POLYGON ((39.37279 9.61808, 39.37279 9.61808, ...   \n",
       "357    wheat  public2020  POLYGON ((38.9196 9.79826, 38.91961 9.79826, 3...   \n",
       "358    wheat  public2020  POLYGON ((38.89899 9.81235, 38.89899 9.81234, ...   \n",
       "359    wheat  public2020  POLYGON ((37.92765 10.2445, 37.92765 10.2445, ...   \n",
       "360    wheat  public2020  POLYGON ((37.05984 10.59111, 37.05985 10.59111...   \n",
       "...      ...         ...                                                ...   \n",
       "3150   wheat  public2020  POLYGON ((39.67921 9.91053, 39.67922 9.91052, ...   \n",
       "3151   wheat  public2020  POLYGON ((39.67057 9.92064, 39.67057 9.92064, ...   \n",
       "3152   wheat  public2020  POLYGON ((39.64905 9.9254, 39.64906 9.9254, 39...   \n",
       "3153   wheat  public2020  POLYGON ((39.63647 9.93316, 39.63647 9.93316, ...   \n",
       "3154   wheat  public2020  POLYGON ((39.62161 9.94, 39.62161 9.93999, 39....   \n",
       "\n",
       "            s2_grid_id                           id  \n",
       "356   16499e920ea0c7f3  public2020_16499e920ea0c7f3  \n",
       "357   16493ebb872f7a3d  public2020_16493ebb872f7a3d  \n",
       "358   16493955fdaec78d  public2020_16493955fdaec78d  \n",
       "359   164fa97b0eb8c749  public2020_164fa97b0eb8c749  \n",
       "360   16501617becc5c71  public2020_16501617becc5c71  \n",
       "...                ...                          ...  \n",
       "3150  1649cac445c99695  public2020_1649cac445c99695  \n",
       "3151  1649cab5ba2946c5  public2020_1649cab5ba2946c5  \n",
       "3152  1649b554e19478bd  public2020_1649b554e19478bd  \n",
       "3153  16484ab155b70d81  public2020_16484ab155b70d81  \n",
       "3154  16484ac55bc7b01b  public2020_16484ac55bc7b01b  \n",
       "\n",
       "[2788 rows x 5 columns]"
      ]
     },
     "execution_count": 24,
     "metadata": {},
     "output_type": "execute_result"
    }
   ],
   "source": [
    "selected_gdf"
   ]
  },
  {
   "cell_type": "code",
   "execution_count": 25,
   "metadata": {},
   "outputs": [],
   "source": [
    "export_folderpath = '../data/ethiopia/normalised'\n",
    "os.makedirs(export_folderpath, exist_ok=True)"
   ]
  },
  {
   "cell_type": "code",
   "execution_count": 26,
   "metadata": {},
   "outputs": [],
   "source": [
    "selected_gdf.to_file(os.path.join(export_folderpath, f'{selected_source}.geojson'))"
   ]
  },
  {
   "cell_type": "code",
   "execution_count": null,
   "metadata": {},
   "outputs": [],
   "source": []
  }
 ],
 "metadata": {
  "kernelspec": {
   "display_name": ".venv",
   "language": "python",
   "name": "python3"
  },
  "language_info": {
   "codemirror_mode": {
    "name": "ipython",
    "version": 3
   },
   "file_extension": ".py",
   "mimetype": "text/x-python",
   "name": "python",
   "nbconvert_exporter": "python",
   "pygments_lexer": "ipython3",
   "version": "3.10.14"
  }
 },
 "nbformat": 4,
 "nbformat_minor": 2
}

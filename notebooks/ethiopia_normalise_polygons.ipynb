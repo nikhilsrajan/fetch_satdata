{
 "cells": [
  {
   "cell_type": "code",
   "execution_count": 1,
   "metadata": {},
   "outputs": [],
   "source": [
    "import os\n",
    "import pandas as pd\n",
    "import shapely\n",
    "import ast\n",
    "import geopandas as gpd"
   ]
  },
  {
   "cell_type": "code",
   "execution_count": 2,
   "metadata": {},
   "outputs": [],
   "source": [
    "import sys\n",
    "sys.path.append('..')"
   ]
  },
  {
   "cell_type": "code",
   "execution_count": 3,
   "metadata": {},
   "outputs": [],
   "source": [
    "import rsutils.s2_grid_utils"
   ]
  },
  {
   "cell_type": "code",
   "execution_count": 4,
   "metadata": {},
   "outputs": [],
   "source": [
    "YUVAL_2020 = '../data/ethiopia/S2L1COnlyCloudProb_ethiopia_2020-03-01_2021-01-31_10m_20Days_allBands_CIMMYT-wheat_1_EOS_1_PFS_1_train'\n",
    "YUVAL_2021 = '../data/ethiopia/S2L1COnlyCloudProb_ethiopia_2021-03-01_2022-01-31_10m_20Days_allBands_CIMMYT-maize_1_EOS_1_PFS_1_train'\n",
    "PUBLIC_2020 = '../data/ethiopia/S2L1COnlyCloudProb_ethiopia_2020-03-01_2021-01-31_10m_20Days_allBands_CIMMYT-maize_1_EOS_1_PFS_1_train_eth'"
   ]
  },
  {
   "cell_type": "code",
   "execution_count": 5,
   "metadata": {},
   "outputs": [],
   "source": [
    "data_folderpaths_and_source_name = [\n",
    "    (YUVAL_2020, 'yuval2020'),\n",
    "    (YUVAL_2021, 'yuval2021'),\n",
    "    (PUBLIC_2020, 'public2020'),\n",
    "]"
   ]
  },
  {
   "cell_type": "code",
   "execution_count": 8,
   "metadata": {},
   "outputs": [],
   "source": [
    "common_cols = None\n",
    "combined_df = None\n",
    "for folderpath, source in data_folderpaths_and_source_name:\n",
    "    for filename in os.listdir(folderpath):\n",
    "        if not filename.endswith('.csv'):\n",
    "            continue\n",
    "        filepath = os.path.join(folderpath, filename)\n",
    "        _df = pd.read_csv(filepath)\n",
    "        _df['folderpath'] = folderpath\n",
    "        _df['source'] = source\n",
    "        if common_cols is None:\n",
    "            common_cols = set(_df.columns)\n",
    "        common_cols = common_cols & set(_df.columns)\n",
    "        if combined_df is None:\n",
    "            combined_df = _df\n",
    "        else:\n",
    "            combined_df = pd.concat([combined_df, _df])"
   ]
  },
  {
   "cell_type": "code",
   "execution_count": 9,
   "metadata": {},
   "outputs": [],
   "source": [
    "combined_df = combined_df.reset_index(drop=True)"
   ]
  },
  {
   "cell_type": "code",
   "execution_count": 10,
   "metadata": {},
   "outputs": [],
   "source": [
    "combined_df['geometry'] = combined_df['.geo'].apply(lambda x: shapely.geometry.shape(ast.literal_eval(x)))"
   ]
  },
  {
   "cell_type": "code",
   "execution_count": 11,
   "metadata": {},
   "outputs": [],
   "source": [
    "combined_gdf = gpd.GeoDataFrame(combined_df, crs='epsg:4326')"
   ]
  },
  {
   "cell_type": "code",
   "execution_count": 12,
   "metadata": {},
   "outputs": [],
   "source": [
    "non_point_indexes = combined_gdf[combined_gdf.type != 'Point'].index\n",
    "combined_gdf.loc[non_point_indexes, 'geometry'] = combined_gdf.loc[non_point_indexes, 'geometry'].apply(lambda x: x.buffer(0))"
   ]
  },
  {
   "cell_type": "code",
   "execution_count": 13,
   "metadata": {},
   "outputs": [],
   "source": [
    "def get_s2_id(shape, res=30):\n",
    "    x, y = shape.centroid.xy\n",
    "    x, y = x[0], y[0]\n",
    "    return rsutils.s2_grid_utils.get_id_from_latlon(\n",
    "        lat = y, lon = x, res = res\n",
    "    )"
   ]
  },
  {
   "cell_type": "code",
   "execution_count": 14,
   "metadata": {},
   "outputs": [],
   "source": [
    "combined_gdf['s2_grid_id'] = combined_gdf['geometry'].apply(get_s2_id)"
   ]
  },
  {
   "cell_type": "code",
   "execution_count": 15,
   "metadata": {},
   "outputs": [
    {
     "data": {
      "text/plain": [
       "source      geometry                                           s2_grid_id      \n",
       "yuval2021   POLYGON ((38.71701 7.9797, 38.71701 7.97973, 3...  17b49ebdbdd49437    3\n",
       "            POLYGON ((38.80696 8.25267, 38.80704 8.25283, ...  17b4adef01e7a92f    3\n",
       "            POLYGON ((38.76867 8.17473, 38.7687 8.17488, 3...  17b4af7d59cd634d    3\n",
       "            POLYGON ((38.89618 8.22457, 38.89618 8.22459, ...  17b4b151a8fca7d5    3\n",
       "            POLYGON ((38.89654 8.21337, 38.89661 8.21384, ...  17b4b136280acb51    3\n",
       "                                                                                  ..\n",
       "public2020  POLYGON ((38.10953 10.74947, 38.10953 10.74947...  1645879f3e9b4065    1\n",
       "            POLYGON ((38.13726 10.75094, 38.13726 10.75095...  164587dcb264aca5    1\n",
       "            POLYGON ((38.16417 10.70695, 38.16417 10.70696...  164f62bf47ddb6a5    1\n",
       "            POLYGON ((38.18042 10.67223, 38.18042 10.67223...  164f630e3e241ab5    1\n",
       "            POLYGON ((39.24192 8.16732, 39.24192 8.16733, ...  17b4d6cdcda1ab79    1\n",
       "Name: count, Length: 3138, dtype: int64"
      ]
     },
     "execution_count": 15,
     "metadata": {},
     "output_type": "execute_result"
    }
   ],
   "source": [
    "combined_gdf[['source', 'geometry', 's2_grid_id']].value_counts()"
   ]
  },
  {
   "cell_type": "code",
   "execution_count": 16,
   "metadata": {},
   "outputs": [
    {
     "data": {
      "text/plain": [
       "(3338, 250)"
      ]
     },
     "execution_count": 16,
     "metadata": {},
     "output_type": "execute_result"
    }
   ],
   "source": [
    "combined_gdf.shape"
   ]
  },
  {
   "cell_type": "code",
   "execution_count": 17,
   "metadata": {},
   "outputs": [],
   "source": [
    "combined_gdf = combined_gdf.loc[combined_gdf[['source', 'geometry']].drop_duplicates().index]"
   ]
  },
  {
   "cell_type": "code",
   "execution_count": 18,
   "metadata": {},
   "outputs": [],
   "source": [
    "combined_df = combined_df.reset_index(drop=True)"
   ]
  },
  {
   "cell_type": "code",
   "execution_count": 19,
   "metadata": {},
   "outputs": [
    {
     "data": {
      "text/plain": [
       "(3138, 250)"
      ]
     },
     "execution_count": 19,
     "metadata": {},
     "output_type": "execute_result"
    }
   ],
   "source": [
    "combined_gdf.shape"
   ]
  },
  {
   "cell_type": "code",
   "execution_count": 20,
   "metadata": {},
   "outputs": [
    {
     "data": {
      "text/plain": [
       "source\n",
       "public2020    2788\n",
       "yuval2021      183\n",
       "yuval2020      167\n",
       "Name: count, dtype: int64"
      ]
     },
     "execution_count": 20,
     "metadata": {},
     "output_type": "execute_result"
    }
   ],
   "source": [
    "combined_gdf['source'].value_counts()"
   ]
  },
  {
   "cell_type": "code",
   "execution_count": 21,
   "metadata": {},
   "outputs": [],
   "source": [
    "non_band_columns = [\n",
    "    'FID', 'c_class', 'crop_number', 'x',\n",
    "    'y', '.geo', 'folderpath', 'source',\n",
    "    'id', 'c_group', 'c_sbcls', 'comment',\n",
    "    'id_c_cl', 'id_c_gr', 'id_c_sb', 'id_src1',\n",
    "    'id_src2', 'id_src3', 'lat', 'lnd_cvr',\n",
    "    'locatin', 'long', 'quality', 'sorc_nm',\n",
    "    'sub_dat', 'geometry'\n",
    "]"
   ]
  },
  {
   "cell_type": "code",
   "execution_count": 22,
   "metadata": {},
   "outputs": [
    {
     "data": {
      "text/plain": [
       "geometry          0\n",
       "c_class           0\n",
       "crop_number       0\n",
       ".geo              0\n",
       "folderpath        0\n",
       "source            0\n",
       "id              167\n",
       "sorc_nm         350\n",
       "quality         350\n",
       "long            350\n",
       "locatin         350\n",
       "lnd_cvr         350\n",
       "lat             350\n",
       "id_c_cl         350\n",
       "sub_dat         350\n",
       "c_group         350\n",
       "id_c_gr         350\n",
       "id_src1        1875\n",
       "id_src3        2342\n",
       "id_src2        2409\n",
       "y              2971\n",
       "x              2971\n",
       "FID            2971\n",
       "id_c_sb        3062\n",
       "c_sbcls        3062\n",
       "comment        3138\n",
       "dtype: int64"
      ]
     },
     "execution_count": 22,
     "metadata": {},
     "output_type": "execute_result"
    }
   ],
   "source": [
    "combined_gdf[non_band_columns].isna().sum().sort_values(ascending=True)"
   ]
  },
  {
   "cell_type": "code",
   "execution_count": 23,
   "metadata": {},
   "outputs": [],
   "source": [
    "important_cols = [\n",
    "    'c_class', 'source', 'geometry', 's2_grid_id'\n",
    "]"
   ]
  },
  {
   "cell_type": "code",
   "execution_count": 24,
   "metadata": {},
   "outputs": [],
   "source": [
    "# selected_source = 'yuval2021'"
   ]
  },
  {
   "cell_type": "code",
   "execution_count": 25,
   "metadata": {},
   "outputs": [],
   "source": [
    "# selected_gdf = combined_gdf[combined_gdf['source']==selected_source][important_cols]"
   ]
  },
  {
   "cell_type": "code",
   "execution_count": 26,
   "metadata": {},
   "outputs": [],
   "source": [
    "# selected_gdf['id'] = selected_gdf['source'] + '_' + selected_gdf['s2_grid_id']"
   ]
  },
  {
   "cell_type": "code",
   "execution_count": 27,
   "metadata": {},
   "outputs": [],
   "source": [
    "# selected_gdf"
   ]
  },
  {
   "cell_type": "code",
   "execution_count": 28,
   "metadata": {},
   "outputs": [],
   "source": [
    "# export_folderpath = '../data/ethiopia/normalised'\n",
    "# os.makedirs(export_folderpath, exist_ok=True)"
   ]
  },
  {
   "cell_type": "code",
   "execution_count": 29,
   "metadata": {},
   "outputs": [],
   "source": [
    "# selected_gdf.to_file(os.path.join(export_folderpath, f'{selected_source}.geojson'))"
   ]
  },
  {
   "cell_type": "code",
   "execution_count": 30,
   "metadata": {},
   "outputs": [],
   "source": [
    "# selected_gdf"
   ]
  },
  {
   "cell_type": "code",
   "execution_count": 31,
   "metadata": {},
   "outputs": [],
   "source": [
    "combined_gdf = combined_gdf[important_cols]"
   ]
  },
  {
   "cell_type": "code",
   "execution_count": 32,
   "metadata": {},
   "outputs": [
    {
     "data": {
      "text/html": [
       "<div>\n",
       "<style scoped>\n",
       "    .dataframe tbody tr th:only-of-type {\n",
       "        vertical-align: middle;\n",
       "    }\n",
       "\n",
       "    .dataframe tbody tr th {\n",
       "        vertical-align: top;\n",
       "    }\n",
       "\n",
       "    .dataframe thead th {\n",
       "        text-align: right;\n",
       "    }\n",
       "</style>\n",
       "<table border=\"1\" class=\"dataframe\">\n",
       "  <thead>\n",
       "    <tr style=\"text-align: right;\">\n",
       "      <th></th>\n",
       "      <th>c_class</th>\n",
       "      <th>source</th>\n",
       "      <th>geometry</th>\n",
       "      <th>s2_grid_id</th>\n",
       "    </tr>\n",
       "  </thead>\n",
       "  <tbody>\n",
       "    <tr>\n",
       "      <th>0</th>\n",
       "      <td>wheat</td>\n",
       "      <td>yuval2020</td>\n",
       "      <td>POINT (39.26022 8.28079)</td>\n",
       "      <td>164b2b14e558ac41</td>\n",
       "    </tr>\n",
       "    <tr>\n",
       "      <th>1</th>\n",
       "      <td>wheat</td>\n",
       "      <td>yuval2020</td>\n",
       "      <td>POINT (39.26197 8.30771)</td>\n",
       "      <td>164b2bbc3f43010f</td>\n",
       "    </tr>\n",
       "    <tr>\n",
       "      <th>2</th>\n",
       "      <td>wheat</td>\n",
       "      <td>yuval2020</td>\n",
       "      <td>POINT (39.26895 8.27533)</td>\n",
       "      <td>164b2b22d273a99b</td>\n",
       "    </tr>\n",
       "    <tr>\n",
       "      <th>3</th>\n",
       "      <td>wheat</td>\n",
       "      <td>yuval2020</td>\n",
       "      <td>POINT (39.27599 8.31466)</td>\n",
       "      <td>164b2bcba373b0f7</td>\n",
       "    </tr>\n",
       "    <tr>\n",
       "      <th>4</th>\n",
       "      <td>wheat</td>\n",
       "      <td>yuval2020</td>\n",
       "      <td>POINT (39.28384 8.32974)</td>\n",
       "      <td>164b2980ced1795b</td>\n",
       "    </tr>\n",
       "    <tr>\n",
       "      <th>...</th>\n",
       "      <td>...</td>\n",
       "      <td>...</td>\n",
       "      <td>...</td>\n",
       "      <td>...</td>\n",
       "    </tr>\n",
       "    <tr>\n",
       "      <th>3333</th>\n",
       "      <td>wheat</td>\n",
       "      <td>public2020</td>\n",
       "      <td>POLYGON ((39.67921 9.91053, 39.67921 9.91053, ...</td>\n",
       "      <td>1649cac445c99695</td>\n",
       "    </tr>\n",
       "    <tr>\n",
       "      <th>3334</th>\n",
       "      <td>wheat</td>\n",
       "      <td>public2020</td>\n",
       "      <td>POLYGON ((39.67057 9.92064, 39.67057 9.92065, ...</td>\n",
       "      <td>1649cab5ba2946c5</td>\n",
       "    </tr>\n",
       "    <tr>\n",
       "      <th>3335</th>\n",
       "      <td>wheat</td>\n",
       "      <td>public2020</td>\n",
       "      <td>POLYGON ((39.64905 9.9254, 39.64905 9.92541, 3...</td>\n",
       "      <td>1649b554e19478bd</td>\n",
       "    </tr>\n",
       "    <tr>\n",
       "      <th>3336</th>\n",
       "      <td>wheat</td>\n",
       "      <td>public2020</td>\n",
       "      <td>POLYGON ((39.63647 9.93316, 39.63647 9.93317, ...</td>\n",
       "      <td>16484ab155b70d81</td>\n",
       "    </tr>\n",
       "    <tr>\n",
       "      <th>3337</th>\n",
       "      <td>wheat</td>\n",
       "      <td>public2020</td>\n",
       "      <td>POLYGON ((39.62161 9.94, 39.62161 9.94, 39.621...</td>\n",
       "      <td>16484ac55bc7b01b</td>\n",
       "    </tr>\n",
       "  </tbody>\n",
       "</table>\n",
       "<p>3138 rows × 4 columns</p>\n",
       "</div>"
      ],
      "text/plain": [
       "     c_class      source                                           geometry  \\\n",
       "0      wheat   yuval2020                           POINT (39.26022 8.28079)   \n",
       "1      wheat   yuval2020                           POINT (39.26197 8.30771)   \n",
       "2      wheat   yuval2020                           POINT (39.26895 8.27533)   \n",
       "3      wheat   yuval2020                           POINT (39.27599 8.31466)   \n",
       "4      wheat   yuval2020                           POINT (39.28384 8.32974)   \n",
       "...      ...         ...                                                ...   \n",
       "3333   wheat  public2020  POLYGON ((39.67921 9.91053, 39.67921 9.91053, ...   \n",
       "3334   wheat  public2020  POLYGON ((39.67057 9.92064, 39.67057 9.92065, ...   \n",
       "3335   wheat  public2020  POLYGON ((39.64905 9.9254, 39.64905 9.92541, 3...   \n",
       "3336   wheat  public2020  POLYGON ((39.63647 9.93316, 39.63647 9.93317, ...   \n",
       "3337   wheat  public2020  POLYGON ((39.62161 9.94, 39.62161 9.94, 39.621...   \n",
       "\n",
       "            s2_grid_id  \n",
       "0     164b2b14e558ac41  \n",
       "1     164b2bbc3f43010f  \n",
       "2     164b2b22d273a99b  \n",
       "3     164b2bcba373b0f7  \n",
       "4     164b2980ced1795b  \n",
       "...                ...  \n",
       "3333  1649cac445c99695  \n",
       "3334  1649cab5ba2946c5  \n",
       "3335  1649b554e19478bd  \n",
       "3336  16484ab155b70d81  \n",
       "3337  16484ac55bc7b01b  \n",
       "\n",
       "[3138 rows x 4 columns]"
      ]
     },
     "execution_count": 32,
     "metadata": {},
     "output_type": "execute_result"
    }
   ],
   "source": [
    "combined_gdf"
   ]
  },
  {
   "cell_type": "code",
   "execution_count": 33,
   "metadata": {},
   "outputs": [
    {
     "data": {
      "text/plain": [
       "8.716666666666667"
      ]
     },
     "execution_count": 33,
     "metadata": {},
     "output_type": "execute_result"
    }
   ],
   "source": [
    "3138 / 8 * 80 / 60 / 60"
   ]
  },
  {
   "cell_type": "code",
   "execution_count": 34,
   "metadata": {},
   "outputs": [],
   "source": [
    "point_indexes = combined_gdf[combined_gdf['geometry'].type == 'Point'].index"
   ]
  },
  {
   "cell_type": "code",
   "execution_count": 35,
   "metadata": {},
   "outputs": [],
   "source": [
    "point_indexes = combined_gdf[combined_gdf['geometry'].type == 'Point'].index"
   ]
  },
  {
   "cell_type": "code",
   "execution_count": 36,
   "metadata": {},
   "outputs": [],
   "source": [
    "point_to_polygon_buffer = 0.0005 / 4.5"
   ]
  },
  {
   "cell_type": "code",
   "execution_count": 37,
   "metadata": {},
   "outputs": [
    {
     "name": "stderr",
     "output_type": "stream",
     "text": [
      "/var/folders/3c/6mw9fk952gv0vj80_n9sfr7m0000gn/T/ipykernel_12523/11475404.py:1: UserWarning: Geometry is in a geographic CRS. Results from 'buffer' are likely incorrect. Use 'GeoSeries.to_crs()' to re-project geometries to a projected CRS before this operation.\n",
      "\n",
      "  combined_gdf.loc[point_indexes, 'geometry'] = combined_gdf.loc[point_indexes, 'geometry'].buffer(point_to_polygon_buffer)\n"
     ]
    }
   ],
   "source": [
    "combined_gdf.loc[point_indexes, 'geometry'] = combined_gdf.loc[point_indexes, 'geometry'].buffer(point_to_polygon_buffer)"
   ]
  },
  {
   "cell_type": "code",
   "execution_count": 38,
   "metadata": {},
   "outputs": [],
   "source": [
    "y_2020_gdf = combined_gdf[\n",
    "    combined_gdf['source'].isin([\n",
    "        'yuval2020', 'public2020'\n",
    "    ])\n",
    "]"
   ]
  },
  {
   "cell_type": "code",
   "execution_count": 39,
   "metadata": {},
   "outputs": [
    {
     "data": {
      "text/plain": [
       "492"
      ]
     },
     "execution_count": 39,
     "metadata": {},
     "output_type": "execute_result"
    }
   ],
   "source": [
    "y_2020_gdf.shape[0] // 6"
   ]
  },
  {
   "cell_type": "code",
   "execution_count": 40,
   "metadata": {},
   "outputs": [],
   "source": [
    "y_2020_gdf.to_file('../data/ethiopia/normalised/2020.geojson')"
   ]
  },
  {
   "cell_type": "code",
   "execution_count": 42,
   "metadata": {},
   "outputs": [],
   "source": [
    "combined_gdf['id'] = combined_gdf['source'] + '_' + combined_gdf['s2_grid_id']"
   ]
  },
  {
   "cell_type": "code",
   "execution_count": 43,
   "metadata": {},
   "outputs": [],
   "source": [
    "combined_gdf.to_file('../data/ethiopia/normalised/combined.geojson')"
   ]
  },
  {
   "cell_type": "code",
   "execution_count": null,
   "metadata": {},
   "outputs": [],
   "source": []
  },
  {
   "cell_type": "code",
   "execution_count": null,
   "metadata": {},
   "outputs": [],
   "source": []
  },
  {
   "cell_type": "code",
   "execution_count": null,
   "metadata": {},
   "outputs": [],
   "source": []
  }
 ],
 "metadata": {
  "kernelspec": {
   "display_name": ".venv",
   "language": "python",
   "name": "python3"
  },
  "language_info": {
   "codemirror_mode": {
    "name": "ipython",
    "version": 3
   },
   "file_extension": ".py",
   "mimetype": "text/x-python",
   "name": "python",
   "nbconvert_exporter": "python",
   "pygments_lexer": "ipython3",
   "version": "3.10.14"
  }
 },
 "nbformat": 4,
 "nbformat_minor": 2
}

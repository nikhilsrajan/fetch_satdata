{
 "cells": [
  {
   "cell_type": "code",
   "execution_count": null,
   "metadata": {},
   "outputs": [],
   "source": [
    "import geopandas as gpd\n",
    "import rasterio\n",
    "import rasterio.mask\n",
    "import numpy as np\n",
    "import shapely\n",
    "import pandas as pd\n",
    "import os\n",
    "import matplotlib.pyplot as plt\n",
    "import seaborn as sns"
   ]
  },
  {
   "cell_type": "code",
   "execution_count": null,
   "metadata": {},
   "outputs": [],
   "source": [
    "import sys\n",
    "sys.path.append('..')"
   ]
  },
  {
   "cell_type": "code",
   "execution_count": null,
   "metadata": {},
   "outputs": [],
   "source": [
    "import rsutils.s2_grid_utils as s2_grid_utils\n",
    "import rsutils.esa_download as esa_download"
   ]
  },
  {
   "cell_type": "code",
   "execution_count": null,
   "metadata": {},
   "outputs": [],
   "source": [
    "ethiopia_shape_filepath = '../data/outputs/shapefiles/eth_adm_csa_bofedb_2021_shp/eth_admbnda_adm0_csa_bofedb_itos_2021.shp'\n",
    "\n",
    "ethiopia_s2grids_esa_stats_filepath = '../../ethiopia/data/ethiopia_s2_grids_esa_stats.geojson'"
   ]
  },
  {
   "cell_type": "code",
   "execution_count": null,
   "metadata": {},
   "outputs": [],
   "source": [
    "ethiopia_gdf = gpd.read_file(ethiopia_shape_filepath)\n",
    "ethiopia_gdf.crs"
   ]
  },
  {
   "cell_type": "code",
   "execution_count": null,
   "metadata": {},
   "outputs": [],
   "source": [
    "ethiopia_gdf"
   ]
  },
  {
   "cell_type": "code",
   "execution_count": null,
   "metadata": {},
   "outputs": [],
   "source": [
    "os.path.exists(ethiopia_s2grids_esa_stats_filepath)"
   ]
  },
  {
   "cell_type": "code",
   "execution_count": null,
   "metadata": {},
   "outputs": [],
   "source": [
    "ESA_WORKING_DIR = '../data/esa'"
   ]
  },
  {
   "cell_type": "code",
   "execution_count": null,
   "metadata": {},
   "outputs": [],
   "source": [
    "65120//10"
   ]
  },
  {
   "cell_type": "code",
   "execution_count": null,
   "metadata": {},
   "outputs": [],
   "source": [
    "overwrite = False\n",
    "\n",
    "if not os.path.exists(ethiopia_s2grids_esa_stats_filepath) or overwrite:\n",
    "    ethiopia_polygon = ethiopia_gdf['geometry'][0]\n",
    "\n",
    "    ethiopia_s2_grids_gdf = s2_grid_utils.get_s2_grids_gdf(\n",
    "        geojson_epsg_4326 = ethiopia_polygon.__geo_interface__,\n",
    "        scale_fact=1.0,\n",
    "    )\n",
    "\n",
    "    ethiopia_s2_grids_overlay_gdf = gpd.overlay(ethiopia_s2_grids_gdf, ethiopia_gdf[['geometry']])\n",
    "\n",
    "    ethiopia_esa_raster_stats_gdf = esa_download.generate_esa_raster_stats_gdf(\n",
    "        shapes_gdf = ethiopia_s2_grids_overlay_gdf,\n",
    "        id_col = 'id',\n",
    "        years = [2020, 2021],\n",
    "        working_dir = ESA_WORKING_DIR,\n",
    "        # njobs=1\n",
    "    )\n",
    "\n",
    "    ethiopia_esa_raster_stats_gdf.to_file(ethiopia_s2grids_esa_stats_filepath)\n",
    "else:\n",
    "    ethiopia_esa_raster_stats_gdf = gpd.read_file(ethiopia_s2grids_esa_stats_filepath)"
   ]
  },
  {
   "cell_type": "code",
   "execution_count": null,
   "metadata": {},
   "outputs": [],
   "source": [
    "ethiopia_esa_raster_stats_gdf"
   ]
  },
  {
   "cell_type": "code",
   "execution_count": null,
   "metadata": {},
   "outputs": [],
   "source": [
    "preexisting_stats_gdf = gpd.read_file(ethiopia_s2grids_esa_stats_filepath)"
   ]
  },
  {
   "cell_type": "code",
   "execution_count": null,
   "metadata": {},
   "outputs": [],
   "source": [
    "preexisting_stats_gdf.shape"
   ]
  },
  {
   "cell_type": "code",
   "execution_count": null,
   "metadata": {},
   "outputs": [],
   "source": [
    "(preexisting_stats_gdf[\n",
    "    preexisting_stats_gdf['id'].isin(ethiopia_esa_raster_stats_gdf['id'])\n",
    "][[col for col in preexisting_stats_gdf.columns if col not in ['id', 'geometry']]] \\\n",
    "== ethiopia_esa_raster_stats_gdf[\n",
    "    [col for col in preexisting_stats_gdf.columns if col not in ['id', 'geometry']]\n",
    "]).all()"
   ]
  },
  {
   "cell_type": "code",
   "execution_count": null,
   "metadata": {},
   "outputs": [],
   "source": [
    "ethiopia_esa_raster_stats_gdf"
   ]
  },
  {
   "cell_type": "code",
   "execution_count": null,
   "metadata": {},
   "outputs": [],
   "source": [
    "esa_stats_cols_2020 = []\n",
    "esa_stats_cols_2021 = []\n",
    "\n",
    "for col in ethiopia_esa_raster_stats_gdf.columns:\n",
    "    if '(2020)' in col:\n",
    "        esa_stats_cols_2020.append(col)\n",
    "    elif '(2021)' in col:\n",
    "        esa_stats_cols_2021.append(col)"
   ]
  },
  {
   "cell_type": "code",
   "execution_count": null,
   "metadata": {},
   "outputs": [],
   "source": [
    "mandatory_cols = ['id', 'geometry']"
   ]
  },
  {
   "cell_type": "code",
   "execution_count": null,
   "metadata": {},
   "outputs": [],
   "source": [
    "ethiopia_esa_raster_stats_gdf.loc[ethiopia_esa_raster_stats_gdf[esa_stats_cols_2020].sum(axis=1).argmin()]"
   ]
  },
  {
   "cell_type": "code",
   "execution_count": null,
   "metadata": {},
   "outputs": [],
   "source": [
    "scale = 5\n",
    "aspect_ratio = 3\n",
    "fig, ax = plt.subplots(figsize=(scale*aspect_ratio, scale))\n",
    "\n",
    "x = '40 (2020)'\n",
    "min_threshold = 0\n",
    "\n",
    "g = sns.histplot(\n",
    "    data = ethiopia_esa_raster_stats_gdf[ethiopia_esa_raster_stats_gdf[x] > min_threshold],\n",
    "    x = x,\n",
    ")"
   ]
  },
  {
   "cell_type": "code",
   "execution_count": null,
   "metadata": {},
   "outputs": [],
   "source": [
    "n_intervals = 5\n",
    "\n",
    "x = '40 (2020)'\n",
    "min_threshold = 0\n",
    "\n",
    "q = np.linspace(0, 1, n_intervals + 1)\n",
    "quantiles = ethiopia_esa_raster_stats_gdf[ethiopia_esa_raster_stats_gdf[x] > min_threshold][x].quantile(q)\n",
    "quantiles"
   ]
  },
  {
   "cell_type": "code",
   "execution_count": null,
   "metadata": {},
   "outputs": [],
   "source": [
    "ethiopia_esa_raster_stats_gdf[\n",
    "    (ethiopia_esa_raster_stats_gdf[x] >= 114473)\n",
    "    # & (ethiopia_esa_raster_stats_gdf[x] < 114473)\n",
    "].shape[0]"
   ]
  },
  {
   "cell_type": "code",
   "execution_count": null,
   "metadata": {},
   "outputs": [],
   "source": [
    "ethiopia_esa_raster_stats_gdf[ethiopia_esa_raster_stats_gdf[x] > min_threshold][x].max()"
   ]
  },
  {
   "cell_type": "code",
   "execution_count": null,
   "metadata": {},
   "outputs": [],
   "source": [
    "(ethiopia_esa_raster_stats_gdf['40 (2020)'] > 200000).sum()"
   ]
  },
  {
   "cell_type": "code",
   "execution_count": null,
   "metadata": {},
   "outputs": [],
   "source": [
    "cropland_pixel_count_df = ethiopia_esa_raster_stats_gdf['40 (2020)'].value_counts().sort_index(ascending=False).reset_index()"
   ]
  },
  {
   "cell_type": "code",
   "execution_count": null,
   "metadata": {},
   "outputs": [],
   "source": [
    "cropland_pixel_count_df"
   ]
  },
  {
   "cell_type": "code",
   "execution_count": null,
   "metadata": {},
   "outputs": [],
   "source": [
    "cropland_pixel_count_df['cumcount'] = cropland_pixel_count_df['count'].cumsum()"
   ]
  },
  {
   "cell_type": "code",
   "execution_count": null,
   "metadata": {},
   "outputs": [],
   "source": [
    "scale = 5\n",
    "aspect_ratio = 3\n",
    "fig, ax = plt.subplots(figsize=(scale*aspect_ratio, scale))\n",
    "\n",
    "g = sns.scatterplot(\n",
    "    data = cropland_pixel_count_df,\n",
    "    x = '40 (2020)',\n",
    "    y = 'cumcount'\n",
    ")"
   ]
  },
  {
   "cell_type": "code",
   "execution_count": null,
   "metadata": {},
   "outputs": [],
   "source": [
    "ethiopia_esa_raster_stats_gdf[\n",
    "    ethiopia_esa_raster_stats_gdf['40 (2020)'] > 200_000\n",
    "][['id', 'geometry', '40 (2020)']].sort_values(by='40 (2020)', ascending=False)#.to_file('./data/top_ethiopia_grids.geojson')"
   ]
  },
  {
   "cell_type": "code",
   "execution_count": null,
   "metadata": {},
   "outputs": [],
   "source": [
    "365 // 20"
   ]
  },
  {
   "cell_type": "code",
   "execution_count": null,
   "metadata": {},
   "outputs": [],
   "source": [
    "1747 * 18"
   ]
  },
  {
   "cell_type": "code",
   "execution_count": null,
   "metadata": {},
   "outputs": [],
   "source": []
  }
 ],
 "metadata": {
  "kernelspec": {
   "display_name": ".venv",
   "language": "python",
   "name": "python3"
  },
  "language_info": {
   "codemirror_mode": {
    "name": "ipython",
    "version": 3
   },
   "file_extension": ".py",
   "mimetype": "text/x-python",
   "name": "python",
   "nbconvert_exporter": "python",
   "pygments_lexer": "ipython3",
   "version": "3.10.14"
  }
 },
 "nbformat": 4,
 "nbformat_minor": 2
}

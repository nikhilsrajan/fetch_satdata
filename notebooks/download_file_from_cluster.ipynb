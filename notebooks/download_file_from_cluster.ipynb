{
 "cells": [
  {
   "cell_type": "code",
   "execution_count": null,
   "metadata": {},
   "outputs": [],
   "source": [
    "import shutil\n",
    "import rasterio\n",
    "import numpy as np\n",
    "import rasterio.warp\n",
    "import matplotlib.pyplot as plt\n",
    "import seaborn as sns\n",
    "import pandas as pd\n",
    "import os\n",
    "import tqdm"
   ]
  },
  {
   "cell_type": "code",
   "execution_count": null,
   "metadata": {},
   "outputs": [],
   "source": [
    "import sys\n",
    "sys.path.append('..')"
   ]
  },
  {
   "cell_type": "code",
   "execution_count": null,
   "metadata": {},
   "outputs": [],
   "source": [
    "import mysecrets\n",
    "import fetch_from_cluster\n",
    "import create_datacube\n",
    "import rsutils.utils"
   ]
  },
  {
   "cell_type": "code",
   "execution_count": null,
   "metadata": {},
   "outputs": [],
   "source": [
    "remotepath = '/gpfs/data1/cmongp2/sasirajann/fetch_satdata/data/etiopia/s2gridid/164c59c.zip'\n",
    "\n",
    "zip_filename_wo_ext = remotepath.split('/')[-1].removesuffix('.zip')\n",
    "stack_folderpath = f'../data/stack_{zip_filename_wo_ext}'\n",
    "tif_folderpath = f'../data/tifs_{zip_filename_wo_ext}'"
   ]
  },
  {
   "cell_type": "code",
   "execution_count": null,
   "metadata": {},
   "outputs": [],
   "source": [
    "zip_filepath = fetch_from_cluster.download_file_from_cluster(\n",
    "    sshcreds = mysecrets.SSH_UMD_SASIRAJANN,\n",
    "    remotepath = remotepath,\n",
    "    download_folderpath = '../data/cluster_files',\n",
    "    # overwrite = True,\n",
    ")\n",
    "\n",
    "shutil.unpack_archive(zip_filepath, stack_folderpath)\n",
    "\n",
    "datacube, metadata = create_datacube.load_datacube(stack_folderpath)"
   ]
  },
  {
   "cell_type": "code",
   "execution_count": null,
   "metadata": {},
   "outputs": [],
   "source": [
    "datacube.shape"
   ]
  },
  {
   "cell_type": "code",
   "execution_count": null,
   "metadata": {},
   "outputs": [],
   "source": [
    "def write_all_tifs_out(\n",
    "    datacube:np.ndarray, \n",
    "    bandnames:list[str], \n",
    "    out_meta:dict, \n",
    "    folderpath:str,\n",
    "):\n",
    "    n_ts, _, _, _ = datacube.shape\n",
    "    band_indices = {bandname:index for index, bandname in enumerate(bandnames)}\n",
    "\n",
    "    filepaths = {}\n",
    "\n",
    "    os.makedirs(folderpath, exist_ok=True)\n",
    "\n",
    "    for ts in range(n_ts):\n",
    "        filepaths[ts] = {}\n",
    "        \n",
    "        for bandname, band_index in band_indices.items():\n",
    "            tif_filepath = os.path.join(folderpath, f'{bandname}_{str(ts).zfill(3)}.tif')\n",
    "            \n",
    "            with rasterio.open(tif_filepath, 'w', **out_meta) as dst:\n",
    "                dst.write(np.expand_dims(datacube[ts,:,:,band_index], axis=0))\n",
    "            \n",
    "            filepaths[ts][bandname] = tif_filepath\n",
    "    \n",
    "    return filepaths"
   ]
  },
  {
   "cell_type": "code",
   "execution_count": null,
   "metadata": {},
   "outputs": [],
   "source": [
    "metadata"
   ]
  },
  {
   "cell_type": "code",
   "execution_count": null,
   "metadata": {},
   "outputs": [],
   "source": [
    "write_all_tifs_out(\n",
    "    datacube = datacube,\n",
    "    out_meta = metadata['geotiff_metadata'],\n",
    "    folderpath = tif_folderpath,\n",
    "    bandnames = metadata['bands'],\n",
    ")"
   ]
  },
  {
   "cell_type": "code",
   "execution_count": null,
   "metadata": {},
   "outputs": [],
   "source": []
  }
 ],
 "metadata": {
  "kernelspec": {
   "display_name": ".venv",
   "language": "python",
   "name": "python3"
  },
  "language_info": {
   "codemirror_mode": {
    "name": "ipython",
    "version": 3
   },
   "file_extension": ".py",
   "mimetype": "text/x-python",
   "name": "python",
   "nbconvert_exporter": "python",
   "pygments_lexer": "ipython3",
   "version": "3.10.14"
  }
 },
 "nbformat": 4,
 "nbformat_minor": 2
}

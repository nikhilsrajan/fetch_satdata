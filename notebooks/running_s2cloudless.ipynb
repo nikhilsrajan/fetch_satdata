{
 "cells": [
  {
   "cell_type": "code",
   "execution_count": null,
   "metadata": {},
   "outputs": [],
   "source": [
    "import os\n",
    "import shutil\n",
    "import pandas as pd\n",
    "import geopandas as gpd\n",
    "import rasterio\n",
    "import s2cloudless\n",
    "import numpy as np\n",
    "import rasterio.warp"
   ]
  },
  {
   "cell_type": "code",
   "execution_count": null,
   "metadata": {},
   "outputs": [],
   "source": [
    "import sys\n",
    "sys.path.append('..')"
   ]
  },
  {
   "cell_type": "code",
   "execution_count": null,
   "metadata": {},
   "outputs": [],
   "source": [
    "import mysecrets\n",
    "import fetch_from_cluster\n",
    "import modify_images\n",
    "import rsutils.utils\n",
    "import create_stack"
   ]
  },
  {
   "cell_type": "code",
   "execution_count": null,
   "metadata": {},
   "outputs": [],
   "source": [
    "catalog_gdf = gpd.read_file('../data/cluster_files/satellite/Sentinel-2/catalog.geojson')"
   ]
  },
  {
   "cell_type": "code",
   "execution_count": null,
   "metadata": {},
   "outputs": [],
   "source": [
    "suffiently_cloudy_ids = catalog_gdf[\n",
    "    (catalog_gdf['cloud_cover'] < 90) \n",
    "    & (catalog_gdf['cloud_cover'] > 60)\n",
    "]['id'].to_list()"
   ]
  },
  {
   "cell_type": "code",
   "execution_count": null,
   "metadata": {},
   "outputs": [],
   "source": [
    "len(suffiently_cloudy_ids)"
   ]
  },
  {
   "cell_type": "code",
   "execution_count": null,
   "metadata": {},
   "outputs": [],
   "source": [
    "zip_filepath = fetch_from_cluster.download_file_from_cluster(\n",
    "    sshcreds = mysecrets.SSH_UMD_SASIRAJANN,\n",
    "    remotepath = '/gpfs/data1/cmongp2/sasirajann/data/misc/165bca4_s2l1c.zip',\n",
    "    download_folderpath = '../data/cluster_files',\n",
    "    # overwrite = True,\n",
    ")"
   ]
  },
  {
   "cell_type": "code",
   "execution_count": null,
   "metadata": {},
   "outputs": [],
   "source": [
    "cropped_folderpath = '../data/165bca4_s2l1c_2'"
   ]
  },
  {
   "cell_type": "code",
   "execution_count": null,
   "metadata": {},
   "outputs": [],
   "source": [
    "shutil.unpack_archive(zip_filepath, cropped_folderpath)"
   ]
  },
  {
   "cell_type": "code",
   "execution_count": null,
   "metadata": {},
   "outputs": [],
   "source": [
    "catalog_filepath = os.path.join(cropped_folderpath, 'catalog.csv')"
   ]
  },
  {
   "cell_type": "code",
   "execution_count": null,
   "metadata": {},
   "outputs": [],
   "source": [
    "catalog_df = pd.read_csv(catalog_filepath)"
   ]
  },
  {
   "cell_type": "code",
   "execution_count": null,
   "metadata": {},
   "outputs": [],
   "source": [
    "catalog_df['filepath'] = catalog_df['filepath'].apply(lambda x: os.path.join(cropped_folderpath, x))"
   ]
  },
  {
   "cell_type": "code",
   "execution_count": null,
   "metadata": {},
   "outputs": [],
   "source": [
    "selected_catalog_df = catalog_df[\n",
    "    (catalog_df['area_contribution'] == 100)\n",
    "    & (catalog_df['id'].isin(suffiently_cloudy_ids))\n",
    "]\n",
    "selected_catalog_df"
   ]
  },
  {
   "cell_type": "code",
   "execution_count": null,
   "metadata": {},
   "outputs": [],
   "source": [
    "id_band_filepath_dict = selected_catalog_df.groupby('id')[\n",
    "    ['band', 'filepath']\n",
    "].apply(\n",
    "    lambda g: dict(map(tuple, g.values.tolist()))\n",
    ").to_dict()"
   ]
  },
  {
   "cell_type": "code",
   "execution_count": null,
   "metadata": {},
   "outputs": [],
   "source": [
    "selected_catalog_df.groupby('id')[\n",
    "    ['band', 'filepath']\n",
    "].apply(\n",
    "    lambda g: dict(map(tuple, g.values.tolist()))\n",
    ").to_list()"
   ]
  },
  {
   "cell_type": "code",
   "execution_count": null,
   "metadata": {},
   "outputs": [],
   "source": [
    "key_0 = list(id_band_filepath_dict.keys())[0]\n",
    "key_0"
   ]
  },
  {
   "cell_type": "code",
   "execution_count": null,
   "metadata": {},
   "outputs": [],
   "source": [
    "band_filepath_dict = id_band_filepath_dict[key_0]\n",
    "band_filepath_dict"
   ]
  },
  {
   "cell_type": "code",
   "execution_count": null,
   "metadata": {},
   "outputs": [],
   "source": [
    "eth_s2grids_gdf = gpd.read_file('../../ethiopia/data/ethiopia_s2_grids_esa_stats.geojson')\n",
    "\n",
    "S2GRIDS_OF_INTEREST = [\n",
    "    '17b4c3c', # div 4\n",
    "    '17b37fc', # div 2\n",
    "    '164c59c', # corner\n",
    "    '165bca4', # intersection of tiles with different crs\n",
    "]\n",
    "\n",
    "shapes_gdf = eth_s2grids_gdf[eth_s2grids_gdf['id'] == S2GRIDS_OF_INTEREST[3]][['id', 'geometry']]"
   ]
  },
  {
   "cell_type": "code",
   "execution_count": null,
   "metadata": {},
   "outputs": [],
   "source": [
    "modify_images.modify_image(\n",
    "    src_filepath = band_filepath_dict['B01'],\n",
    "    dst_filepath = '../data/testing_resample_crop_B01.jp2',\n",
    "    sequence = [\n",
    "        (modify_images.resample_by_ref, dict(ref_filepath = band_filepath_dict['B08'],\n",
    "                                             resampling = rasterio.warp.Resampling.nearest)),\n",
    "        (modify_images.crop, dict(shapes_gdf=shapes_gdf, nodata=0, all_touched=True))\n",
    "    ],\n",
    ")"
   ]
  },
  {
   "cell_type": "code",
   "execution_count": null,
   "metadata": {},
   "outputs": [],
   "source": [
    "resampled_folderpath = os.path.join('../data/testing_resampling/')\n",
    "os.makedirs(resampled_folderpath, exist_ok=True)"
   ]
  },
  {
   "cell_type": "code",
   "execution_count": null,
   "metadata": {},
   "outputs": [],
   "source": [
    "sentinel2_bands = [\n",
    "    'B01', 'B02', 'B03', 'B04',\n",
    "    'B05', 'B06', 'B07', 'B08',\n",
    "    'B8A', 'B09', 'B10', 'B11', \n",
    "    'B12',\n",
    "]\n",
    "sentinel2_bands"
   ]
  },
  {
   "cell_type": "code",
   "execution_count": null,
   "metadata": {},
   "outputs": [],
   "source": [
    "resampled_band_filepath_dict = {}\n",
    "for band in sentinel2_bands:\n",
    "    band_filepath = band_filepath_dict[band]\n",
    "    resampled_filepath = \\\n",
    "    rsutils.utils.modify_filepath(\n",
    "        filepath = band_filepath,\n",
    "        new_folderpath = resampled_folderpath,\n",
    "    )\n",
    "    resampled_band_filepath_dict[band] = resampled_filepath\n",
    "    modify_images.modify_image(\n",
    "        src_filepath = band_filepath,\n",
    "        dst_filepath = resampled_filepath,\n",
    "        sequence = [\n",
    "            (modify_images.resample_by_ref, dict(ref_filepath = band_filepath_dict['B08'],\n",
    "                                                resampling = rasterio.warp.Resampling.nearest)),\n",
    "            (modify_images.crop, dict(shapes_gdf=shapes_gdf, nodata=0, all_touched=True))\n",
    "        ],\n",
    "    )"
   ]
  },
  {
   "cell_type": "code",
   "execution_count": null,
   "metadata": {},
   "outputs": [],
   "source": [
    "resampled_band_filepath_dict"
   ]
  },
  {
   "cell_type": "code",
   "execution_count": null,
   "metadata": {},
   "outputs": [],
   "source": [
    "for band in sentinel2_bands:\n",
    "    with rasterio.open(resampled_band_filepath_dict[band]) as src:\n",
    "        print(src.meta['height'], src.meta['width'])"
   ]
  },
  {
   "cell_type": "code",
   "execution_count": null,
   "metadata": {},
   "outputs": [],
   "source": [
    "sentinel2_bands"
   ]
  },
  {
   "cell_type": "code",
   "execution_count": null,
   "metadata": {},
   "outputs": [],
   "source": [
    "s2cloudless_bands = [\n",
    "    'B01', 'B02', 'B04', 'B05', 'B08',\n",
    "    'B8A', 'B09', 'B10', 'B11', 'B12',\n",
    "]\n",
    "# 1, 2, 4, 5, 8, 8A, 9, 10, 11, 12"
   ]
  },
  {
   "cell_type": "code",
   "execution_count": null,
   "metadata": {},
   "outputs": [],
   "source": [
    "band_stack = []\n",
    "\n",
    "for band in s2cloudless_bands:\n",
    "    band_filepath = resampled_band_filepath_dict[band]\n",
    "    with rasterio.open(band_filepath) as src:\n",
    "        band_stack.append(src.read())\n",
    "        out_meta = src.meta.copy()"
   ]
  },
  {
   "cell_type": "code",
   "execution_count": null,
   "metadata": {},
   "outputs": [],
   "source": [
    "out_meta"
   ]
  },
  {
   "cell_type": "code",
   "execution_count": null,
   "metadata": {},
   "outputs": [],
   "source": [
    "band_stack_ndarray = np.stack(band_stack, axis=-1)"
   ]
  },
  {
   "cell_type": "code",
   "execution_count": null,
   "metadata": {},
   "outputs": [],
   "source": [
    "band_stack_ndarray.shape"
   ]
  },
  {
   "cell_type": "code",
   "execution_count": null,
   "metadata": {},
   "outputs": [],
   "source": [
    "cloud_detector = s2cloudless.S2PixelCloudDetector(\n",
    "    threshold=0.4, average_over=4, dilation_size=2, all_bands=False\n",
    ")"
   ]
  },
  {
   "cell_type": "code",
   "execution_count": null,
   "metadata": {},
   "outputs": [],
   "source": [
    "# https://stackoverflow.com/questions/77783414/using-s2cloudless-to-generate-cloud-mask-using-sentinel-2-l1c-raw-data\n",
    "# https://forum.step.esa.int/t/info-introduction-of-additional-radiometric-offset-in-pb04-00-products/35431\n",
    "# https://sentiwiki.copernicus.eu/web/s2-processing\n",
    "QUANTIFICATION_VALUE = 10000\n",
    "RADIO_ADD_OFFSET = -1000"
   ]
  },
  {
   "cell_type": "code",
   "execution_count": null,
   "metadata": {},
   "outputs": [],
   "source": []
  },
  {
   "cell_type": "code",
   "execution_count": null,
   "metadata": {},
   "outputs": [],
   "source": [
    "cmk = cloud_detector.get_cloud_masks(data=(band_stack_ndarray + RADIO_ADD_OFFSET) / QUANTIFICATION_VALUE)"
   ]
  },
  {
   "cell_type": "code",
   "execution_count": null,
   "metadata": {},
   "outputs": [],
   "source": [
    "import matplotlib.pyplot as plt\n",
    "import seaborn as sns"
   ]
  },
  {
   "cell_type": "code",
   "execution_count": null,
   "metadata": {},
   "outputs": [],
   "source": [
    "plt.hist(cmk[cmk > 0].flatten())"
   ]
  },
  {
   "cell_type": "code",
   "execution_count": null,
   "metadata": {},
   "outputs": [],
   "source": [
    "cmk"
   ]
  },
  {
   "cell_type": "code",
   "execution_count": null,
   "metadata": {},
   "outputs": [],
   "source": [
    "(cmk == 1).sum()"
   ]
  },
  {
   "cell_type": "code",
   "execution_count": null,
   "metadata": {},
   "outputs": [],
   "source": [
    "out_meta['dtype'] = cmk.dtype"
   ]
  },
  {
   "cell_type": "code",
   "execution_count": null,
   "metadata": {},
   "outputs": [],
   "source": [
    "out_meta = rsutils.utils.driver_specific_meta_updates(meta=out_meta)\n",
    "out_meta"
   ]
  },
  {
   "cell_type": "code",
   "execution_count": null,
   "metadata": {},
   "outputs": [],
   "source": [
    "with rasterio.open(\n",
    "    os.path.join(resampled_folderpath, 'CMK.jp2'),\n",
    "    'w',\n",
    "    **out_meta,\n",
    ") as dst:\n",
    "    dst.write(cmk)"
   ]
  },
  {
   "cell_type": "code",
   "execution_count": null,
   "metadata": {},
   "outputs": [],
   "source": []
  },
  {
   "cell_type": "code",
   "execution_count": null,
   "metadata": {},
   "outputs": [],
   "source": []
  }
 ],
 "metadata": {
  "kernelspec": {
   "display_name": ".venv",
   "language": "python",
   "name": "python3"
  },
  "language_info": {
   "codemirror_mode": {
    "name": "ipython",
    "version": 3
   },
   "file_extension": ".py",
   "mimetype": "text/x-python",
   "name": "python",
   "nbconvert_exporter": "python",
   "pygments_lexer": "ipython3",
   "version": "3.10.14"
  }
 },
 "nbformat": 4,
 "nbformat_minor": 2
}

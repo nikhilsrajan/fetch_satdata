{
 "cells": [
  {
   "cell_type": "code",
   "execution_count": null,
   "metadata": {},
   "outputs": [],
   "source": [
    "import sys\n",
    "sys.path.append('..')"
   ]
  },
  {
   "cell_type": "code",
   "execution_count": null,
   "metadata": {},
   "outputs": [],
   "source": [
    "import mysecrets\n",
    "import config\n",
    "import fetch_from_cluster"
   ]
  },
  {
   "cell_type": "code",
   "execution_count": null,
   "metadata": {},
   "outputs": [],
   "source": [
    "s2l1c_datacube_catalog_gdf = \\\n",
    "fetch_from_cluster.load_datacube_s2l1c_catalog(\n",
    "    sshcreds = mysecrets.SSH_UMD,\n",
    "    datacubes_folderpath = config.FOLDERPATH_DATACUBES,\n",
    "    overwrite = False,\n",
    ")"
   ]
  },
  {
   "cell_type": "code",
   "execution_count": null,
   "metadata": {},
   "outputs": [],
   "source": [
    "s2l1c_datacube_catalog_gdf.shape"
   ]
  },
  {
   "cell_type": "code",
   "execution_count": null,
   "metadata": {},
   "outputs": [],
   "source": [
    "s2l1c_datacube_configs = \\\n",
    "fetch_from_cluster.load_datacube_s2l1c_configurations(\n",
    "    sshcreds = mysecrets.SSH_UMD,\n",
    "    datacubes_folderpath = config.FOLDERPATH_DATACUBES,\n",
    "    overwrite = False,\n",
    ")"
   ]
  },
  {
   "cell_type": "code",
   "execution_count": null,
   "metadata": {},
   "outputs": [],
   "source": [
    "s2l1c_datacube_configs"
   ]
  },
  {
   "cell_type": "code",
   "execution_count": null,
   "metadata": {},
   "outputs": [],
   "source": [
    "selected_id = s2l1c_datacube_catalog_gdf['id'][0]\n",
    "selected_id"
   ]
  },
  {
   "cell_type": "code",
   "execution_count": null,
   "metadata": {},
   "outputs": [],
   "source": [
    "datacube_filepaths = fetch_from_cluster.download_s2l1c_datacube(\n",
    "    id = selected_id,\n",
    "    sshcreds = mysecrets.SSH_UMD,\n",
    "    datacubes_folderpath = config.FOLDERPATH_DATACUBES,\n",
    ")"
   ]
  },
  {
   "cell_type": "code",
   "execution_count": null,
   "metadata": {},
   "outputs": [],
   "source": [
    "datacube_filepaths"
   ]
  },
  {
   "cell_type": "code",
   "execution_count": null,
   "metadata": {},
   "outputs": [],
   "source": []
  }
 ],
 "metadata": {
  "kernelspec": {
   "display_name": ".venv",
   "language": "python",
   "name": "python3"
  },
  "language_info": {
   "codemirror_mode": {
    "name": "ipython",
    "version": 3
   },
   "file_extension": ".py",
   "mimetype": "text/x-python",
   "name": "python",
   "nbconvert_exporter": "python",
   "pygments_lexer": "ipython3",
   "version": "3.10.14"
  }
 },
 "nbformat": 4,
 "nbformat_minor": 2
}

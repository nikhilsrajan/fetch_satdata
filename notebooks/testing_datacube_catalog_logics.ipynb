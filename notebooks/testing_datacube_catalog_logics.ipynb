{
 "cells": [
  {
   "cell_type": "code",
   "execution_count": null,
   "metadata": {},
   "outputs": [],
   "source": [
    "import sys\n",
    "sys.path.append('..')"
   ]
  },
  {
   "cell_type": "code",
   "execution_count": null,
   "metadata": {},
   "outputs": [],
   "source": [
    "import create_s2l1c_datacube"
   ]
  },
  {
   "cell_type": "code",
   "execution_count": null,
   "metadata": {},
   "outputs": [],
   "source": [
    "dcm = create_s2l1c_datacube.load_datacube_catalog_manager(\n",
    "    datacube_catalog_filepath = '../data/test_datacube_catalog.geojson'\n",
    ")"
   ]
  },
  {
   "cell_type": "code",
   "execution_count": null,
   "metadata": {},
   "outputs": [],
   "source": [
    "import shapely\n",
    "import datetime\n",
    "import geopandas as gpd"
   ]
  },
  {
   "cell_type": "code",
   "execution_count": null,
   "metadata": {},
   "outputs": [],
   "source": [
    "dcm.add(\n",
    "    entry = {\n",
    "        'id': 'aaa',\n",
    "        'roi_name': 'test_roi',\n",
    "        'geometry': shapely.Polygon([\n",
    "            [0, 1],\n",
    "            [1, 1],\n",
    "            [1, 0],\n",
    "            [0, 0],\n",
    "        ]),\n",
    "        'startdate': datetime.datetime(2021, 1, 1),\n",
    "        'enddate': datetime.datetime(2022, 1, 1),\n",
    "        'config_id': 1,\n",
    "        'local_folderpath': '../data/blah/',\n",
    "        'files': ['datacube.npy', 'metadata.pickle.npy'],\n",
    "    }\n",
    ")"
   ]
  },
  {
   "cell_type": "code",
   "execution_count": null,
   "metadata": {},
   "outputs": [],
   "source": [
    "dcm.add(\n",
    "    entry = {\n",
    "        'id': 'aab',\n",
    "        'roi_name': 'test_roi_2',\n",
    "        'geometry': shapely.Polygon([\n",
    "            [0, 2],\n",
    "            [2, 2],\n",
    "            [2, 0],\n",
    "            [0, 0],\n",
    "        ]),\n",
    "        'startdate': datetime.datetime(2021, 1, 1),\n",
    "        'enddate': datetime.datetime(2022, 1, 1),\n",
    "        'config_id': 1,\n",
    "        'local_folderpath': '../data/blah/',\n",
    "        'files': ['datacube.npy', 'metadata.pickle.npy'],\n",
    "    }\n",
    ")"
   ]
  },
  {
   "cell_type": "code",
   "execution_count": null,
   "metadata": {},
   "outputs": [],
   "source": [
    "dcm.add(\n",
    "    entry = {\n",
    "        'id': 'aac',\n",
    "        'roi_name': 'test_roi',\n",
    "        'geometry': shapely.Polygon([\n",
    "            [0, 1],\n",
    "            [1, 1],\n",
    "            [1, 0],\n",
    "            [0, 0],\n",
    "        ]),\n",
    "        'startdate': datetime.datetime(2022, 1, 1),\n",
    "        'enddate': datetime.datetime(2023, 1, 1),\n",
    "        'config_id': 1,\n",
    "        'local_folderpath': '../data/blah/',\n",
    "        'files': ['datacube.npy', 'metadata.pickle.npy'],\n",
    "    }\n",
    ")"
   ]
  },
  {
   "cell_type": "code",
   "execution_count": null,
   "metadata": {},
   "outputs": [],
   "source": [
    "dcm.catalog_gdf"
   ]
  },
  {
   "cell_type": "code",
   "execution_count": null,
   "metadata": {},
   "outputs": [],
   "source": [
    "dcm.save()"
   ]
  },
  {
   "cell_type": "code",
   "execution_count": null,
   "metadata": {},
   "outputs": [],
   "source": [
    "dcm.catalog_filepath"
   ]
  },
  {
   "cell_type": "code",
   "execution_count": null,
   "metadata": {},
   "outputs": [],
   "source": [
    "create_s2l1c_datacube.get_roi_geom_gdf(\n",
    "    dcm.catalog_filepath\n",
    ")"
   ]
  },
  {
   "cell_type": "code",
   "execution_count": null,
   "metadata": {},
   "outputs": [],
   "source": [
    "e =  0\n",
    "\n",
    "create_s2l1c_datacube.check_if_geom_present_exact(\n",
    "    shapes_gdf = gpd.GeoDataFrame(\n",
    "        data = {\n",
    "            'geometry': [\n",
    "                shapely.Polygon([\n",
    "                    [0 + e, 1 + e],\n",
    "                    [1 + e, 1 + e],\n",
    "                    [1 + e, 0 + e],\n",
    "                    [0 + e, 0 + e],\n",
    "                ])\n",
    "            ]\n",
    "        },\n",
    "        crs = 'epsg:4326',\n",
    "    ),\n",
    "    datacube_catalog_filepath = dcm.catalog_filepath,\n",
    ")"
   ]
  },
  {
   "cell_type": "code",
   "execution_count": null,
   "metadata": {},
   "outputs": [],
   "source": [
    "e =  1e-4\n",
    "\n",
    "create_s2l1c_datacube.check_if_geom_present_iou(\n",
    "    shapes_gdf = gpd.GeoDataFrame(\n",
    "        data = {\n",
    "            'geometry': [\n",
    "                shapely.Polygon([\n",
    "                    [0 + e, 1 + e],\n",
    "                    [1 + e, 1 + e],\n",
    "                    [1 + e, 0 + e],\n",
    "                    [0 + e, 0 + e],\n",
    "                ])\n",
    "            ]\n",
    "        },\n",
    "        crs = 'epsg:4326',\n",
    "    ),\n",
    "    datacube_catalog_filepath = dcm.catalog_filepath,\n",
    "    iou_threshold = 0\n",
    ")"
   ]
  },
  {
   "cell_type": "code",
   "execution_count": null,
   "metadata": {},
   "outputs": [],
   "source": []
  }
 ],
 "metadata": {
  "kernelspec": {
   "display_name": ".venv",
   "language": "python",
   "name": "python3"
  },
  "language_info": {
   "codemirror_mode": {
    "name": "ipython",
    "version": 3
   },
   "file_extension": ".py",
   "mimetype": "text/x-python",
   "name": "python",
   "nbconvert_exporter": "python",
   "pygments_lexer": "ipython3",
   "version": "3.10.14"
  }
 },
 "nbformat": 4,
 "nbformat_minor": 2
}

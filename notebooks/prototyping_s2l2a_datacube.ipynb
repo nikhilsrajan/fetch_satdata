{
 "cells": [
  {
   "cell_type": "code",
   "execution_count": 22,
   "metadata": {},
   "outputs": [],
   "source": [
    "import geopandas as gpd\n",
    "import numpy as np\n",
    "import datetime\n",
    "import os\n",
    "import rasterio"
   ]
  },
  {
   "cell_type": "code",
   "execution_count": 2,
   "metadata": {},
   "outputs": [],
   "source": [
    "import sys\n",
    "sys.path.append('..')"
   ]
  },
  {
   "cell_type": "code",
   "execution_count": 3,
   "metadata": {},
   "outputs": [
    {
     "name": "stderr",
     "output_type": "stream",
     "text": [
      "/Users/nikhilsrajan/NASA-Harvest/project/fetch_satdata/.venv/lib/python3.10/site-packages/tqdm/auto.py:21: TqdmWarning: IProgress not found. Please update jupyter and ipywidgets. See https://ipywidgets.readthedocs.io/en/stable/user_install.html\n",
      "  from .autonotebook import tqdm as notebook_tqdm\n"
     ]
    }
   ],
   "source": [
    "import config\n",
    "import create_s2l1c_datacube\n",
    "import rsutils.s2_grid_utils"
   ]
  },
  {
   "cell_type": "code",
   "execution_count": 4,
   "metadata": {},
   "outputs": [],
   "source": [
    "roi_filepath = '../../ethiopia/data/Ethiopia_Bounding_Boxs/Ethiopia_2021_East_Bounding_Box.shp'"
   ]
  },
  {
   "cell_type": "code",
   "execution_count": 5,
   "metadata": {},
   "outputs": [],
   "source": [
    "test_grid_id = '17b43dc'\n",
    "mosaic_days_interval = 20"
   ]
  },
  {
   "cell_type": "code",
   "execution_count": 6,
   "metadata": {},
   "outputs": [
    {
     "data": {
      "text/html": [
       "<div>\n",
       "<style scoped>\n",
       "    .dataframe tbody tr th:only-of-type {\n",
       "        vertical-align: middle;\n",
       "    }\n",
       "\n",
       "    .dataframe tbody tr th {\n",
       "        vertical-align: top;\n",
       "    }\n",
       "\n",
       "    .dataframe thead th {\n",
       "        text-align: right;\n",
       "    }\n",
       "</style>\n",
       "<table border=\"1\" class=\"dataframe\">\n",
       "  <thead>\n",
       "    <tr style=\"text-align: right;\">\n",
       "      <th></th>\n",
       "      <th>id</th>\n",
       "      <th>geometry</th>\n",
       "    </tr>\n",
       "  </thead>\n",
       "  <tbody>\n",
       "    <tr>\n",
       "      <th>0</th>\n",
       "      <td>17b43dc</td>\n",
       "      <td>POLYGON ((38.98559 7.34009, 39.03147 7.33538, ...</td>\n",
       "    </tr>\n",
       "  </tbody>\n",
       "</table>\n",
       "</div>"
      ],
      "text/plain": [
       "        id                                           geometry\n",
       "0  17b43dc  POLYGON ((38.98559 7.34009, 39.03147 7.33538, ..."
      ]
     },
     "execution_count": 6,
     "metadata": {},
     "output_type": "execute_result"
    }
   ],
   "source": [
    "# shapes_gdf = gpd.read_file(roi_filepath).to_crs('epsg:4326')\n",
    "shapes_gdf = gpd.GeoDataFrame(data={\n",
    "    'id': [test_grid_id],\n",
    "    'geometry': [rsutils.s2_grid_utils.get_grid_geometry_from_id(test_grid_id)],\n",
    "}, crs='epsg:4326')\n",
    "shapes_gdf"
   ]
  },
  {
   "cell_type": "code",
   "execution_count": 7,
   "metadata": {},
   "outputs": [],
   "source": [
    "startdate = datetime.datetime(2021, 3, 1)\n",
    "enddate = datetime.datetime(2021, 4, 1)"
   ]
  },
  {
   "cell_type": "code",
   "execution_count": 9,
   "metadata": {},
   "outputs": [],
   "source": [
    "export_folderpath = f'../data/test_s2l2a_datacube/{test_grid_id}/{mosaic_days_interval}'"
   ]
  },
  {
   "cell_type": "code",
   "execution_count": 16,
   "metadata": {},
   "outputs": [
    {
     "name": "stdout",
     "output_type": "stream",
     "text": [
      "Cropping tiles and reprojecting to common CRS:\n"
     ]
    },
    {
     "name": "stderr",
     "output_type": "stream",
     "text": [
      "100%|██████████| 156/156 [00:06<00:00, 25.17it/s]\n"
     ]
    },
    {
     "name": "stdout",
     "output_type": "stream",
     "text": [
      "Resampling cropped images to resolution of B08 band:\n"
     ]
    },
    {
     "name": "stderr",
     "output_type": "stream",
     "text": [
      "100%|██████████| 12/12 [00:03<00:00,  3.17it/s]\n"
     ]
    },
    {
     "name": "stdout",
     "output_type": "stream",
     "text": [
      "Resampling cropped images to merged shape:\n"
     ]
    },
    {
     "name": "stderr",
     "output_type": "stream",
     "text": [
      "100%|██████████| 156/156 [00:04<00:00, 37.77it/s]\n"
     ]
    },
    {
     "name": "stdout",
     "output_type": "stream",
     "text": [
      "Extracting mean_sun_angle:\n"
     ]
    },
    {
     "name": "stderr",
     "output_type": "stream",
     "text": [
      "100%|██████████| 12/12 [00:00<00:00, 82.58it/s]"
     ]
    },
    {
     "name": "stdout",
     "output_type": "stream",
     "text": [
      "Running apply_cloud_mask_scl -- kwargs={'mask_classes': [0, 1, 3, 7, 8, 9, 10]}\n"
     ]
    },
    {
     "name": "stderr",
     "output_type": "stream",
     "text": [
      "\n"
     ]
    },
    {
     "name": "stdout",
     "output_type": "stream",
     "text": [
      "Running drop_bands -- kwargs={'bands_to_drop': ['SCL']}\n",
      "Running median_mosaic -- kwargs={'startdate': datetime.datetime(2021, 3, 1, 0, 0), 'enddate': datetime.datetime(2021, 4, 1, 0, 0), 'mosaic_days': 20}\n"
     ]
    }
   ],
   "source": [
    "create_s2l1c_datacube.create_s2l2a_datacube(\n",
    "    shapes_gdf = shapes_gdf,\n",
    "    export_folderpath = export_folderpath,\n",
    "    satellite_catalog_filepath = '../data/satellite/Sentinel-2/catalog.geojson',\n",
    "    startdate = startdate,\n",
    "    enddate = enddate,\n",
    "    njobs = 8,\n",
    "    mosaic_days = mosaic_days_interval,\n",
    "    bands = [\n",
    "        'B01', 'B02', 'B03', 'B04',\n",
    "        'B05', 'B06', 'B07', 'B08',\n",
    "        'B8A', 'B09', 'B11',\n",
    "        'B12', 'SCL',\n",
    "    ]\n",
    ")"
   ]
  },
  {
   "cell_type": "code",
   "execution_count": 17,
   "metadata": {},
   "outputs": [],
   "source": [
    "datacube = np.load(os.path.join(export_folderpath, 'datacube.npy'))\n",
    "metadata = np.load(os.path.join(export_folderpath, 'metadata.pickle.npy'), allow_pickle=True)[()]"
   ]
  },
  {
   "cell_type": "code",
   "execution_count": 18,
   "metadata": {},
   "outputs": [
    {
     "data": {
      "text/plain": [
       "(2, 478, 508, 12)"
      ]
     },
     "execution_count": 18,
     "metadata": {},
     "output_type": "execute_result"
    }
   ],
   "source": [
    "datacube.shape"
   ]
  },
  {
   "cell_type": "code",
   "execution_count": 19,
   "metadata": {},
   "outputs": [
    {
     "data": {
      "text/plain": [
       "{'geotiff_metadata': {'driver': 'GTiff',\n",
       "  'dtype': 'uint16',\n",
       "  'nodata': 0,\n",
       "  'width': 508,\n",
       "  'height': 478,\n",
       "  'count': 1,\n",
       "  'crs': CRS.from_epsg(32637),\n",
       "  'transform': Affine(10.0, 0.0, 498400.0,\n",
       "         0.0, -10.0, 815600.0),\n",
       "  'compress': 'lzw'},\n",
       " 'timestamps': [Timestamp('2021-03-04 07:57:49.172000+0000', tz='UTC'),\n",
       "  Timestamp('2021-03-24 07:57:49.086000+0000', tz='UTC')],\n",
       " 'ids': ['S2B_MSIL2A_20210304T073809_N0500_R092_T37NEJ_20230529T142251.SAFE',\n",
       "  'S2B_MSIL2A_20210304T073809_N0500_R092_T37NDJ_20230529T142251.SAFE',\n",
       "  'S2A_MSIL2A_20210309T073741_N0500_R092_T37NEJ_20230523T144831.SAFE',\n",
       "  'S2A_MSIL2A_20210309T073741_N0500_R092_T37NDJ_20230523T144831.SAFE',\n",
       "  'S2B_MSIL2A_20210314T073659_N0500_R092_T37NEJ_20230529T050002.SAFE',\n",
       "  'S2B_MSIL2A_20210314T073659_N0500_R092_T37NDJ_20230529T050002.SAFE',\n",
       "  'S2A_MSIL2A_20210319T073621_N0500_R092_T37NEJ_20230604T084114.SAFE',\n",
       "  'S2A_MSIL2A_20210319T073621_N0500_R092_T37NDJ_20230604T084114.SAFE',\n",
       "  'S2B_MSIL2A_20210324T073609_N0500_R092_T37NEJ_20230607T142950.SAFE',\n",
       "  'S2B_MSIL2A_20210324T073609_N0500_R092_T37NDJ_20230607T142950.SAFE',\n",
       "  'S2A_MSIL2A_20210329T073611_N0500_R092_T37NEJ_20230523T174144.SAFE',\n",
       "  'S2A_MSIL2A_20210329T073611_N0500_R092_T37NDJ_20230523T174144.SAFE'],\n",
       " 'bands': ['B01',\n",
       "  'B02',\n",
       "  'B03',\n",
       "  'B04',\n",
       "  'B05',\n",
       "  'B06',\n",
       "  'B07',\n",
       "  'B08',\n",
       "  'B8A',\n",
       "  'B09',\n",
       "  'B11',\n",
       "  'B12'],\n",
       " 'data_shape_desc': ('timestamps', 'height', 'width', 'bands'),\n",
       " 'mosaic_index_intervals': [(0, 7), (8, 11)],\n",
       " 'previous_timestamps': [Timestamp('2021-03-04 07:57:49.172000+0000', tz='UTC'),\n",
       "  Timestamp('2021-03-04 07:57:52.312000+0000', tz='UTC'),\n",
       "  Timestamp('2021-03-09 07:57:49.902000+0000', tz='UTC'),\n",
       "  Timestamp('2021-03-09 07:57:53.044000+0000', tz='UTC'),\n",
       "  Timestamp('2021-03-14 07:57:49.464000+0000', tz='UTC'),\n",
       "  Timestamp('2021-03-14 07:57:52.606000+0000', tz='UTC'),\n",
       "  Timestamp('2021-03-19 07:57:49.195000+0000', tz='UTC'),\n",
       "  Timestamp('2021-03-19 07:57:52.336000+0000', tz='UTC'),\n",
       "  Timestamp('2021-03-24 07:57:49.086000+0000', tz='UTC'),\n",
       "  Timestamp('2021-03-24 07:57:52.228000+0000', tz='UTC'),\n",
       "  Timestamp('2021-03-29 07:57:47.829000+0000', tz='UTC'),\n",
       "  Timestamp('2021-03-29 07:57:50.975000+0000', tz='UTC')]}"
      ]
     },
     "execution_count": 19,
     "metadata": {},
     "output_type": "execute_result"
    }
   ],
   "source": [
    "metadata"
   ]
  },
  {
   "cell_type": "code",
   "execution_count": 20,
   "metadata": {},
   "outputs": [],
   "source": [
    "band_indices = dict(zip(metadata['bands'], range(len(metadata['bands']))))"
   ]
  },
  {
   "cell_type": "code",
   "execution_count": 21,
   "metadata": {},
   "outputs": [
    {
     "data": {
      "text/plain": [
       "{'B01': 0,\n",
       " 'B02': 1,\n",
       " 'B03': 2,\n",
       " 'B04': 3,\n",
       " 'B05': 4,\n",
       " 'B06': 5,\n",
       " 'B07': 6,\n",
       " 'B08': 7,\n",
       " 'B8A': 8,\n",
       " 'B09': 9,\n",
       " 'B11': 10,\n",
       " 'B12': 11}"
      ]
     },
     "execution_count": 21,
     "metadata": {},
     "output_type": "execute_result"
    }
   ],
   "source": [
    "band_indices"
   ]
  },
  {
   "cell_type": "code",
   "execution_count": 23,
   "metadata": {},
   "outputs": [
    {
     "data": {
      "text/plain": [
       "{'driver': 'GTiff',\n",
       " 'dtype': 'uint16',\n",
       " 'nodata': 0,\n",
       " 'width': 508,\n",
       " 'height': 478,\n",
       " 'count': 1,\n",
       " 'crs': CRS.from_epsg(32637),\n",
       " 'transform': Affine(10.0, 0.0, 498400.0,\n",
       "        0.0, -10.0, 815600.0),\n",
       " 'compress': 'lzw'}"
      ]
     },
     "execution_count": 23,
     "metadata": {},
     "output_type": "execute_result"
    }
   ],
   "source": [
    "out_meta = metadata['geotiff_metadata']\n",
    "out_meta"
   ]
  },
  {
   "cell_type": "code",
   "execution_count": 25,
   "metadata": {},
   "outputs": [],
   "source": [
    "with rasterio.open(os.path.join(export_folderpath, 'B08_20_day_mosaic.tif'), 'w', **out_meta) as dst:\n",
    "    dst.write(np.expand_dims(datacube[0,:,:,band_indices['B08']], axis=0))"
   ]
  },
  {
   "cell_type": "code",
   "execution_count": null,
   "metadata": {},
   "outputs": [],
   "source": []
  }
 ],
 "metadata": {
  "kernelspec": {
   "display_name": ".venv",
   "language": "python",
   "name": "python3"
  },
  "language_info": {
   "codemirror_mode": {
    "name": "ipython",
    "version": 3
   },
   "file_extension": ".py",
   "mimetype": "text/x-python",
   "name": "python",
   "nbconvert_exporter": "python",
   "pygments_lexer": "ipython3",
   "version": "3.10.14"
  }
 },
 "nbformat": 4,
 "nbformat_minor": 2
}

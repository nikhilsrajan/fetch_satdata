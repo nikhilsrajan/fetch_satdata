{
 "cells": [
  {
   "cell_type": "code",
   "execution_count": 23,
   "metadata": {},
   "outputs": [],
   "source": [
    "import matplotlib.pyplot as plt\n",
    "import seaborn as sns\n",
    "import datetime\n",
    "import os"
   ]
  },
  {
   "cell_type": "code",
   "execution_count": 2,
   "metadata": {},
   "outputs": [],
   "source": [
    "import sys\n",
    "sys.path.append('..')"
   ]
  },
  {
   "cell_type": "code",
   "execution_count": 14,
   "metadata": {},
   "outputs": [],
   "source": [
    "import mysecrets\n",
    "import config\n",
    "import fetch_from_cluster\n",
    "import catalogmanager\n",
    "import sqlite_db_utils"
   ]
  },
  {
   "cell_type": "code",
   "execution_count": 4,
   "metadata": {},
   "outputs": [],
   "source": [
    "s2_satellite_catalog_gdf = \\\n",
    "fetch_from_cluster.load_satellite_sentinel2_catalog(\n",
    "    sshcreds = mysecrets.SSH_UMD,\n",
    "    satellite_folderpath = config.FOLDERPATH_SATELLITE,\n",
    "    overwrite = True,\n",
    ")"
   ]
  },
  {
   "cell_type": "code",
   "execution_count": null,
   "metadata": {},
   "outputs": [
    {
     "data": {
      "text/plain": [
       "(3863, 9)"
      ]
     },
     "execution_count": 5,
     "metadata": {},
     "output_type": "execute_result"
    }
   ],
   "source": [
    "s2_satellite_catalog_gdf.shape"
   ]
  },
  {
   "cell_type": "code",
   "execution_count": 7,
   "metadata": {},
   "outputs": [
    {
     "data": {
      "text/plain": [
       "Index(['id', 'satellite', 'timestamp', 's3url', 'local_folderpath', 'files',\n",
       "       'last_update', 'cloud_cover', 'geometry'],\n",
       "      dtype='object')"
      ]
     },
     "execution_count": 7,
     "metadata": {},
     "output_type": "execute_result"
    }
   ],
   "source": [
    "s2_satellite_catalog_gdf.columns"
   ]
  },
  {
   "cell_type": "code",
   "execution_count": 9,
   "metadata": {},
   "outputs": [
    {
     "data": {
      "text/plain": [
       "0      2024-08-20 13:54:40.022000+00:00\n",
       "1      2024-08-20 13:54:40.023000+00:00\n",
       "2      2024-08-20 13:54:40.025000+00:00\n",
       "3      2024-08-20 13:54:40.027000+00:00\n",
       "4      2024-08-20 13:54:40.028000+00:00\n",
       "                     ...               \n",
       "3858   2025-01-27 13:46:11.388000+00:00\n",
       "3859   2025-01-27 13:46:59.394000+00:00\n",
       "3860   2025-01-27 13:46:59.396000+00:00\n",
       "3861   2025-01-27 13:46:59.399000+00:00\n",
       "3862   2025-01-27 13:46:59.401000+00:00\n",
       "Name: last_update, Length: 3863, dtype: datetime64[ms, UTC]"
      ]
     },
     "execution_count": 9,
     "metadata": {},
     "output_type": "execute_result"
    }
   ],
   "source": [
    "s2_satellite_catalog_gdf['last_update']"
   ]
  },
  {
   "cell_type": "code",
   "execution_count": 13,
   "metadata": {},
   "outputs": [
    {
     "data": {
      "image/png": "[encoded data removed]",
      "text/plain": [
       "<Figure size 1000x500 with 1 Axes>"
      ]
     },
     "metadata": {},
     "output_type": "display_data"
    }
   ],
   "source": [
    "scale = 5\n",
    "aspect_ratio = 2\n",
    "fig, ax = plt.subplots(figsize=(scale*aspect_ratio, scale))\n",
    "\n",
    "g = sns.histplot(\n",
    "    data = s2_satellite_catalog_gdf[\n",
    "        s2_satellite_catalog_gdf['last_update'] >= catalogmanager.dt2ts(dt=datetime.datetime(2025, 1, 1))\n",
    "    ],\n",
    "    x = 'last_update',\n",
    ")"
   ]
  },
  {
   "cell_type": "markdown",
   "metadata": {},
   "source": [
    "### geojson to db"
   ]
  },
  {
   "cell_type": "code",
   "execution_count": 20,
   "metadata": {},
   "outputs": [
    {
     "data": {
      "text/plain": [
       "'/Users/nikhilsrajan/NASA-Harvest/project/fetch_satdata/notebooks/../data/satellite/Sentinel-2/catalog.geojson'"
      ]
     },
     "execution_count": 20,
     "metadata": {},
     "output_type": "execute_result"
    }
   ],
   "source": [
    "catalog_filepath = fetch_from_cluster.remotepath_to_localpath(\n",
    "    remotepath = fetch_from_cluster.FILEPATH_SATELLITE_SENTINEL2_CATALOG,\n",
    "    remote_root_path = fetch_from_cluster.FOLDERPATH_SATELLITE,\n",
    "    local_root_path = config.FOLDERPATH_SATELLITE,\n",
    ")\n",
    "catalog_filepath"
   ]
  },
  {
   "cell_type": "code",
   "execution_count": 21,
   "metadata": {},
   "outputs": [
    {
     "data": {
      "text/plain": [
       "'/Users/nikhilsrajan/NASA-Harvest/project/fetch_satdata/notebooks/../data/satellite/Sentinel-2/catalog.db'"
      ]
     },
     "execution_count": 21,
     "metadata": {},
     "output_type": "execute_result"
    }
   ],
   "source": [
    "db_path = catalog_filepath.replace('.geojson', '.db')\n",
    "db_path"
   ]
  },
  {
   "cell_type": "code",
   "execution_count": 26,
   "metadata": {},
   "outputs": [],
   "source": [
    "table_name = 'satellite'"
   ]
  },
  {
   "cell_type": "code",
   "execution_count": 27,
   "metadata": {},
   "outputs": [],
   "source": [
    "if not os.path.exists(db_path):\n",
    "    sqlite_db_utils.create_db(\n",
    "        db_path = db_path,\n",
    "        table_name = table_name,\n",
    "        col_type_dict = {\n",
    "            'id': 'TEXT UNIQUE',\n",
    "            'satellite': 'TEXT',\n",
    "            'timestamp': 'TEXT',\n",
    "            's3url': 'TEXT',\n",
    "            'local_folderpath': 'TEXT',\n",
    "            'files': 'TEXT',\n",
    "            'last_update': 'TEXT',\n",
    "            'cloud_cover': 'REAL',\n",
    "            'geometry': 'TEXT',\n",
    "        },\n",
    "        id_col = 'id',\n",
    "    )"
   ]
  },
  {
   "cell_type": "code",
   "execution_count": 28,
   "metadata": {},
   "outputs": [],
   "source": [
    "for index, row in s2_satellite_catalog_gdf.iterrows():\n",
    "    sql_row = sqlite_db_utils.gpd_to_sql_row(row_dict=row)\n",
    "    sqlite_db_utils.insert_row_to_db(\n",
    "        database = db_path,\n",
    "        table = table_name,\n",
    "        data_dict = sql_row,\n",
    "    )"
   ]
  },
  {
   "cell_type": "code",
   "execution_count": 33,
   "metadata": {},
   "outputs": [
    {
     "name": "stdout",
     "output_type": "stream",
     "text": [
      "SELECT id, geometry FROM satellite \n"
     ]
    }
   ],
   "source": [
    "db_gdf = sqlite_db_utils.fetch_rows_from_db(\n",
    "    database = db_path,\n",
    "    table = table_name,\n",
    "    columns = ['id', 'geometry']\n",
    ")"
   ]
  },
  {
   "cell_type": "code",
   "execution_count": 34,
   "metadata": {},
   "outputs": [
    {
     "data": {
      "text/html": [
       "<div>\n",
       "<style scoped>\n",
       "    .dataframe tbody tr th:only-of-type {\n",
       "        vertical-align: middle;\n",
       "    }\n",
       "\n",
       "    .dataframe tbody tr th {\n",
       "        vertical-align: top;\n",
       "    }\n",
       "\n",
       "    .dataframe thead th {\n",
       "        text-align: right;\n",
       "    }\n",
       "</style>\n",
       "<table border=\"1\" class=\"dataframe\">\n",
       "  <thead>\n",
       "    <tr style=\"text-align: right;\">\n",
       "      <th></th>\n",
       "      <th>id</th>\n",
       "      <th>geometry</th>\n",
       "    </tr>\n",
       "  </thead>\n",
       "  <tbody>\n",
       "    <tr>\n",
       "      <th>0</th>\n",
       "      <td>S2A_MSIL1C_20211224T074331_N0500_R092_T37PDK_2...</td>\n",
       "      <td>MULTIPOLYGON (((38.16166 9.04578, 39.0888 9.04...</td>\n",
       "    </tr>\n",
       "    <tr>\n",
       "      <th>1</th>\n",
       "      <td>S2B_MSIL1C_20210413T073609_N0500_R092_T37PEK_2...</td>\n",
       "      <td>MULTIPOLYGON (((38.99983 9.04673, 39.99885 9.0...</td>\n",
       "    </tr>\n",
       "    <tr>\n",
       "      <th>2</th>\n",
       "      <td>S2A_MSIL1C_20211114T074151_N0500_R092_T37PDK_2...</td>\n",
       "      <td>MULTIPOLYGON (((38.16657 9.04579, 39.0888 9.04...</td>\n",
       "    </tr>\n",
       "    <tr>\n",
       "      <th>3</th>\n",
       "      <td>S2A_MSIL1C_20211204T074301_N0500_R092_T37NEJ_2...</td>\n",
       "      <td>MULTIPOLYGON (((38.99983 8.14202, 39.99648 8.1...</td>\n",
       "    </tr>\n",
       "    <tr>\n",
       "      <th>4</th>\n",
       "      <td>S2B_MSIL1C_20211129T074149_N0500_R092_T37NDJ_2...</td>\n",
       "      <td>MULTIPOLYGON (((38.09192 8.14101, 39.08859 8.1...</td>\n",
       "    </tr>\n",
       "    <tr>\n",
       "      <th>...</th>\n",
       "      <td>...</td>\n",
       "      <td>...</td>\n",
       "    </tr>\n",
       "    <tr>\n",
       "      <th>3858</th>\n",
       "      <td>S2A_MSIL1C_20191006T073801_N0500_R092_T37NDH_2...</td>\n",
       "      <td>MULTIPOLYGON (((38.09384 7.23692, 39.0884 7.23...</td>\n",
       "    </tr>\n",
       "    <tr>\n",
       "      <th>3859</th>\n",
       "      <td>S2A_MSIL1C_20190621T074621_N0500_R135_T37NBH_2...</td>\n",
       "      <td>MULTIPOLYGON (((36.28333 7.22972, 37.27716 7.2...</td>\n",
       "    </tr>\n",
       "    <tr>\n",
       "      <th>3860</th>\n",
       "      <td>S2B_MSIL1C_20191004T074749_N0500_R135_T37NCJ_2...</td>\n",
       "      <td>MULTIPOLYGON (((37.18479 8.13797, 38.16667 8.1...</td>\n",
       "    </tr>\n",
       "    <tr>\n",
       "      <th>3861</th>\n",
       "      <td>S2A_MSIL1C_20190731T074621_N0500_R135_T37NCH_2...</td>\n",
       "      <td>MULTIPOLYGON (((37.18863 7.23422, 37.95432 7.2...</td>\n",
       "    </tr>\n",
       "    <tr>\n",
       "      <th>3862</th>\n",
       "      <td>S2A_MSIL1C_20211114T074151_N0500_R092_T37NCH_2...</td>\n",
       "      <td>MULTIPOLYGON (((37.76818 7.23615, 38.18295 7.2...</td>\n",
       "    </tr>\n",
       "  </tbody>\n",
       "</table>\n",
       "<p>3863 rows × 2 columns</p>\n",
       "</div>"
      ],
      "text/plain": [
       "                                                     id  \\\n",
       "0     S2A_MSIL1C_20211224T074331_N0500_R092_T37PDK_2...   \n",
       "1     S2B_MSIL1C_20210413T073609_N0500_R092_T37PEK_2...   \n",
       "2     S2A_MSIL1C_20211114T074151_N0500_R092_T37PDK_2...   \n",
       "3     S2A_MSIL1C_20211204T074301_N0500_R092_T37NEJ_2...   \n",
       "4     S2B_MSIL1C_20211129T074149_N0500_R092_T37NDJ_2...   \n",
       "...                                                 ...   \n",
       "3858  S2A_MSIL1C_20191006T073801_N0500_R092_T37NDH_2...   \n",
       "3859  S2A_MSIL1C_20190621T074621_N0500_R135_T37NBH_2...   \n",
       "3860  S2B_MSIL1C_20191004T074749_N0500_R135_T37NCJ_2...   \n",
       "3861  S2A_MSIL1C_20190731T074621_N0500_R135_T37NCH_2...   \n",
       "3862  S2A_MSIL1C_20211114T074151_N0500_R092_T37NCH_2...   \n",
       "\n",
       "                                               geometry  \n",
       "0     MULTIPOLYGON (((38.16166 9.04578, 39.0888 9.04...  \n",
       "1     MULTIPOLYGON (((38.99983 9.04673, 39.99885 9.0...  \n",
       "2     MULTIPOLYGON (((38.16657 9.04579, 39.0888 9.04...  \n",
       "3     MULTIPOLYGON (((38.99983 8.14202, 39.99648 8.1...  \n",
       "4     MULTIPOLYGON (((38.09192 8.14101, 39.08859 8.1...  \n",
       "...                                                 ...  \n",
       "3858  MULTIPOLYGON (((38.09384 7.23692, 39.0884 7.23...  \n",
       "3859  MULTIPOLYGON (((36.28333 7.22972, 37.27716 7.2...  \n",
       "3860  MULTIPOLYGON (((37.18479 8.13797, 38.16667 8.1...  \n",
       "3861  MULTIPOLYGON (((37.18863 7.23422, 37.95432 7.2...  \n",
       "3862  MULTIPOLYGON (((37.76818 7.23615, 38.18295 7.2...  \n",
       "\n",
       "[3863 rows x 2 columns]"
      ]
     },
     "execution_count": 34,
     "metadata": {},
     "output_type": "execute_result"
    }
   ],
   "source": [
    "db_gdf"
   ]
  },
  {
   "cell_type": "code",
   "execution_count": null,
   "metadata": {},
   "outputs": [],
   "source": [
    "selected_id = s2_satellite_catalog_gdf['id'][0]\n",
    "selected_id"
   ]
  },
  {
   "cell_type": "code",
   "execution_count": null,
   "metadata": {},
   "outputs": [],
   "source": [
    "selected_id = s2_satellite_catalog_gdf['id'][0]\n",
    "selected_id"
   ]
  },
  {
   "cell_type": "code",
   "execution_count": 7,
   "metadata": {},
   "outputs": [],
   "source": [
    "satellite_filepaths = fetch_from_cluster.download_sentinel2_satellite(\n",
    "    id = selected_id,\n",
    "    sshcreds = mysecrets.SSH_UMD,\n",
    "    satellite_folderpath = config.FOLDERPATH_SATELLITE,\n",
    ")"
   ]
  },
  {
   "cell_type": "code",
   "execution_count": null,
   "metadata": {},
   "outputs": [],
   "source": [
    "satellite_filepaths"
   ]
  },
  {
   "cell_type": "code",
   "execution_count": null,
   "metadata": {},
   "outputs": [],
   "source": []
  }
 ],
 "metadata": {
  "kernelspec": {
   "display_name": ".venv",
   "language": "python",
   "name": "python3"
  },
  "language_info": {
   "codemirror_mode": {
    "name": "ipython",
    "version": 3
   },
   "file_extension": ".py",
   "mimetype": "text/x-python",
   "name": "python",
   "nbconvert_exporter": "python",
   "pygments_lexer": "ipython3",
   "version": "3.10.14"
  }
 },
 "nbformat": 4,
 "nbformat_minor": 2
}

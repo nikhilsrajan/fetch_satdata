{
 "cells": [
  {
   "cell_type": "code",
   "execution_count": 1,
   "metadata": {},
   "outputs": [],
   "source": [
    "import matplotlib.pyplot as plt\n",
    "import seaborn as sns\n",
    "import datetime\n",
    "import os"
   ]
  },
  {
   "cell_type": "code",
   "execution_count": 2,
   "metadata": {},
   "outputs": [],
   "source": [
    "import sys\n",
    "sys.path.append('..')"
   ]
  },
  {
   "cell_type": "code",
   "execution_count": 3,
   "metadata": {},
   "outputs": [
    {
     "name": "stderr",
     "output_type": "stream",
     "text": [
      "/Users/nikhilsrajan/NASA-Harvest/project/fetch_satdata/.venv/lib/python3.10/site-packages/tqdm/auto.py:21: TqdmWarning: IProgress not found. Please update jupyter and ipywidgets. See https://ipywidgets.readthedocs.io/en/stable/user_install.html\n",
      "  from .autonotebook import tqdm as notebook_tqdm\n"
     ]
    }
   ],
   "source": [
    "import mysecrets\n",
    "import config\n",
    "import fetch_from_cluster\n",
    "import catalogmanager\n",
    "import sqlite_db_utils"
   ]
  },
  {
   "cell_type": "code",
   "execution_count": 4,
   "metadata": {},
   "outputs": [],
   "source": [
    "s2_satellite_catalog_gdf = \\\n",
    "fetch_from_cluster.load_satellite_sentinel2_catalog(\n",
    "    sshcreds = mysecrets.SSH_UMD,\n",
    "    satellite_folderpath = config.FOLDERPATH_SATELLITE,\n",
    "    overwrite = True,\n",
    ")"
   ]
  },
  {
   "cell_type": "code",
   "execution_count": 5,
   "metadata": {},
   "outputs": [
    {
     "data": {
      "text/plain": [
       "(12427, 9)"
      ]
     },
     "execution_count": 5,
     "metadata": {},
     "output_type": "execute_result"
    }
   ],
   "source": [
    "s2_satellite_catalog_gdf.shape"
   ]
  },
  {
   "cell_type": "code",
   "execution_count": 6,
   "metadata": {},
   "outputs": [
    {
     "data": {
      "text/plain": [
       "Index(['id', 'satellite', 'timestamp', 's3url', 'local_folderpath', 'files',\n",
       "       'last_update', 'cloud_cover', 'geometry'],\n",
       "      dtype='object')"
      ]
     },
     "execution_count": 6,
     "metadata": {},
     "output_type": "execute_result"
    }
   ],
   "source": [
    "s2_satellite_catalog_gdf.columns"
   ]
  },
  {
   "cell_type": "code",
   "execution_count": 7,
   "metadata": {},
   "outputs": [
    {
     "data": {
      "text/plain": [
       "0       2024-08-20 13:54:40.022000+00:00\n",
       "1       2024-08-20 13:54:40.023000+00:00\n",
       "2       2024-08-20 13:54:40.025000+00:00\n",
       "3       2024-08-20 13:54:40.027000+00:00\n",
       "4       2024-08-20 13:54:40.028000+00:00\n",
       "                      ...               \n",
       "12422   2025-02-11 13:31:40.879000+00:00\n",
       "12423   2025-02-11 13:31:40.883000+00:00\n",
       "12424   2025-02-11 13:32:04.646000+00:00\n",
       "12425   2025-02-11 13:32:25.443000+00:00\n",
       "12426   2025-02-11 13:34:08.774000+00:00\n",
       "Name: last_update, Length: 12427, dtype: datetime64[ms, UTC]"
      ]
     },
     "execution_count": 7,
     "metadata": {},
     "output_type": "execute_result"
    }
   ],
   "source": [
    "s2_satellite_catalog_gdf['last_update']"
   ]
  },
  {
   "cell_type": "code",
   "execution_count": 8,
   "metadata": {},
   "outputs": [
    {
     "data": {
      "text/plain": [
       "'2024-08-20T13:54:40.022Z'"
      ]
     },
     "execution_count": 8,
     "metadata": {},
     "output_type": "execute_result"
    }
   ],
   "source": [
    "sqlite_db_utils.ts_to_str(s2_satellite_catalog_gdf['last_update'][0])"
   ]
  },
  {
   "cell_type": "code",
   "execution_count": 9,
   "metadata": {},
   "outputs": [
    {
     "data": {
      "image/png": "[encoded data removed]",
      "text/plain": [
       "<Figure size 1000x500 with 1 Axes>"
      ]
     },
     "metadata": {},
     "output_type": "display_data"
    }
   ],
   "source": [
    "scale = 5\n",
    "aspect_ratio = 2\n",
    "fig, ax = plt.subplots(figsize=(scale*aspect_ratio, scale))\n",
    "\n",
    "g = sns.histplot(\n",
    "    data = s2_satellite_catalog_gdf[\n",
    "        s2_satellite_catalog_gdf['last_update'] >= catalogmanager.dt2ts(dt=datetime.datetime(2025, 1, 1))\n",
    "    ],\n",
    "    x = 'last_update',\n",
    ")"
   ]
  },
  {
   "cell_type": "markdown",
   "metadata": {},
   "source": [
    "### geojson to db"
   ]
  },
  {
   "cell_type": "code",
   "execution_count": 10,
   "metadata": {},
   "outputs": [
    {
     "data": {
      "text/plain": [
       "'/Users/nikhilsrajan/NASA-Harvest/project/fetch_satdata/notebooks/../data/satellite/Sentinel-2/catalog.geojson'"
      ]
     },
     "execution_count": 10,
     "metadata": {},
     "output_type": "execute_result"
    }
   ],
   "source": [
    "catalog_filepath = fetch_from_cluster.remotepath_to_localpath(\n",
    "    remotepath = fetch_from_cluster.FILEPATH_SATELLITE_SENTINEL2_CATALOG,\n",
    "    remote_root_path = fetch_from_cluster.FOLDERPATH_SATELLITE,\n",
    "    local_root_path = config.FOLDERPATH_SATELLITE,\n",
    ")\n",
    "catalog_filepath"
   ]
  },
  {
   "cell_type": "code",
   "execution_count": 11,
   "metadata": {},
   "outputs": [
    {
     "data": {
      "text/plain": [
       "'/Users/nikhilsrajan/NASA-Harvest/project/fetch_satdata/notebooks/../data/satellite/Sentinel-2/catalog.db'"
      ]
     },
     "execution_count": 11,
     "metadata": {},
     "output_type": "execute_result"
    }
   ],
   "source": [
    "db_path = catalog_filepath.replace('.geojson', '.db')\n",
    "db_path"
   ]
  },
  {
   "cell_type": "code",
   "execution_count": 12,
   "metadata": {},
   "outputs": [],
   "source": [
    "col_type_dict = {\n",
    "    'id': 'TEXT UNIQUE',\n",
    "    'satellite': 'TEXT',\n",
    "    'timestamp': 'TEXT',\n",
    "    's3url': 'TEXT',\n",
    "    'local_folderpath': 'TEXT',\n",
    "    'files': 'TEXT',\n",
    "    'last_update': 'TEXT',\n",
    "    'cloud_cover': 'REAL',\n",
    "    'geometry': 'TEXT',\n",
    "}\n",
    "\n",
    "s2l2a_table = 'sentinel-2-l2a'\n",
    "s2l1c_table = 'sentinel-2-l1c'"
   ]
  },
  {
   "cell_type": "code",
   "execution_count": 13,
   "metadata": {},
   "outputs": [],
   "source": [
    "if os.path.exists(db_path):\n",
    "    os.remove(db_path)\n",
    "\n",
    "sqlite_db_utils.create_db(\n",
    "    database = db_path,\n",
    "    db_structure = {\n",
    "        s2l2a_table : col_type_dict,\n",
    "        s2l1c_table : col_type_dict, \n",
    "    },\n",
    "    id_col = 'id',\n",
    ")"
   ]
  },
  {
   "cell_type": "code",
   "execution_count": 14,
   "metadata": {},
   "outputs": [],
   "source": [
    "for table in [s2l2a_table, s2l1c_table]:\n",
    "    _rows = [\n",
    "        sqlite_db_utils.gpd_to_sql_row(row_dict=row)\n",
    "        for index, row in s2_satellite_catalog_gdf.iterrows()\n",
    "        if row['satellite'] == table\n",
    "    ]\n",
    "\n",
    "    sqlite_db_utils.insert_rows_to_db(\n",
    "        database = db_path,\n",
    "        table = table,\n",
    "        data_dicts = _rows,\n",
    "    )\n",
    "\n",
    "    del _rows"
   ]
  },
  {
   "cell_type": "code",
   "execution_count": 18,
   "metadata": {},
   "outputs": [
    {
     "data": {
      "text/html": [
       "<div>\n",
       "<style scoped>\n",
       "    .dataframe tbody tr th:only-of-type {\n",
       "        vertical-align: middle;\n",
       "    }\n",
       "\n",
       "    .dataframe tbody tr th {\n",
       "        vertical-align: top;\n",
       "    }\n",
       "\n",
       "    .dataframe thead th {\n",
       "        text-align: right;\n",
       "    }\n",
       "</style>\n",
       "<table border=\"1\" class=\"dataframe\">\n",
       "  <thead>\n",
       "    <tr style=\"text-align: right;\">\n",
       "      <th></th>\n",
       "      <th>id</th>\n",
       "      <th>satellite</th>\n",
       "      <th>timestamp</th>\n",
       "      <th>s3url</th>\n",
       "      <th>local_folderpath</th>\n",
       "      <th>files</th>\n",
       "      <th>last_update</th>\n",
       "      <th>cloud_cover</th>\n",
       "      <th>geometry</th>\n",
       "    </tr>\n",
       "  </thead>\n",
       "  <tbody>\n",
       "    <tr>\n",
       "      <th>0</th>\n",
       "      <td>S2A_MSIL2A_20200705T074621_N0500_R135_T37PBL_2...</td>\n",
       "      <td>sentinel-2-l2a</td>\n",
       "      <td>2020-07-05 08:07:30.846000+00:00</td>\n",
       "      <td>s3://EODATA/Sentinel-2/MSI/L2A_N0500/2020/07/0...</td>\n",
       "      <td>/gpfs/data1/cmongp2/sasirajann/fetch_satdata/d...</td>\n",
       "      <td>B01.jp2,B03.jp2,B07.jp2,B11.jp2,B09.jp2,SCL.jp...</td>\n",
       "      <td>2025-02-07 10:00:56.636000+00:00</td>\n",
       "      <td>84.35</td>\n",
       "      <td>MULTIPOLYGON (((36.26397 9.94021, 37.26487 9.9...</td>\n",
       "    </tr>\n",
       "    <tr>\n",
       "      <th>1</th>\n",
       "      <td>S2B_MSIL2A_20200508T073609_N0500_R092_T37NEH_2...</td>\n",
       "      <td>sentinel-2-l2a</td>\n",
       "      <td>2020-05-08 07:58:02.654000+00:00</td>\n",
       "      <td>s3://EODATA/Sentinel-2/MSI/L2A_N0500/2020/05/0...</td>\n",
       "      <td>/gpfs/data1/cmongp2/sasirajann/fetch_satdata/d...</td>\n",
       "      <td>B01.jp2,B03.jp2,B07.jp2,B11.jp2,B09.jp2,SCL.jp...</td>\n",
       "      <td>2025-02-07 10:00:56.638000+00:00</td>\n",
       "      <td>84.83</td>\n",
       "      <td>MULTIPOLYGON (((38.99983 7.23782, 39.99438 7.2...</td>\n",
       "    </tr>\n",
       "    <tr>\n",
       "      <th>2</th>\n",
       "      <td>S2A_MSIL2A_20200725T074621_N0500_R135_T37PBK_2...</td>\n",
       "      <td>sentinel-2-l2a</td>\n",
       "      <td>2020-07-25 08:07:46.165000+00:00</td>\n",
       "      <td>s3://EODATA/Sentinel-2/MSI/L2A_N0500/2020/07/2...</td>\n",
       "      <td>/gpfs/data1/cmongp2/sasirajann/fetch_satdata/d...</td>\n",
       "      <td>B01.jp2,B03.jp2,B07.jp2,B11.jp2,B09.jp2,SCL.jp...</td>\n",
       "      <td>2025-02-07 10:00:56.640000+00:00</td>\n",
       "      <td>66.04</td>\n",
       "      <td>MULTIPOLYGON (((36.27113 9.03658, 37.26941 9.0...</td>\n",
       "    </tr>\n",
       "    <tr>\n",
       "      <th>3</th>\n",
       "      <td>S2A_MSIL2A_20200722T073621_N0500_R092_T37NDJ_2...</td>\n",
       "      <td>sentinel-2-l2a</td>\n",
       "      <td>2020-07-22 07:57:58.589000+00:00</td>\n",
       "      <td>s3://EODATA/Sentinel-2/MSI/L2A_N0500/2020/07/2...</td>\n",
       "      <td>/gpfs/data1/cmongp2/sasirajann/fetch_satdata/d...</td>\n",
       "      <td>B01.jp2,B03.jp2,B07.jp2,B11.jp2,B09.jp2,SCL.jp...</td>\n",
       "      <td>2025-02-07 10:00:56.642000+00:00</td>\n",
       "      <td>96.01</td>\n",
       "      <td>MULTIPOLYGON (((38.09192 8.14101, 39.08859 8.1...</td>\n",
       "    </tr>\n",
       "    <tr>\n",
       "      <th>4</th>\n",
       "      <td>S2B_MSIL2A_20200518T073609_N0500_R092_T37PDP_2...</td>\n",
       "      <td>sentinel-2-l2a</td>\n",
       "      <td>2020-05-18 07:56:40.896000+00:00</td>\n",
       "      <td>s3://EODATA/Sentinel-2/MSI/L2A_N0500/2020/05/1...</td>\n",
       "      <td>/gpfs/data1/cmongp2/sasirajann/fetch_satdata/d...</td>\n",
       "      <td>B01.jp2,B03.jp2,B07.jp2,B11.jp2,B09.jp2,SCL.jp...</td>\n",
       "      <td>2025-02-07 10:00:56.644000+00:00</td>\n",
       "      <td>77.57</td>\n",
       "      <td>MULTIPOLYGON (((38.96927 12.66454, 39.08987 12...</td>\n",
       "    </tr>\n",
       "    <tr>\n",
       "      <th>...</th>\n",
       "      <td>...</td>\n",
       "      <td>...</td>\n",
       "      <td>...</td>\n",
       "      <td>...</td>\n",
       "      <td>...</td>\n",
       "      <td>...</td>\n",
       "      <td>...</td>\n",
       "      <td>...</td>\n",
       "      <td>...</td>\n",
       "    </tr>\n",
       "    <tr>\n",
       "      <th>8559</th>\n",
       "      <td>S2A_MSIL2A_20190704T075611_N0500_R035_T36PYR_2...</td>\n",
       "      <td>sentinel-2-l2a</td>\n",
       "      <td>2019-07-04 08:17:31.315000+00:00</td>\n",
       "      <td>s3://EODATA/Sentinel-2/MSI/L2A_N0500/2019/07/0...</td>\n",
       "      <td>/gpfs/data1/cmongp2/sasirajann/fetch_satdata/d...</td>\n",
       "      <td>MTD_TL.xml,B07.jp2,B05.jp2,B03.jp2,B08.jp2,B12...</td>\n",
       "      <td>2025-02-11 13:31:40.879000+00:00</td>\n",
       "      <td>36.79</td>\n",
       "      <td>MULTIPOLYGON (((34.82395 9.94642, 35.82478 9.9...</td>\n",
       "    </tr>\n",
       "    <tr>\n",
       "      <th>8560</th>\n",
       "      <td>S2B_MSIL2A_20220108T074209_N0510_R092_T37PDQ_2...</td>\n",
       "      <td>sentinel-2-l2a</td>\n",
       "      <td>2022-01-08 07:56:25.456000+00:00</td>\n",
       "      <td>s3://EODATA/Sentinel-2/MSI/L2A_N0500/2022/01/0...</td>\n",
       "      <td>/gpfs/data1/cmongp2/sasirajann/fetch_satdata/d...</td>\n",
       "      <td>MTD_TL.xml,B07.jp2,B05.jp2,B03.jp2,B08.jp2,B12...</td>\n",
       "      <td>2025-02-11 13:31:40.883000+00:00</td>\n",
       "      <td>1.07</td>\n",
       "      <td>MULTIPOLYGON (((39.08892 12.57556, 38.94461 12...</td>\n",
       "    </tr>\n",
       "    <tr>\n",
       "      <th>8561</th>\n",
       "      <td>S2A_MSIL2A_20190525T075611_N0500_R035_T36PXS_2...</td>\n",
       "      <td>sentinel-2-l2a</td>\n",
       "      <td>2019-05-25 08:17:18.420000+00:00</td>\n",
       "      <td>s3://EODATA/Sentinel-2/MSI/L2A_N0500/2019/05/2...</td>\n",
       "      <td>/gpfs/data1/cmongp2/sasirajann/fetch_satdata/d...</td>\n",
       "      <td>MTD_TL.xml,B07.jp2,B05.jp2,B03.jp2,B08.jp2,B12...</td>\n",
       "      <td>2025-02-11 13:32:04.646000+00:00</td>\n",
       "      <td>99.18</td>\n",
       "      <td>MULTIPOLYGON (((33.91491 10.85411, 34.91916 10...</td>\n",
       "    </tr>\n",
       "    <tr>\n",
       "      <th>8562</th>\n",
       "      <td>S2A_MSIL2A_20190405T075611_N0500_R035_T36PZR_2...</td>\n",
       "      <td>sentinel-2-l2a</td>\n",
       "      <td>2019-04-05 08:17:23.003000+00:00</td>\n",
       "      <td>s3://EODATA/Sentinel-2/MSI/L2A_N0500/2019/04/0...</td>\n",
       "      <td>/gpfs/data1/cmongp2/sasirajann/fetch_satdata/d...</td>\n",
       "      <td>MTD_TL.xml,B07.jp2,B05.jp2,B03.jp2,B08.jp2,B12...</td>\n",
       "      <td>2025-02-11 13:32:25.443000+00:00</td>\n",
       "      <td>0.28</td>\n",
       "      <td>MULTIPOLYGON (((35.73568 9.94021, 36.05835 9.9...</td>\n",
       "    </tr>\n",
       "    <tr>\n",
       "      <th>8563</th>\n",
       "      <td>S2B_MSIL2A_20190420T075619_N0500_R035_T36PZR_2...</td>\n",
       "      <td>sentinel-2-l2a</td>\n",
       "      <td>2019-04-20 08:17:28.240000+00:00</td>\n",
       "      <td>s3://EODATA/Sentinel-2/MSI/L2A_N0500/2019/04/2...</td>\n",
       "      <td>/gpfs/data1/cmongp2/sasirajann/fetch_satdata/d...</td>\n",
       "      <td>MTD_TL.xml,B07.jp2,B05.jp2,B03.jp2,B08.jp2,B12...</td>\n",
       "      <td>2025-02-11 13:34:08.774000+00:00</td>\n",
       "      <td>0.93</td>\n",
       "      <td>MULTIPOLYGON (((35.73568 9.94021, 36.05125 9.9...</td>\n",
       "    </tr>\n",
       "  </tbody>\n",
       "</table>\n",
       "<p>8564 rows × 9 columns</p>\n",
       "</div>"
      ],
      "text/plain": [
       "                                                     id       satellite  \\\n",
       "0     S2A_MSIL2A_20200705T074621_N0500_R135_T37PBL_2...  sentinel-2-l2a   \n",
       "1     S2B_MSIL2A_20200508T073609_N0500_R092_T37NEH_2...  sentinel-2-l2a   \n",
       "2     S2A_MSIL2A_20200725T074621_N0500_R135_T37PBK_2...  sentinel-2-l2a   \n",
       "3     S2A_MSIL2A_20200722T073621_N0500_R092_T37NDJ_2...  sentinel-2-l2a   \n",
       "4     S2B_MSIL2A_20200518T073609_N0500_R092_T37PDP_2...  sentinel-2-l2a   \n",
       "...                                                 ...             ...   \n",
       "8559  S2A_MSIL2A_20190704T075611_N0500_R035_T36PYR_2...  sentinel-2-l2a   \n",
       "8560  S2B_MSIL2A_20220108T074209_N0510_R092_T37PDQ_2...  sentinel-2-l2a   \n",
       "8561  S2A_MSIL2A_20190525T075611_N0500_R035_T36PXS_2...  sentinel-2-l2a   \n",
       "8562  S2A_MSIL2A_20190405T075611_N0500_R035_T36PZR_2...  sentinel-2-l2a   \n",
       "8563  S2B_MSIL2A_20190420T075619_N0500_R035_T36PZR_2...  sentinel-2-l2a   \n",
       "\n",
       "                            timestamp  \\\n",
       "0    2020-07-05 08:07:30.846000+00:00   \n",
       "1    2020-05-08 07:58:02.654000+00:00   \n",
       "2    2020-07-25 08:07:46.165000+00:00   \n",
       "3    2020-07-22 07:57:58.589000+00:00   \n",
       "4    2020-05-18 07:56:40.896000+00:00   \n",
       "...                               ...   \n",
       "8559 2019-07-04 08:17:31.315000+00:00   \n",
       "8560 2022-01-08 07:56:25.456000+00:00   \n",
       "8561 2019-05-25 08:17:18.420000+00:00   \n",
       "8562 2019-04-05 08:17:23.003000+00:00   \n",
       "8563 2019-04-20 08:17:28.240000+00:00   \n",
       "\n",
       "                                                  s3url  \\\n",
       "0     s3://EODATA/Sentinel-2/MSI/L2A_N0500/2020/07/0...   \n",
       "1     s3://EODATA/Sentinel-2/MSI/L2A_N0500/2020/05/0...   \n",
       "2     s3://EODATA/Sentinel-2/MSI/L2A_N0500/2020/07/2...   \n",
       "3     s3://EODATA/Sentinel-2/MSI/L2A_N0500/2020/07/2...   \n",
       "4     s3://EODATA/Sentinel-2/MSI/L2A_N0500/2020/05/1...   \n",
       "...                                                 ...   \n",
       "8559  s3://EODATA/Sentinel-2/MSI/L2A_N0500/2019/07/0...   \n",
       "8560  s3://EODATA/Sentinel-2/MSI/L2A_N0500/2022/01/0...   \n",
       "8561  s3://EODATA/Sentinel-2/MSI/L2A_N0500/2019/05/2...   \n",
       "8562  s3://EODATA/Sentinel-2/MSI/L2A_N0500/2019/04/0...   \n",
       "8563  s3://EODATA/Sentinel-2/MSI/L2A_N0500/2019/04/2...   \n",
       "\n",
       "                                       local_folderpath  \\\n",
       "0     /gpfs/data1/cmongp2/sasirajann/fetch_satdata/d...   \n",
       "1     /gpfs/data1/cmongp2/sasirajann/fetch_satdata/d...   \n",
       "2     /gpfs/data1/cmongp2/sasirajann/fetch_satdata/d...   \n",
       "3     /gpfs/data1/cmongp2/sasirajann/fetch_satdata/d...   \n",
       "4     /gpfs/data1/cmongp2/sasirajann/fetch_satdata/d...   \n",
       "...                                                 ...   \n",
       "8559  /gpfs/data1/cmongp2/sasirajann/fetch_satdata/d...   \n",
       "8560  /gpfs/data1/cmongp2/sasirajann/fetch_satdata/d...   \n",
       "8561  /gpfs/data1/cmongp2/sasirajann/fetch_satdata/d...   \n",
       "8562  /gpfs/data1/cmongp2/sasirajann/fetch_satdata/d...   \n",
       "8563  /gpfs/data1/cmongp2/sasirajann/fetch_satdata/d...   \n",
       "\n",
       "                                                  files  \\\n",
       "0     B01.jp2,B03.jp2,B07.jp2,B11.jp2,B09.jp2,SCL.jp...   \n",
       "1     B01.jp2,B03.jp2,B07.jp2,B11.jp2,B09.jp2,SCL.jp...   \n",
       "2     B01.jp2,B03.jp2,B07.jp2,B11.jp2,B09.jp2,SCL.jp...   \n",
       "3     B01.jp2,B03.jp2,B07.jp2,B11.jp2,B09.jp2,SCL.jp...   \n",
       "4     B01.jp2,B03.jp2,B07.jp2,B11.jp2,B09.jp2,SCL.jp...   \n",
       "...                                                 ...   \n",
       "8559  MTD_TL.xml,B07.jp2,B05.jp2,B03.jp2,B08.jp2,B12...   \n",
       "8560  MTD_TL.xml,B07.jp2,B05.jp2,B03.jp2,B08.jp2,B12...   \n",
       "8561  MTD_TL.xml,B07.jp2,B05.jp2,B03.jp2,B08.jp2,B12...   \n",
       "8562  MTD_TL.xml,B07.jp2,B05.jp2,B03.jp2,B08.jp2,B12...   \n",
       "8563  MTD_TL.xml,B07.jp2,B05.jp2,B03.jp2,B08.jp2,B12...   \n",
       "\n",
       "                          last_update  cloud_cover  \\\n",
       "0    2025-02-07 10:00:56.636000+00:00        84.35   \n",
       "1    2025-02-07 10:00:56.638000+00:00        84.83   \n",
       "2    2025-02-07 10:00:56.640000+00:00        66.04   \n",
       "3    2025-02-07 10:00:56.642000+00:00        96.01   \n",
       "4    2025-02-07 10:00:56.644000+00:00        77.57   \n",
       "...                               ...          ...   \n",
       "8559 2025-02-11 13:31:40.879000+00:00        36.79   \n",
       "8560 2025-02-11 13:31:40.883000+00:00         1.07   \n",
       "8561 2025-02-11 13:32:04.646000+00:00        99.18   \n",
       "8562 2025-02-11 13:32:25.443000+00:00         0.28   \n",
       "8563 2025-02-11 13:34:08.774000+00:00         0.93   \n",
       "\n",
       "                                               geometry  \n",
       "0     MULTIPOLYGON (((36.26397 9.94021, 37.26487 9.9...  \n",
       "1     MULTIPOLYGON (((38.99983 7.23782, 39.99438 7.2...  \n",
       "2     MULTIPOLYGON (((36.27113 9.03658, 37.26941 9.0...  \n",
       "3     MULTIPOLYGON (((38.09192 8.14101, 39.08859 8.1...  \n",
       "4     MULTIPOLYGON (((38.96927 12.66454, 39.08987 12...  \n",
       "...                                                 ...  \n",
       "8559  MULTIPOLYGON (((34.82395 9.94642, 35.82478 9.9...  \n",
       "8560  MULTIPOLYGON (((39.08892 12.57556, 38.94461 12...  \n",
       "8561  MULTIPOLYGON (((33.91491 10.85411, 34.91916 10...  \n",
       "8562  MULTIPOLYGON (((35.73568 9.94021, 36.05835 9.9...  \n",
       "8563  MULTIPOLYGON (((35.73568 9.94021, 36.05125 9.9...  \n",
       "\n",
       "[8564 rows x 9 columns]"
      ]
     },
     "execution_count": 18,
     "metadata": {},
     "output_type": "execute_result"
    }
   ],
   "source": [
    "sqlite_db_utils.fetch_rows_from_db(\n",
    "    database = db_path,\n",
    "    table = s2l2a_table,\n",
    ")"
   ]
  },
  {
   "cell_type": "code",
   "execution_count": 17,
   "metadata": {},
   "outputs": [
    {
     "data": {
      "text/html": [
       "<div>\n",
       "<style scoped>\n",
       "    .dataframe tbody tr th:only-of-type {\n",
       "        vertical-align: middle;\n",
       "    }\n",
       "\n",
       "    .dataframe tbody tr th {\n",
       "        vertical-align: top;\n",
       "    }\n",
       "\n",
       "    .dataframe thead th {\n",
       "        text-align: right;\n",
       "    }\n",
       "</style>\n",
       "<table border=\"1\" class=\"dataframe\">\n",
       "  <thead>\n",
       "    <tr style=\"text-align: right;\">\n",
       "      <th></th>\n",
       "      <th>id</th>\n",
       "      <th>satellite</th>\n",
       "      <th>timestamp</th>\n",
       "      <th>s3url</th>\n",
       "      <th>local_folderpath</th>\n",
       "      <th>files</th>\n",
       "      <th>last_update</th>\n",
       "      <th>cloud_cover</th>\n",
       "      <th>geometry</th>\n",
       "    </tr>\n",
       "  </thead>\n",
       "  <tbody>\n",
       "    <tr>\n",
       "      <th>0</th>\n",
       "      <td>S2A_MSIL1C_20211224T074331_N0500_R092_T37PDK_2...</td>\n",
       "      <td>sentinel-2-l1c</td>\n",
       "      <td>2021-12-24 07:57:40.190000+00:00</td>\n",
       "      <td>s3://EODATA/Sentinel-2/MSI/L1C_N0500/2021/12/2...</td>\n",
       "      <td>/gpfs/data1/cmongp2/sasirajann/fetch_satdata/d...</td>\n",
       "      <td>B10.jp2,B09.jp2,B04.jp2,B8A.jp2,B05.jp2,B01.jp...</td>\n",
       "      <td>2024-08-20 13:54:40.022000+00:00</td>\n",
       "      <td>6.12</td>\n",
       "      <td>MULTIPOLYGON (((38.16166 9.04578, 39.0888 9.04...</td>\n",
       "    </tr>\n",
       "    <tr>\n",
       "      <th>1</th>\n",
       "      <td>S2B_MSIL1C_20210413T073609_N0500_R092_T37PEK_2...</td>\n",
       "      <td>sentinel-2-l1c</td>\n",
       "      <td>2021-04-13 07:57:32.025000+00:00</td>\n",
       "      <td>s3://EODATA/Sentinel-2/MSI/L1C_N0500/2021/04/1...</td>\n",
       "      <td>/gpfs/data1/cmongp2/sasirajann/fetch_satdata/d...</td>\n",
       "      <td>B10.jp2,B09.jp2,B04.jp2,B8A.jp2,B05.jp2,B01.jp...</td>\n",
       "      <td>2024-08-20 13:54:40.023000+00:00</td>\n",
       "      <td>18.33</td>\n",
       "      <td>MULTIPOLYGON (((38.99983 9.04673, 39.99885 9.0...</td>\n",
       "    </tr>\n",
       "    <tr>\n",
       "      <th>2</th>\n",
       "      <td>S2A_MSIL1C_20211114T074151_N0500_R092_T37PDK_2...</td>\n",
       "      <td>sentinel-2-l1c</td>\n",
       "      <td>2021-11-14 07:57:40.238000+00:00</td>\n",
       "      <td>s3://EODATA/Sentinel-2/MSI/L1C_N0500/2021/11/1...</td>\n",
       "      <td>/gpfs/data1/cmongp2/sasirajann/fetch_satdata/d...</td>\n",
       "      <td>B10.jp2,B09.jp2,B04.jp2,B8A.jp2,B05.jp2,B01.jp...</td>\n",
       "      <td>2024-08-20 13:54:40.025000+00:00</td>\n",
       "      <td>7.87</td>\n",
       "      <td>MULTIPOLYGON (((38.16657 9.04579, 39.0888 9.04...</td>\n",
       "    </tr>\n",
       "    <tr>\n",
       "      <th>3</th>\n",
       "      <td>S2A_MSIL1C_20211204T074301_N0500_R092_T37NEJ_2...</td>\n",
       "      <td>sentinel-2-l1c</td>\n",
       "      <td>2021-12-04 07:57:49.492000+00:00</td>\n",
       "      <td>s3://EODATA/Sentinel-2/MSI/L1C_N0500/2021/12/0...</td>\n",
       "      <td>/gpfs/data1/cmongp2/sasirajann/fetch_satdata/d...</td>\n",
       "      <td>B10.jp2,B09.jp2,B04.jp2,B8A.jp2,B05.jp2,B01.jp...</td>\n",
       "      <td>2024-08-20 13:54:40.027000+00:00</td>\n",
       "      <td>0.14</td>\n",
       "      <td>MULTIPOLYGON (((38.99983 8.14202, 39.99648 8.1...</td>\n",
       "    </tr>\n",
       "    <tr>\n",
       "      <th>4</th>\n",
       "      <td>S2B_MSIL1C_20211129T074149_N0500_R092_T37NDJ_2...</td>\n",
       "      <td>sentinel-2-l1c</td>\n",
       "      <td>2021-11-29 07:57:48.816000+00:00</td>\n",
       "      <td>s3://EODATA/Sentinel-2/MSI/L1C_N0500/2021/11/2...</td>\n",
       "      <td>/gpfs/data1/cmongp2/sasirajann/fetch_satdata/d...</td>\n",
       "      <td>B10.jp2,B09.jp2,B04.jp2,B8A.jp2,B05.jp2,B01.jp...</td>\n",
       "      <td>2024-08-20 13:54:40.028000+00:00</td>\n",
       "      <td>4.87</td>\n",
       "      <td>MULTIPOLYGON (((38.09192 8.14101, 39.08859 8.1...</td>\n",
       "    </tr>\n",
       "    <tr>\n",
       "      <th>...</th>\n",
       "      <td>...</td>\n",
       "      <td>...</td>\n",
       "      <td>...</td>\n",
       "      <td>...</td>\n",
       "      <td>...</td>\n",
       "      <td>...</td>\n",
       "      <td>...</td>\n",
       "      <td>...</td>\n",
       "      <td>...</td>\n",
       "    </tr>\n",
       "    <tr>\n",
       "      <th>3858</th>\n",
       "      <td>S2A_MSIL1C_20191006T073801_N0500_R092_T37NDH_2...</td>\n",
       "      <td>sentinel-2-l1c</td>\n",
       "      <td>2019-10-06 07:58:10.246000+00:00</td>\n",
       "      <td>s3://EODATA/Sentinel-2/MSI/L1C_N0500/2019/10/0...</td>\n",
       "      <td>/gpfs/data1/cmongp2/sasirajann/fetch_satdata/d...</td>\n",
       "      <td>B09.jp2,B06.jp2,MTD_TL.xml,B03.jp2,B04.jp2,B01...</td>\n",
       "      <td>2025-01-27 13:46:11.388000+00:00</td>\n",
       "      <td>62.39</td>\n",
       "      <td>MULTIPOLYGON (((38.09384 7.23692, 39.0884 7.23...</td>\n",
       "    </tr>\n",
       "    <tr>\n",
       "      <th>3859</th>\n",
       "      <td>S2A_MSIL1C_20190621T074621_N0500_R135_T37NBH_2...</td>\n",
       "      <td>sentinel-2-l1c</td>\n",
       "      <td>2019-06-21 08:08:13.611000+00:00</td>\n",
       "      <td>s3://EODATA/Sentinel-2/MSI/L1C_N0500/2019/06/2...</td>\n",
       "      <td>/gpfs/data1/cmongp2/sasirajann/fetch_satdata/d...</td>\n",
       "      <td>B09.jp2,B06.jp2,MTD_TL.xml,B03.jp2,B04.jp2,B01...</td>\n",
       "      <td>2025-01-27 13:46:59.394000+00:00</td>\n",
       "      <td>32.83</td>\n",
       "      <td>MULTIPOLYGON (((36.28333 7.22972, 37.27716 7.2...</td>\n",
       "    </tr>\n",
       "    <tr>\n",
       "      <th>3860</th>\n",
       "      <td>S2B_MSIL1C_20191004T074749_N0500_R135_T37NCJ_2...</td>\n",
       "      <td>sentinel-2-l1c</td>\n",
       "      <td>2019-10-04 08:07:52.217000+00:00</td>\n",
       "      <td>s3://EODATA/Sentinel-2/MSI/L1C_N0500/2019/10/0...</td>\n",
       "      <td>/gpfs/data1/cmongp2/sasirajann/fetch_satdata/d...</td>\n",
       "      <td>B09.jp2,B06.jp2,MTD_TL.xml,B03.jp2,B04.jp2,B01...</td>\n",
       "      <td>2025-01-27 13:46:59.396000+00:00</td>\n",
       "      <td>64.33</td>\n",
       "      <td>MULTIPOLYGON (((37.18479 8.13797, 38.16667 8.1...</td>\n",
       "    </tr>\n",
       "    <tr>\n",
       "      <th>3861</th>\n",
       "      <td>S2A_MSIL1C_20190731T074621_N0500_R135_T37NCH_2...</td>\n",
       "      <td>sentinel-2-l1c</td>\n",
       "      <td>2019-07-31 08:08:10.699000+00:00</td>\n",
       "      <td>s3://EODATA/Sentinel-2/MSI/L1C_N0500/2019/07/3...</td>\n",
       "      <td>/gpfs/data1/cmongp2/sasirajann/fetch_satdata/d...</td>\n",
       "      <td>B09.jp2,B06.jp2,MTD_TL.xml,B03.jp2,B04.jp2,B01...</td>\n",
       "      <td>2025-01-27 13:46:59.399000+00:00</td>\n",
       "      <td>99.69</td>\n",
       "      <td>MULTIPOLYGON (((37.18863 7.23422, 37.95432 7.2...</td>\n",
       "    </tr>\n",
       "    <tr>\n",
       "      <th>3862</th>\n",
       "      <td>S2A_MSIL1C_20211114T074151_N0500_R092_T37NCH_2...</td>\n",
       "      <td>sentinel-2-l1c</td>\n",
       "      <td>2021-11-14 07:58:12.164000+00:00</td>\n",
       "      <td>s3://EODATA/Sentinel-2/MSI/L1C_N0500/2021/11/1...</td>\n",
       "      <td>/gpfs/data1/cmongp2/sasirajann/fetch_satdata/d...</td>\n",
       "      <td>B09.jp2,B06.jp2,MTD_TL.xml,B03.jp2,B04.jp2,B01...</td>\n",
       "      <td>2025-01-27 13:46:59.401000+00:00</td>\n",
       "      <td>1.81</td>\n",
       "      <td>MULTIPOLYGON (((37.76818 7.23615, 38.18295 7.2...</td>\n",
       "    </tr>\n",
       "  </tbody>\n",
       "</table>\n",
       "<p>3863 rows × 9 columns</p>\n",
       "</div>"
      ],
      "text/plain": [
       "                                                     id       satellite  \\\n",
       "0     S2A_MSIL1C_20211224T074331_N0500_R092_T37PDK_2...  sentinel-2-l1c   \n",
       "1     S2B_MSIL1C_20210413T073609_N0500_R092_T37PEK_2...  sentinel-2-l1c   \n",
       "2     S2A_MSIL1C_20211114T074151_N0500_R092_T37PDK_2...  sentinel-2-l1c   \n",
       "3     S2A_MSIL1C_20211204T074301_N0500_R092_T37NEJ_2...  sentinel-2-l1c   \n",
       "4     S2B_MSIL1C_20211129T074149_N0500_R092_T37NDJ_2...  sentinel-2-l1c   \n",
       "...                                                 ...             ...   \n",
       "3858  S2A_MSIL1C_20191006T073801_N0500_R092_T37NDH_2...  sentinel-2-l1c   \n",
       "3859  S2A_MSIL1C_20190621T074621_N0500_R135_T37NBH_2...  sentinel-2-l1c   \n",
       "3860  S2B_MSIL1C_20191004T074749_N0500_R135_T37NCJ_2...  sentinel-2-l1c   \n",
       "3861  S2A_MSIL1C_20190731T074621_N0500_R135_T37NCH_2...  sentinel-2-l1c   \n",
       "3862  S2A_MSIL1C_20211114T074151_N0500_R092_T37NCH_2...  sentinel-2-l1c   \n",
       "\n",
       "                            timestamp  \\\n",
       "0    2021-12-24 07:57:40.190000+00:00   \n",
       "1    2021-04-13 07:57:32.025000+00:00   \n",
       "2    2021-11-14 07:57:40.238000+00:00   \n",
       "3    2021-12-04 07:57:49.492000+00:00   \n",
       "4    2021-11-29 07:57:48.816000+00:00   \n",
       "...                               ...   \n",
       "3858 2019-10-06 07:58:10.246000+00:00   \n",
       "3859 2019-06-21 08:08:13.611000+00:00   \n",
       "3860 2019-10-04 08:07:52.217000+00:00   \n",
       "3861 2019-07-31 08:08:10.699000+00:00   \n",
       "3862 2021-11-14 07:58:12.164000+00:00   \n",
       "\n",
       "                                                  s3url  \\\n",
       "0     s3://EODATA/Sentinel-2/MSI/L1C_N0500/2021/12/2...   \n",
       "1     s3://EODATA/Sentinel-2/MSI/L1C_N0500/2021/04/1...   \n",
       "2     s3://EODATA/Sentinel-2/MSI/L1C_N0500/2021/11/1...   \n",
       "3     s3://EODATA/Sentinel-2/MSI/L1C_N0500/2021/12/0...   \n",
       "4     s3://EODATA/Sentinel-2/MSI/L1C_N0500/2021/11/2...   \n",
       "...                                                 ...   \n",
       "3858  s3://EODATA/Sentinel-2/MSI/L1C_N0500/2019/10/0...   \n",
       "3859  s3://EODATA/Sentinel-2/MSI/L1C_N0500/2019/06/2...   \n",
       "3860  s3://EODATA/Sentinel-2/MSI/L1C_N0500/2019/10/0...   \n",
       "3861  s3://EODATA/Sentinel-2/MSI/L1C_N0500/2019/07/3...   \n",
       "3862  s3://EODATA/Sentinel-2/MSI/L1C_N0500/2021/11/1...   \n",
       "\n",
       "                                       local_folderpath  \\\n",
       "0     /gpfs/data1/cmongp2/sasirajann/fetch_satdata/d...   \n",
       "1     /gpfs/data1/cmongp2/sasirajann/fetch_satdata/d...   \n",
       "2     /gpfs/data1/cmongp2/sasirajann/fetch_satdata/d...   \n",
       "3     /gpfs/data1/cmongp2/sasirajann/fetch_satdata/d...   \n",
       "4     /gpfs/data1/cmongp2/sasirajann/fetch_satdata/d...   \n",
       "...                                                 ...   \n",
       "3858  /gpfs/data1/cmongp2/sasirajann/fetch_satdata/d...   \n",
       "3859  /gpfs/data1/cmongp2/sasirajann/fetch_satdata/d...   \n",
       "3860  /gpfs/data1/cmongp2/sasirajann/fetch_satdata/d...   \n",
       "3861  /gpfs/data1/cmongp2/sasirajann/fetch_satdata/d...   \n",
       "3862  /gpfs/data1/cmongp2/sasirajann/fetch_satdata/d...   \n",
       "\n",
       "                                                  files  \\\n",
       "0     B10.jp2,B09.jp2,B04.jp2,B8A.jp2,B05.jp2,B01.jp...   \n",
       "1     B10.jp2,B09.jp2,B04.jp2,B8A.jp2,B05.jp2,B01.jp...   \n",
       "2     B10.jp2,B09.jp2,B04.jp2,B8A.jp2,B05.jp2,B01.jp...   \n",
       "3     B10.jp2,B09.jp2,B04.jp2,B8A.jp2,B05.jp2,B01.jp...   \n",
       "4     B10.jp2,B09.jp2,B04.jp2,B8A.jp2,B05.jp2,B01.jp...   \n",
       "...                                                 ...   \n",
       "3858  B09.jp2,B06.jp2,MTD_TL.xml,B03.jp2,B04.jp2,B01...   \n",
       "3859  B09.jp2,B06.jp2,MTD_TL.xml,B03.jp2,B04.jp2,B01...   \n",
       "3860  B09.jp2,B06.jp2,MTD_TL.xml,B03.jp2,B04.jp2,B01...   \n",
       "3861  B09.jp2,B06.jp2,MTD_TL.xml,B03.jp2,B04.jp2,B01...   \n",
       "3862  B09.jp2,B06.jp2,MTD_TL.xml,B03.jp2,B04.jp2,B01...   \n",
       "\n",
       "                          last_update  cloud_cover  \\\n",
       "0    2024-08-20 13:54:40.022000+00:00         6.12   \n",
       "1    2024-08-20 13:54:40.023000+00:00        18.33   \n",
       "2    2024-08-20 13:54:40.025000+00:00         7.87   \n",
       "3    2024-08-20 13:54:40.027000+00:00         0.14   \n",
       "4    2024-08-20 13:54:40.028000+00:00         4.87   \n",
       "...                               ...          ...   \n",
       "3858 2025-01-27 13:46:11.388000+00:00        62.39   \n",
       "3859 2025-01-27 13:46:59.394000+00:00        32.83   \n",
       "3860 2025-01-27 13:46:59.396000+00:00        64.33   \n",
       "3861 2025-01-27 13:46:59.399000+00:00        99.69   \n",
       "3862 2025-01-27 13:46:59.401000+00:00         1.81   \n",
       "\n",
       "                                               geometry  \n",
       "0     MULTIPOLYGON (((38.16166 9.04578, 39.0888 9.04...  \n",
       "1     MULTIPOLYGON (((38.99983 9.04673, 39.99885 9.0...  \n",
       "2     MULTIPOLYGON (((38.16657 9.04579, 39.0888 9.04...  \n",
       "3     MULTIPOLYGON (((38.99983 8.14202, 39.99648 8.1...  \n",
       "4     MULTIPOLYGON (((38.09192 8.14101, 39.08859 8.1...  \n",
       "...                                                 ...  \n",
       "3858  MULTIPOLYGON (((38.09384 7.23692, 39.0884 7.23...  \n",
       "3859  MULTIPOLYGON (((36.28333 7.22972, 37.27716 7.2...  \n",
       "3860  MULTIPOLYGON (((37.18479 8.13797, 38.16667 8.1...  \n",
       "3861  MULTIPOLYGON (((37.18863 7.23422, 37.95432 7.2...  \n",
       "3862  MULTIPOLYGON (((37.76818 7.23615, 38.18295 7.2...  \n",
       "\n",
       "[3863 rows x 9 columns]"
      ]
     },
     "execution_count": 17,
     "metadata": {},
     "output_type": "execute_result"
    }
   ],
   "source": [
    "sqlite_db_utils.fetch_rows_from_db(\n",
    "    database = db_path,\n",
    "    table = s2l1c_table,\n",
    ")"
   ]
  },
  {
   "cell_type": "code",
   "execution_count": 15,
   "metadata": {},
   "outputs": [],
   "source": [
    "db_gdf = sqlite_db_utils.fetch_rows_from_db(\n",
    "    database = db_path,\n",
    "    table = s2l1c_table,\n",
    "    # columns = ['id', 'geometry']\n",
    ")"
   ]
  },
  {
   "cell_type": "code",
   "execution_count": 16,
   "metadata": {},
   "outputs": [
    {
     "data": {
      "text/plain": [
       "satellite\n",
       "sentinel-2-l1c    3863\n",
       "Name: count, dtype: int64"
      ]
     },
     "execution_count": 16,
     "metadata": {},
     "output_type": "execute_result"
    }
   ],
   "source": [
    "db_gdf['satellite'].value_counts()"
   ]
  },
  {
   "cell_type": "code",
   "execution_count": null,
   "metadata": {},
   "outputs": [],
   "source": [
    "selected_id = s2_satellite_catalog_gdf['id'][0]\n",
    "selected_id"
   ]
  },
  {
   "cell_type": "code",
   "execution_count": null,
   "metadata": {},
   "outputs": [],
   "source": [
    "selected_id = s2_satellite_catalog_gdf['id'][0]\n",
    "selected_id"
   ]
  },
  {
   "cell_type": "code",
   "execution_count": null,
   "metadata": {},
   "outputs": [],
   "source": [
    "satellite_filepaths = fetch_from_cluster.download_sentinel2_satellite(\n",
    "    id = selected_id,\n",
    "    sshcreds = mysecrets.SSH_UMD,\n",
    "    satellite_folderpath = config.FOLDERPATH_SATELLITE,\n",
    ")"
   ]
  },
  {
   "cell_type": "code",
   "execution_count": null,
   "metadata": {},
   "outputs": [],
   "source": [
    "satellite_filepaths"
   ]
  }
 ],
 "metadata": {
  "kernelspec": {
   "display_name": ".venv",
   "language": "python",
   "name": "python3"
  },
  "language_info": {
   "codemirror_mode": {
    "name": "ipython",
    "version": 3
   },
   "file_extension": ".py",
   "mimetype": "text/x-python",
   "name": "python",
   "nbconvert_exporter": "python",
   "pygments_lexer": "ipython3",
   "version": "3.10.14"
  }
 },
 "nbformat": 4,
 "nbformat_minor": 2
}

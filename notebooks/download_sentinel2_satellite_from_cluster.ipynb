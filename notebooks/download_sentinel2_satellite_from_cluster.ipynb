{
 "cells": [
  {
   "cell_type": "code",
   "execution_count": null,
   "metadata": {},
   "outputs": [],
   "source": [
    "import matplotlib.pyplot as plt\n",
    "import seaborn as sns\n",
    "import datetime\n",
    "import os"
   ]
  },
  {
   "cell_type": "code",
   "execution_count": null,
   "metadata": {},
   "outputs": [],
   "source": [
    "import sys\n",
    "sys.path.append('..')"
   ]
  },
  {
   "cell_type": "code",
   "execution_count": null,
   "metadata": {},
   "outputs": [],
   "source": [
    "import mysecrets\n",
    "import config\n",
    "import fetch_from_cluster\n",
    "import catalogmanager\n",
    "import sqlite_db_utils"
   ]
  },
  {
   "cell_type": "code",
   "execution_count": null,
   "metadata": {},
   "outputs": [],
   "source": [
    "s2_satellite_catalog_gdf = \\\n",
    "fetch_from_cluster.load_satellite_sentinel2_catalog(\n",
    "    sshcreds = mysecrets.SSH_UMD,\n",
    "    satellite_folderpath = config.FOLDERPATH_SATELLITE,\n",
    "    overwrite = True,\n",
    ")"
   ]
  },
  {
   "cell_type": "code",
   "execution_count": null,
   "metadata": {},
   "outputs": [],
   "source": [
    "s2_satellite_catalog_gdf.shape"
   ]
  },
  {
   "cell_type": "code",
   "execution_count": null,
   "metadata": {},
   "outputs": [],
   "source": [
    "s2_satellite_catalog_gdf.columns"
   ]
  },
  {
   "cell_type": "code",
   "execution_count": null,
   "metadata": {},
   "outputs": [],
   "source": [
    "s2_satellite_catalog_gdf['last_update']"
   ]
  },
  {
   "cell_type": "code",
   "execution_count": null,
   "metadata": {},
   "outputs": [],
   "source": [
    "sqlite_db_utils.ts_to_str(s2_satellite_catalog_gdf['last_update'][0])"
   ]
  },
  {
   "cell_type": "code",
   "execution_count": null,
   "metadata": {},
   "outputs": [],
   "source": [
    "scale = 5\n",
    "aspect_ratio = 2\n",
    "fig, ax = plt.subplots(figsize=(scale*aspect_ratio, scale))\n",
    "\n",
    "g = sns.histplot(\n",
    "    data = s2_satellite_catalog_gdf[\n",
    "        s2_satellite_catalog_gdf['last_update'] >= catalogmanager.dt2ts(dt=datetime.datetime(2025, 2, 1))\n",
    "    ],\n",
    "    x = 'last_update',\n",
    "    bins = 100,\n",
    ")"
   ]
  },
  {
   "cell_type": "markdown",
   "metadata": {},
   "source": [
    "### geojson to db"
   ]
  },
  {
   "cell_type": "code",
   "execution_count": null,
   "metadata": {},
   "outputs": [],
   "source": [
    "catalog_filepath = fetch_from_cluster.remotepath_to_localpath(\n",
    "    remotepath = fetch_from_cluster.FILEPATH_SATELLITE_SENTINEL2_CATALOG,\n",
    "    remote_root_path = fetch_from_cluster.FOLDERPATH_SATELLITE,\n",
    "    local_root_path = config.FOLDERPATH_SATELLITE,\n",
    ")\n",
    "catalog_filepath"
   ]
  },
  {
   "cell_type": "code",
   "execution_count": null,
   "metadata": {},
   "outputs": [],
   "source": [
    "db_path = catalog_filepath.replace('.geojson', '.db')\n",
    "db_path"
   ]
  },
  {
   "cell_type": "code",
   "execution_count": null,
   "metadata": {},
   "outputs": [],
   "source": [
    "col_type_dict = {\n",
    "    'id': 'TEXT UNIQUE',\n",
    "    'satellite': 'TEXT',\n",
    "    'timestamp': 'TEXT',\n",
    "    's3url': 'TEXT',\n",
    "    'local_folderpath': 'TEXT',\n",
    "    'files': 'TEXT',\n",
    "    'last_update': 'TEXT',\n",
    "    'cloud_cover': 'REAL',\n",
    "    'geometry': 'TEXT',\n",
    "}\n",
    "\n",
    "s2l2a_table = 'sentinel-2-l2a'\n",
    "s2l1c_table = 'sentinel-2-l1c'"
   ]
  },
  {
   "cell_type": "code",
   "execution_count": null,
   "metadata": {},
   "outputs": [],
   "source": [
    "if os.path.exists(db_path):\n",
    "    os.remove(db_path)\n",
    "\n",
    "sqlite_db_utils.create_db(\n",
    "    database = db_path,\n",
    "    db_structure = {\n",
    "        s2l2a_table : col_type_dict,\n",
    "        s2l1c_table : col_type_dict, \n",
    "    },\n",
    "    id_col = 'id',\n",
    ")"
   ]
  },
  {
   "cell_type": "code",
   "execution_count": null,
   "metadata": {},
   "outputs": [],
   "source": [
    "for table in [s2l2a_table, s2l1c_table]:\n",
    "    _rows = [\n",
    "        sqlite_db_utils.gpd_to_sql_row(row_dict=row)\n",
    "        for index, row in s2_satellite_catalog_gdf.iterrows()\n",
    "        if row['satellite'] == table\n",
    "    ]\n",
    "\n",
    "    sqlite_db_utils.insert_rows_to_db(\n",
    "        database = db_path,\n",
    "        table = table,\n",
    "        data_dicts = _rows,\n",
    "    )\n",
    "\n",
    "    del _rows"
   ]
  },
  {
   "cell_type": "code",
   "execution_count": null,
   "metadata": {},
   "outputs": [],
   "source": [
    "s2l2a_df = sqlite_db_utils.fetch_rows_from_db(\n",
    "    database = db_path,\n",
    "    table = s2l2a_table,\n",
    ")\n",
    "s2l2a_df"
   ]
  },
  {
   "cell_type": "code",
   "execution_count": null,
   "metadata": {},
   "outputs": [],
   "source": [
    "import numpy as np"
   ]
  },
  {
   "cell_type": "code",
   "execution_count": null,
   "metadata": {},
   "outputs": [],
   "source": [
    "files = []\n",
    "for _files in s2l2a_df['files']:\n",
    "    files += _files.split(',')\n",
    "\n",
    "dict(zip(*np.unique(files, return_counts=True)))"
   ]
  },
  {
   "cell_type": "code",
   "execution_count": null,
   "metadata": {},
   "outputs": [],
   "source": [
    "s2l2a_df[s2l2a_df['files'].apply(lambda x: 'B01.jp2' not in x)]"
   ]
  },
  {
   "cell_type": "code",
   "execution_count": null,
   "metadata": {},
   "outputs": [],
   "source": []
  },
  {
   "cell_type": "code",
   "execution_count": null,
   "metadata": {},
   "outputs": [],
   "source": [
    "sqlite_db_utils.fetch_rows_from_db(\n",
    "    database = db_path,\n",
    "    table = s2l1c_table,\n",
    ")"
   ]
  },
  {
   "cell_type": "code",
   "execution_count": null,
   "metadata": {},
   "outputs": [],
   "source": [
    "db_gdf = sqlite_db_utils.fetch_rows_from_db(\n",
    "    database = db_path,\n",
    "    table = s2l1c_table,\n",
    "    # columns = ['id', 'geometry']\n",
    ")"
   ]
  },
  {
   "cell_type": "code",
   "execution_count": null,
   "metadata": {},
   "outputs": [],
   "source": [
    "db_gdf['satellite'].value_counts()"
   ]
  },
  {
   "cell_type": "code",
   "execution_count": null,
   "metadata": {},
   "outputs": [],
   "source": [
    "selected_id = s2_satellite_catalog_gdf['id'][0]\n",
    "selected_id"
   ]
  },
  {
   "cell_type": "code",
   "execution_count": null,
   "metadata": {},
   "outputs": [],
   "source": [
    "selected_id = s2_satellite_catalog_gdf['id'][0]\n",
    "selected_id"
   ]
  },
  {
   "cell_type": "code",
   "execution_count": null,
   "metadata": {},
   "outputs": [],
   "source": [
    "satellite_filepaths = fetch_from_cluster.download_sentinel2_satellite(\n",
    "    id = selected_id,\n",
    "    sshcreds = mysecrets.SSH_UMD,\n",
    "    satellite_folderpath = config.FOLDERPATH_SATELLITE,\n",
    ")"
   ]
  },
  {
   "cell_type": "code",
   "execution_count": null,
   "metadata": {},
   "outputs": [],
   "source": [
    "satellite_filepaths"
   ]
  }
 ],
 "metadata": {
  "kernelspec": {
   "display_name": ".venv",
   "language": "python",
   "name": "python3"
  },
  "language_info": {
   "codemirror_mode": {
    "name": "ipython",
    "version": 3
   },
   "file_extension": ".py",
   "mimetype": "text/x-python",
   "name": "python",
   "nbconvert_exporter": "python",
   "pygments_lexer": "ipython3",
   "version": "3.10.14"
  }
 },
 "nbformat": 4,
 "nbformat_minor": 2
}

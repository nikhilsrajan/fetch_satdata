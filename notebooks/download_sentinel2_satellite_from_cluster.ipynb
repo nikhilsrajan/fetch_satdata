{
 "cells": [
  {
   "cell_type": "code",
   "execution_count": null,
   "metadata": {},
   "outputs": [],
   "source": [
    "import matplotlib.pyplot as plt\n",
    "import seaborn as sns\n",
    "import datetime\n",
    "import os"
   ]
  },
  {
   "cell_type": "code",
   "execution_count": null,
   "metadata": {},
   "outputs": [],
   "source": [
    "import sys\n",
    "sys.path.append('..')"
   ]
  },
  {
   "cell_type": "code",
   "execution_count": null,
   "metadata": {},
   "outputs": [],
   "source": [
    "import mysecrets\n",
    "import config\n",
    "import fetch_from_cluster\n",
    "import catalogmanager"
   ]
  },
  {
   "cell_type": "code",
   "execution_count": null,
   "metadata": {},
   "outputs": [],
   "source": [
    "s2_satellite_catalog_gdf = \\\n",
    "fetch_from_cluster.load_satellite_sentinel2_catalog(\n",
    "    sshcreds = mysecrets.SSH_UMD,\n",
    "    satellite_folderpath = config.FOLDERPATH_SATELLITE,\n",
    "    # overwrite = True,\n",
    ")"
   ]
  },
  {
   "cell_type": "code",
   "execution_count": null,
   "metadata": {},
   "outputs": [],
   "source": [
    "scale = 5\n",
    "aspect_ratio = 2\n",
    "fig, ax = plt.subplots(figsize=(scale*aspect_ratio, scale))\n",
    "\n",
    "g = sns.histplot(\n",
    "    data = s2_satellite_catalog_gdf[\n",
    "        s2_satellite_catalog_gdf['last_update'] >= catalogmanager.dt2ts(dt=datetime.datetime(2025, 1, 1))\n",
    "    ],\n",
    "    x = 'last_update',\n",
    ")"
   ]
  },
  {
   "cell_type": "code",
   "execution_count": null,
   "metadata": {},
   "outputs": [],
   "source": [
    "s2l2a_catalog_gdf = s2_satellite_catalog_gdf[\n",
    "    s2_satellite_catalog_gdf['satellite'] == 'sentinel-2-l2a'\n",
    "]"
   ]
  },
  {
   "cell_type": "code",
   "execution_count": null,
   "metadata": {},
   "outputs": [],
   "source": [
    "s2l2a_catalog_gdf[s2l2a_catalog_gdf['files'].apply(lambda x: 'B01.jp2' not in x)]['s3url'].tolist()[0]"
   ]
  },
  {
   "cell_type": "code",
   "execution_count": null,
   "metadata": {},
   "outputs": [],
   "source": [
    "import cdseutils.sentinel2"
   ]
  },
  {
   "cell_type": "code",
   "execution_count": null,
   "metadata": {},
   "outputs": [],
   "source": [
    "cdseutils.sentinel2.get_s3paths_single_url(\n",
    "    s3url = 's3://EODATA/Sentinel-2/MSI/L2A/2022/01/03/S2A_MSIL2A_20220103T074321_N0301_R092_T37PDK_20220103T104053.SAFE',\n",
    "    s3_creds = cdseutils.utils.cdse_credentials_from_json('../data/cdse_credentials.json').s3_creds,\n",
    "    satellite = cdseutils.constants.Bands.S2L2A.NAME,\n",
    "    root_folderpath = './',\n",
    "    bands = cdseutils.constants.Bands.S2L2A.ALL,\n",
    ")"
   ]
  },
  {
   "cell_type": "code",
   "execution_count": null,
   "metadata": {},
   "outputs": [],
   "source": [
    "[1,2,3][-2:]"
   ]
  },
  {
   "cell_type": "code",
   "execution_count": null,
   "metadata": {},
   "outputs": [],
   "source": [
    "s2_satellite_catalog_gdf.shape"
   ]
  },
  {
   "cell_type": "code",
   "execution_count": null,
   "metadata": {},
   "outputs": [],
   "source": [
    "selected_id = s2_satellite_catalog_gdf['id'][0]\n",
    "selected_id"
   ]
  },
  {
   "cell_type": "code",
   "execution_count": null,
   "metadata": {},
   "outputs": [],
   "source": [
    "selected_id = s2_satellite_catalog_gdf['id'][0]\n",
    "selected_id"
   ]
  },
  {
   "cell_type": "code",
   "execution_count": null,
   "metadata": {},
   "outputs": [],
   "source": [
    "satellite_filepaths = fetch_from_cluster.download_sentinel2_satellite(\n",
    "    id = selected_id,\n",
    "    sshcreds = mysecrets.SSH_UMD,\n",
    "    satellite_folderpath = config.FOLDERPATH_SATELLITE,\n",
    ")"
   ]
  },
  {
   "cell_type": "code",
   "execution_count": null,
   "metadata": {},
   "outputs": [],
   "source": [
    "satellite_filepaths"
   ]
  },
  {
   "cell_type": "code",
   "execution_count": null,
   "metadata": {},
   "outputs": [],
   "source": []
  }
 ],
 "metadata": {
  "kernelspec": {
   "display_name": ".venv",
   "language": "python",
   "name": "python3"
  },
  "language_info": {
   "codemirror_mode": {
    "name": "ipython",
    "version": 3
   },
   "file_extension": ".py",
   "mimetype": "text/x-python",
   "name": "python",
   "nbconvert_exporter": "python",
   "pygments_lexer": "ipython3",
   "version": "3.10.14"
  }
 },
 "nbformat": 4,
 "nbformat_minor": 2
}

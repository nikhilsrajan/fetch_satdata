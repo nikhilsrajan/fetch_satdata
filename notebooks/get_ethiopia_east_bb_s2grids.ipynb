{
 "cells": [
  {
   "cell_type": "code",
   "execution_count": 6,
   "metadata": {},
   "outputs": [],
   "source": [
    "import geopandas as gpd\n",
    "import pandas as pd\n",
    "import datetime"
   ]
  },
  {
   "cell_type": "code",
   "execution_count": 2,
   "metadata": {},
   "outputs": [],
   "source": [
    "import sys\n",
    "sys.path.append('..')"
   ]
  },
  {
   "cell_type": "code",
   "execution_count": 3,
   "metadata": {},
   "outputs": [],
   "source": [
    "import rsutils.s2_grid_utils\n",
    "import create_datacube"
   ]
  },
  {
   "cell_type": "code",
   "execution_count": 4,
   "metadata": {},
   "outputs": [],
   "source": [
    "roi_filepath = '../../ethiopia/data/Ethiopia_Bounding_Boxs/Ethiopia_2021_East_Bounding_Box.shp'"
   ]
  },
  {
   "cell_type": "code",
   "execution_count": 5,
   "metadata": {},
   "outputs": [],
   "source": [
    "east_bb_gdf = gpd.read_file(roi_filepath).to_crs('epsg:4326')"
   ]
  },
  {
   "cell_type": "code",
   "execution_count": null,
   "metadata": {},
   "outputs": [],
   "source": [
    "create_datacube.get_intersecting_band_filepaths(\n",
    "    shapes_gdf = east_bb_gdf,\n",
    "    catalog_filepath = '../data/satellite/Sentinel-2/catalog.geojson',\n",
    "    startdate = datetime.datetime(2021, 3, 1),\n",
    "    enddate = datetime.datetime(2022, 1, 31),\n",
    "    bands = ['B08']\n",
    ")"
   ]
  },
  {
   "cell_type": "code",
   "execution_count": null,
   "metadata": {},
   "outputs": [],
   "source": [
    "east_bb_gdf"
   ]
  },
  {
   "cell_type": "code",
   "execution_count": 9,
   "metadata": {},
   "outputs": [],
   "source": [
    "east_bb_s2grids_gdf = rsutils.s2_grid_utils.get_s2_grids_gdf(geojson_epsg_4326=east_bb_gdf['geometry'][0])"
   ]
  },
  {
   "cell_type": "code",
   "execution_count": 15,
   "metadata": {},
   "outputs": [],
   "source": [
    "pd.DataFrame(\n",
    "    east_bb_s2grids_gdf[['id']].rename(columns={'id':'s2gridid'})\n",
    ").to_csv('../data/ethiopia_east_bb_s2grids.csv', index=False)"
   ]
  },
  {
   "cell_type": "code",
   "execution_count": 16,
   "metadata": {},
   "outputs": [],
   "source": [
    "datacube_catalog_gdf = gpd.read_file('../data/cluster_files/catalog.geojson')"
   ]
  },
  {
   "cell_type": "code",
   "execution_count": 19,
   "metadata": {},
   "outputs": [],
   "source": [
    "east_bb_s2grids_gdf[\n",
    "    ~east_bb_s2grids_gdf['id'].isin(datacube_catalog_gdf['roi_name'])\n",
    "][['id']].rename(columns={'id':'s2gridid'}).to_csv('../data/failed_ethiopia_east_bb_s2grids.csv', index=False)"
   ]
  },
  {
   "cell_type": "code",
   "execution_count": null,
   "metadata": {},
   "outputs": [],
   "source": []
  }
 ],
 "metadata": {
  "kernelspec": {
   "display_name": ".venv",
   "language": "python",
   "name": "python3"
  },
  "language_info": {
   "codemirror_mode": {
    "name": "ipython",
    "version": 3
   },
   "file_extension": ".py",
   "mimetype": "text/x-python",
   "name": "python",
   "nbconvert_exporter": "python",
   "pygments_lexer": "ipython3",
   "version": "3.10.14"
  }
 },
 "nbformat": 4,
 "nbformat_minor": 2
}

{
 "cells": [
  {
   "cell_type": "code",
   "execution_count": 1,
   "metadata": {},
   "outputs": [],
   "source": [
    "import geopandas as gpd\n",
    "import pandas as pd\n",
    "import datetime\n",
    "import shapely"
   ]
  },
  {
   "cell_type": "code",
   "execution_count": 2,
   "metadata": {},
   "outputs": [],
   "source": [
    "import sys\n",
    "sys.path.append('..')"
   ]
  },
  {
   "cell_type": "code",
   "execution_count": 3,
   "metadata": {},
   "outputs": [],
   "source": [
    "import rsutils.s2_grid_utils\n",
    "import create_datacube\n",
    "import sqlite_db_utils"
   ]
  },
  {
   "cell_type": "code",
   "execution_count": 4,
   "metadata": {},
   "outputs": [],
   "source": [
    "roi_filepaths = {\n",
    "    'north': '../../nh_crop_calendar/crop_calendar/data/Ethiopia_Bounding_Boxs/Ethiopia_2019_North_Bounding_Box.shp',\n",
    "    'east': '../../nh_crop_calendar/crop_calendar/data/Ethiopia_Bounding_Boxs/Ethiopia_2021_East_Bounding_Box.shp',\n",
    "    'west': '../../nh_crop_calendar/crop_calendar/data/Ethiopia_Bounding_Boxs/Ethiopia_2021_West_Bounding_Box.shp',\n",
    "}"
   ]
  },
  {
   "cell_type": "code",
   "execution_count": 5,
   "metadata": {},
   "outputs": [],
   "source": [
    "combined_gdf = gpd.GeoDataFrame(\n",
    "    pd.concat([gpd.read_file(fp).to_crs('epsg:4326') for fp in roi_filepaths.values()]),\n",
    "    crs = 'epsg:4326',\n",
    ")"
   ]
  },
  {
   "cell_type": "code",
   "execution_count": 6,
   "metadata": {},
   "outputs": [],
   "source": [
    "s2grids_gdf = rsutils.s2_grid_utils.get_s2_grids_gdf(\n",
    "    geojson_epsg_4326 = shapely.unary_union(\n",
    "        combined_gdf['geometry']\n",
    "    ).__geo_interface__\n",
    ")"
   ]
  },
  {
   "cell_type": "code",
   "execution_count": 7,
   "metadata": {},
   "outputs": [],
   "source": [
    "s2grids_gdf.loc[s2grids_gdf.intersects(gpd.read_file(roi_filepaths['north']).to_crs('epsg:4326')['geometry'][0]), 'bounding_box'] = 'north_2019'\n",
    "s2grids_gdf.loc[s2grids_gdf.intersects(gpd.read_file(roi_filepaths['east']).to_crs('epsg:4326')['geometry'][0]), 'bounding_box'] = 'east_2021'\n",
    "s2grids_gdf.loc[s2grids_gdf.intersects(gpd.read_file(roi_filepaths['west']).to_crs('epsg:4326')['geometry'][0]), 'bounding_box'] = 'west_2021'"
   ]
  },
  {
   "cell_type": "code",
   "execution_count": 8,
   "metadata": {},
   "outputs": [
    {
     "data": {
      "text/plain": [
       "bounding_box\n",
       "east_2021     580\n",
       "north_2019    351\n",
       "west_2021     113\n",
       "Name: count, dtype: int64"
      ]
     },
     "execution_count": 8,
     "metadata": {},
     "output_type": "execute_result"
    }
   ],
   "source": [
    "s2grids_gdf['bounding_box'].value_counts()"
   ]
  },
  {
   "cell_type": "code",
   "execution_count": 9,
   "metadata": {},
   "outputs": [
    {
     "data": {
      "text/html": [
       "<div>\n",
       "<style scoped>\n",
       "    .dataframe tbody tr th:only-of-type {\n",
       "        vertical-align: middle;\n",
       "    }\n",
       "\n",
       "    .dataframe tbody tr th {\n",
       "        vertical-align: top;\n",
       "    }\n",
       "\n",
       "    .dataframe thead th {\n",
       "        text-align: right;\n",
       "    }\n",
       "</style>\n",
       "<table border=\"1\" class=\"dataframe\">\n",
       "  <thead>\n",
       "    <tr style=\"text-align: right;\">\n",
       "      <th></th>\n",
       "      <th>geometry</th>\n",
       "      <th>bounding_box</th>\n",
       "      <th>roi</th>\n",
       "    </tr>\n",
       "  </thead>\n",
       "  <tbody>\n",
       "    <tr>\n",
       "      <th>0</th>\n",
       "      <td>POLYGON ((37.29507 11.75306, 37.34212 11.74591...</td>\n",
       "      <td>north_2019</td>\n",
       "      <td>s2grid=1644b54</td>\n",
       "    </tr>\n",
       "    <tr>\n",
       "      <th>1</th>\n",
       "      <td>POLYGON ((37.33784 11.74656, 37.38486 11.73941...</td>\n",
       "      <td>north_2019</td>\n",
       "      <td>s2grid=1644b5c</td>\n",
       "    </tr>\n",
       "    <tr>\n",
       "      <th>2</th>\n",
       "      <td>POLYGON ((37.38059 11.74006, 37.42758 11.7329,...</td>\n",
       "      <td>north_2019</td>\n",
       "      <td>s2grid=1644b64</td>\n",
       "    </tr>\n",
       "    <tr>\n",
       "      <th>3</th>\n",
       "      <td>POLYGON ((37.38059 11.77803, 37.42758 11.77085...</td>\n",
       "      <td>north_2019</td>\n",
       "      <td>s2grid=1644b6c</td>\n",
       "    </tr>\n",
       "    <tr>\n",
       "      <th>4</th>\n",
       "      <td>POLYGON ((37.42331 11.7715, 37.47027 11.76432,...</td>\n",
       "      <td>north_2019</td>\n",
       "      <td>s2grid=1644b74</td>\n",
       "    </tr>\n",
       "    <tr>\n",
       "      <th>...</th>\n",
       "      <td>...</td>\n",
       "      <td>...</td>\n",
       "      <td>...</td>\n",
       "    </tr>\n",
       "    <tr>\n",
       "      <th>1039</th>\n",
       "      <td>POLYGON ((39.36005 8.17639, 39.40566 8.17112, ...</td>\n",
       "      <td>east_2021</td>\n",
       "      <td>s2grid=17b52bc</td>\n",
       "    </tr>\n",
       "    <tr>\n",
       "      <th>1040</th>\n",
       "      <td>POLYGON ((39.40152 8.1716, 39.4471 8.16633, 39...</td>\n",
       "      <td>east_2021</td>\n",
       "      <td>s2grid=17b52c4</td>\n",
       "    </tr>\n",
       "    <tr>\n",
       "      <th>1041</th>\n",
       "      <td>POLYGON ((39.40152 8.20686, 39.4471 8.20156, 3...</td>\n",
       "      <td>east_2021</td>\n",
       "      <td>s2grid=17b52cc</td>\n",
       "    </tr>\n",
       "    <tr>\n",
       "      <th>1042</th>\n",
       "      <td>POLYGON ((39.40152 8.13637, 39.4471 8.13112, 3...</td>\n",
       "      <td>east_2021</td>\n",
       "      <td>s2grid=17b52ec</td>\n",
       "    </tr>\n",
       "    <tr>\n",
       "      <th>1043</th>\n",
       "      <td>POLYGON ((39.40152 8.10115, 39.4471 8.09593, 3...</td>\n",
       "      <td>east_2021</td>\n",
       "      <td>s2grid=17b52f4</td>\n",
       "    </tr>\n",
       "  </tbody>\n",
       "</table>\n",
       "<p>1044 rows × 3 columns</p>\n",
       "</div>"
      ],
      "text/plain": [
       "                                               geometry bounding_box  \\\n",
       "0     POLYGON ((37.29507 11.75306, 37.34212 11.74591...   north_2019   \n",
       "1     POLYGON ((37.33784 11.74656, 37.38486 11.73941...   north_2019   \n",
       "2     POLYGON ((37.38059 11.74006, 37.42758 11.7329,...   north_2019   \n",
       "3     POLYGON ((37.38059 11.77803, 37.42758 11.77085...   north_2019   \n",
       "4     POLYGON ((37.42331 11.7715, 37.47027 11.76432,...   north_2019   \n",
       "...                                                 ...          ...   \n",
       "1039  POLYGON ((39.36005 8.17639, 39.40566 8.17112, ...    east_2021   \n",
       "1040  POLYGON ((39.40152 8.1716, 39.4471 8.16633, 39...    east_2021   \n",
       "1041  POLYGON ((39.40152 8.20686, 39.4471 8.20156, 3...    east_2021   \n",
       "1042  POLYGON ((39.40152 8.13637, 39.4471 8.13112, 3...    east_2021   \n",
       "1043  POLYGON ((39.40152 8.10115, 39.4471 8.09593, 3...    east_2021   \n",
       "\n",
       "                 roi  \n",
       "0     s2grid=1644b54  \n",
       "1     s2grid=1644b5c  \n",
       "2     s2grid=1644b64  \n",
       "3     s2grid=1644b6c  \n",
       "4     s2grid=1644b74  \n",
       "...              ...  \n",
       "1039  s2grid=17b52bc  \n",
       "1040  s2grid=17b52c4  \n",
       "1041  s2grid=17b52cc  \n",
       "1042  s2grid=17b52ec  \n",
       "1043  s2grid=17b52f4  \n",
       "\n",
       "[1044 rows x 3 columns]"
      ]
     },
     "execution_count": 9,
     "metadata": {},
     "output_type": "execute_result"
    }
   ],
   "source": [
    "s2grids_gdf['roi'] = 's2grid=' + s2grids_gdf['id']\n",
    "del s2grids_gdf['id']\n",
    "s2grids_gdf"
   ]
  },
  {
   "cell_type": "code",
   "execution_count": null,
   "metadata": {},
   "outputs": [],
   "source": []
  },
  {
   "cell_type": "code",
   "execution_count": 10,
   "metadata": {},
   "outputs": [],
   "source": [
    "LOCAL_DATACUBE_CATALOG_DB_PATH = '../data/datacubes/catalog.db'"
   ]
  },
  {
   "cell_type": "code",
   "execution_count": 11,
   "metadata": {},
   "outputs": [],
   "source": [
    "s2l2a_datacube_catalog_gdf = sqlite_db_utils.fetch_rows_from_db(\n",
    "    database = LOCAL_DATACUBE_CATALOG_DB_PATH,\n",
    "    table = 'sentinel-2-l2a',\n",
    "    timestamp_cols = ['last_update', 'startdate', 'enddate']\n",
    ")"
   ]
  },
  {
   "cell_type": "code",
   "execution_count": 12,
   "metadata": {},
   "outputs": [],
   "source": [
    "bb_s2l2a_datacube_catalog_gdf = s2l2a_datacube_catalog_gdf[\n",
    "    s2l2a_datacube_catalog_gdf['roi'].isin(s2grids_gdf['roi'])\n",
    "]"
   ]
  },
  {
   "cell_type": "code",
   "execution_count": 13,
   "metadata": {},
   "outputs": [
    {
     "name": "stderr",
     "output_type": "stream",
     "text": [
      "/var/folders/3c/6mw9fk952gv0vj80_n9sfr7m0000gn/T/ipykernel_57414/1429310321.py:1: SettingWithCopyWarning: \n",
      "A value is trying to be set on a copy of a slice from a DataFrame.\n",
      "Try using .loc[row_indexer,col_indexer] = value instead\n",
      "\n",
      "See the caveats in the documentation: https://pandas.pydata.org/pandas-docs/stable/user_guide/indexing.html#returning-a-view-versus-a-copy\n",
      "  bb_s2l2a_datacube_catalog_gdf['datacube_filepaths'] = bb_s2l2a_datacube_catalog_gdf['local_folderpath'] + '/datacube.npy'\n"
     ]
    }
   ],
   "source": [
    "bb_s2l2a_datacube_catalog_gdf['datacube_filepaths'] = bb_s2l2a_datacube_catalog_gdf['local_folderpath'] + '/datacube.npy'"
   ]
  },
  {
   "cell_type": "code",
   "execution_count": 14,
   "metadata": {},
   "outputs": [],
   "source": [
    "bb_s2l2a_datacube_catalog_gdf.to_csv('../data/ethiopia/model_deploy_boundingboxes_2019-2022.csv', index=False)"
   ]
  },
  {
   "cell_type": "code",
   "execution_count": 15,
   "metadata": {},
   "outputs": [],
   "source": [
    "s2grids_gdf.to_file('../data/ethiopia/boundingboxes_s2grids.geojson')"
   ]
  },
  {
   "cell_type": "code",
   "execution_count": null,
   "metadata": {},
   "outputs": [],
   "source": []
  },
  {
   "cell_type": "code",
   "execution_count": null,
   "metadata": {},
   "outputs": [],
   "source": []
  },
  {
   "cell_type": "code",
   "execution_count": null,
   "metadata": {},
   "outputs": [],
   "source": []
  },
  {
   "cell_type": "code",
   "execution_count": null,
   "metadata": {},
   "outputs": [],
   "source": []
  },
  {
   "cell_type": "code",
   "execution_count": null,
   "metadata": {},
   "outputs": [],
   "source": []
  },
  {
   "cell_type": "code",
   "execution_count": null,
   "metadata": {},
   "outputs": [],
   "source": []
  },
  {
   "cell_type": "code",
   "execution_count": null,
   "metadata": {},
   "outputs": [],
   "source": [
    "s2grids_gdf.to_file('../data/ethiopia/bb_s2grids.geojson')"
   ]
  },
  {
   "cell_type": "code",
   "execution_count": null,
   "metadata": {},
   "outputs": [],
   "source": [
    "pd.DataFrame(\n",
    "    s2grids_gdf[['id']].rename(columns={'id':'s2gridid'})\n",
    ").to_csv('../data/ethiopia_bb_s2grids.csv', index=False)"
   ]
  },
  {
   "cell_type": "code",
   "execution_count": null,
   "metadata": {},
   "outputs": [],
   "source": [
    "with open('../data/ethiopia/boundingboxes_s2grids.txt', 'w') as f:\n",
    "    f.writelines('s2grid=' + s2grids_gdf['id'] + '\\n')"
   ]
  },
  {
   "cell_type": "code",
   "execution_count": null,
   "metadata": {},
   "outputs": [],
   "source": []
  }
 ],
 "metadata": {
  "kernelspec": {
   "display_name": ".venv",
   "language": "python",
   "name": "python3"
  },
  "language_info": {
   "codemirror_mode": {
    "name": "ipython",
    "version": 3
   },
   "file_extension": ".py",
   "mimetype": "text/x-python",
   "name": "python",
   "nbconvert_exporter": "python",
   "pygments_lexer": "ipython3",
   "version": "3.10.14"
  }
 },
 "nbformat": 4,
 "nbformat_minor": 2
}

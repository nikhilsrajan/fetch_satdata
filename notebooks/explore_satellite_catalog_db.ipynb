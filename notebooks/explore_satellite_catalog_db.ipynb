{
 "cells": [
  {
   "cell_type": "code",
   "execution_count": null,
   "metadata": {},
   "outputs": [],
   "source": [
    "import os\n",
    "import matplotlib.pyplot as plt\n",
    "import seaborn as sns\n",
    "import pandas as pd\n",
    "import geopandas as gpd\n",
    "import datetime"
   ]
  },
  {
   "cell_type": "code",
   "execution_count": null,
   "metadata": {},
   "outputs": [],
   "source": [
    "import sys\n",
    "sys.path.append('..')"
   ]
  },
  {
   "cell_type": "code",
   "execution_count": null,
   "metadata": {},
   "outputs": [],
   "source": [
    "import sshutils\n",
    "import mysecrets\n",
    "import sqlite_db_utils\n",
    "import rsutils.s2_grid_utils"
   ]
  },
  {
   "cell_type": "code",
   "execution_count": null,
   "metadata": {},
   "outputs": [],
   "source": [
    "LOCAL_SATELLITE_CATALOG_DB_PATH = '../data/satellite/catalog.db'"
   ]
  },
  {
   "cell_type": "code",
   "execution_count": null,
   "metadata": {},
   "outputs": [],
   "source": [
    "sshutils.download_file_from_cluster(\n",
    "    sshcreds = mysecrets.SSH_UMD,\n",
    "    remotepath = '/gpfs/data1/cmongp2/sasirajann/fetch_satdata/data/satellite/catalog.db',\n",
    "    download_filepath = LOCAL_SATELLITE_CATALOG_DB_PATH,\n",
    "    overwrite = True,\n",
    ")"
   ]
  },
  {
   "cell_type": "code",
   "execution_count": null,
   "metadata": {},
   "outputs": [],
   "source": [
    "sqlite_db_utils.get_tables_in_db(\n",
    "    database = LOCAL_SATELLITE_CATALOG_DB_PATH,\n",
    ")"
   ]
  },
  {
   "cell_type": "code",
   "execution_count": null,
   "metadata": {},
   "outputs": [],
   "source": [
    "s2l2a_satellite_catalog_gdf = sqlite_db_utils.fetch_rows_from_db(\n",
    "    database = LOCAL_SATELLITE_CATALOG_DB_PATH,\n",
    "    table = 'sentinel-2-l2a',\n",
    "    timestamp_cols = ['last_update', 'timestamp']\n",
    ")"
   ]
  },
  {
   "cell_type": "code",
   "execution_count": null,
   "metadata": {},
   "outputs": [],
   "source": [
    "scale = 5\n",
    "aspect_ratio = 3\n",
    "fig, ax = plt.subplots(figsize=(scale*aspect_ratio, scale))\n",
    "\n",
    "g = sns.histplot(\n",
    "    ax = ax,\n",
    "    data = s2l2a_satellite_catalog_gdf[\n",
    "        s2l2a_satellite_catalog_gdf['last_update'] > pd.Timestamp('2025-03-01', tz='UTC')\n",
    "    ],\n",
    "    x = 'last_update',\n",
    "    bins = 100,\n",
    ")"
   ]
  },
  {
   "cell_type": "code",
   "execution_count": null,
   "metadata": {},
   "outputs": [],
   "source": []
  }
 ],
 "metadata": {
  "kernelspec": {
   "display_name": ".venv_w_sklearn",
   "language": "python",
   "name": "python3"
  },
  "language_info": {
   "codemirror_mode": {
    "name": "ipython",
    "version": 3
   },
   "file_extension": ".py",
   "mimetype": "text/x-python",
   "name": "python",
   "nbconvert_exporter": "python",
   "pygments_lexer": "ipython3",
   "version": "3.10.14"
  }
 },
 "nbformat": 4,
 "nbformat_minor": 2
}
